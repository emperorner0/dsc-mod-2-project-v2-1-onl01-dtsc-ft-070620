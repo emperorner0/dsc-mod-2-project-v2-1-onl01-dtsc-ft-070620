{
 "cells": [
  {
   "cell_type": "markdown",
   "metadata": {},
   "source": [
    "Final Project Submission\n",
    "\n",
    "Please fill out:\n",
    "* Student name: \n",
    "* Student pace: self paced / part time / full time\n",
    "* Scheduled project review date/time: \n",
    "* Instructor name: \n",
    "* Blog post URL:\n"
   ]
  },
  {
   "cell_type": "code",
   "execution_count": 1,
   "metadata": {
    "ExecuteTime": {
     "end_time": "2020-08-28T20:51:05.872841Z",
     "start_time": "2020-08-28T20:51:01.766672Z"
    }
   },
   "outputs": [
    {
     "name": "stderr",
     "output_type": "stream",
     "text": [
      "C:\\Users\\Nero_\\anaconda3\\envs\\learn-env\\lib\\site-packages\\statsmodels\\tools\\_testing.py:19: FutureWarning: pandas.util.testing is deprecated. Use the functions in the public API at pandas.testing instead.\n",
      "  import pandas.util.testing as tm\n"
     ]
    }
   ],
   "source": [
    "import pandas as pd\n",
    "import numpy as np\n",
    "import seaborn as sns\n",
    "import matplotlib.pyplot as plt\n",
    "from scipy import stats\n",
    "import plotly.express as px\n",
    "import statsmodels.api as sm\n",
    "import statsmodels.formula.api as smf\n",
    "import matplotlib as mpl\n",
    "import warnings\n",
    "from sklearn.preprocessing import MinMaxScaler\n",
    "from sklearn.model_selection import train_test_split\n",
    "from sklearn.metrics import r2_score\n",
    "\n",
    "%matplotlib inline"
   ]
  },
  {
   "cell_type": "code",
   "execution_count": 2,
   "metadata": {
    "ExecuteTime": {
     "end_time": "2020-08-28T20:51:05.876845Z",
     "start_time": "2020-08-28T20:51:05.873843Z"
    }
   },
   "outputs": [],
   "source": [
    "pd.set_option('display.max_columns',0)\n",
    "pd.set_option('display.float_format', lambda x: '%.3f' % x)\n"
   ]
  },
  {
   "cell_type": "code",
   "execution_count": 3,
   "metadata": {
    "ExecuteTime": {
     "end_time": "2020-08-28T20:51:05.883851Z",
     "start_time": "2020-08-28T20:51:05.878847Z"
    }
   },
   "outputs": [],
   "source": [
    "priceFmt = mpl.ticker.StrMethodFormatter(\"${x:,.0f}\")\n",
    "\n",
    "def plot_data(X,y,xlabel,ylabel='Price'):\n",
    "    \"\"\" Code courtesy of James Irving\"\"\"\n",
    "    fig, ax = plt.subplots()\n",
    "    \n",
    "    ax.scatter(X,y,marker='.')\n",
    "    \n",
    "    ax.set(xlabel=xlabel,ylabel=ylabel)\n",
    "    ax.set_title(f'{xlabel} vs {ylabel}')\n",
    "    \n",
    "    ax.yaxis.set_major_formatter(priceFmt)\n",
    "    return fig,ax"
   ]
  },
  {
   "cell_type": "code",
   "execution_count": 4,
   "metadata": {
    "ExecuteTime": {
     "end_time": "2020-08-28T20:51:05.890857Z",
     "start_time": "2020-08-28T20:51:05.885853Z"
    }
   },
   "outputs": [],
   "source": [
    "warnings.filterwarnings('ignore')"
   ]
  },
  {
   "cell_type": "code",
   "execution_count": 5,
   "metadata": {
    "ExecuteTime": {
     "end_time": "2020-08-28T20:51:05.896863Z",
     "start_time": "2020-08-28T20:51:05.891859Z"
    }
   },
   "outputs": [],
   "source": [
    "plt.rcParams['figure.figsize'] = (15,10)"
   ]
  },
  {
   "cell_type": "markdown",
   "metadata": {},
   "source": [
    "## Obtain"
   ]
  },
  {
   "cell_type": "code",
   "execution_count": 6,
   "metadata": {
    "ExecuteTime": {
     "end_time": "2020-08-28T20:51:05.955167Z",
     "start_time": "2020-08-28T20:51:05.897863Z"
    }
   },
   "outputs": [],
   "source": [
    "## Reading in data from CSV and create a copy to work on  \n",
    "info = pd.read_csv('kc_house_data.csv')\n",
    "data = info.copy()"
   ]
  },
  {
   "cell_type": "code",
   "execution_count": 7,
   "metadata": {
    "ExecuteTime": {
     "end_time": "2020-08-28T20:51:05.994203Z",
     "start_time": "2020-08-28T20:51:05.956169Z"
    }
   },
   "outputs": [
    {
     "data": {
      "text/html": [
       "<div>\n",
       "<style scoped>\n",
       "    .dataframe tbody tr th:only-of-type {\n",
       "        vertical-align: middle;\n",
       "    }\n",
       "\n",
       "    .dataframe tbody tr th {\n",
       "        vertical-align: top;\n",
       "    }\n",
       "\n",
       "    .dataframe thead th {\n",
       "        text-align: right;\n",
       "    }\n",
       "</style>\n",
       "<table border=\"1\" class=\"dataframe\">\n",
       "  <thead>\n",
       "    <tr style=\"text-align: right;\">\n",
       "      <th></th>\n",
       "      <th>id</th>\n",
       "      <th>date</th>\n",
       "      <th>price</th>\n",
       "      <th>bedrooms</th>\n",
       "      <th>bathrooms</th>\n",
       "      <th>sqft_living</th>\n",
       "      <th>sqft_lot</th>\n",
       "      <th>floors</th>\n",
       "      <th>waterfront</th>\n",
       "      <th>view</th>\n",
       "      <th>condition</th>\n",
       "      <th>grade</th>\n",
       "      <th>sqft_above</th>\n",
       "      <th>sqft_basement</th>\n",
       "      <th>yr_built</th>\n",
       "      <th>yr_renovated</th>\n",
       "      <th>zipcode</th>\n",
       "      <th>lat</th>\n",
       "      <th>long</th>\n",
       "      <th>sqft_living15</th>\n",
       "      <th>sqft_lot15</th>\n",
       "    </tr>\n",
       "  </thead>\n",
       "  <tbody>\n",
       "    <tr>\n",
       "      <th>0</th>\n",
       "      <td>7129300520</td>\n",
       "      <td>10/13/2014</td>\n",
       "      <td>221900.000</td>\n",
       "      <td>3</td>\n",
       "      <td>1.000</td>\n",
       "      <td>1180</td>\n",
       "      <td>5650</td>\n",
       "      <td>1.000</td>\n",
       "      <td>nan</td>\n",
       "      <td>0.000</td>\n",
       "      <td>3</td>\n",
       "      <td>7</td>\n",
       "      <td>1180</td>\n",
       "      <td>0.0</td>\n",
       "      <td>1955</td>\n",
       "      <td>0.000</td>\n",
       "      <td>98178</td>\n",
       "      <td>47.511</td>\n",
       "      <td>-122.257</td>\n",
       "      <td>1340</td>\n",
       "      <td>5650</td>\n",
       "    </tr>\n",
       "    <tr>\n",
       "      <th>1</th>\n",
       "      <td>6414100192</td>\n",
       "      <td>12/9/2014</td>\n",
       "      <td>538000.000</td>\n",
       "      <td>3</td>\n",
       "      <td>2.250</td>\n",
       "      <td>2570</td>\n",
       "      <td>7242</td>\n",
       "      <td>2.000</td>\n",
       "      <td>0.000</td>\n",
       "      <td>0.000</td>\n",
       "      <td>3</td>\n",
       "      <td>7</td>\n",
       "      <td>2170</td>\n",
       "      <td>400.0</td>\n",
       "      <td>1951</td>\n",
       "      <td>1991.000</td>\n",
       "      <td>98125</td>\n",
       "      <td>47.721</td>\n",
       "      <td>-122.319</td>\n",
       "      <td>1690</td>\n",
       "      <td>7639</td>\n",
       "    </tr>\n",
       "    <tr>\n",
       "      <th>2</th>\n",
       "      <td>5631500400</td>\n",
       "      <td>2/25/2015</td>\n",
       "      <td>180000.000</td>\n",
       "      <td>2</td>\n",
       "      <td>1.000</td>\n",
       "      <td>770</td>\n",
       "      <td>10000</td>\n",
       "      <td>1.000</td>\n",
       "      <td>0.000</td>\n",
       "      <td>0.000</td>\n",
       "      <td>3</td>\n",
       "      <td>6</td>\n",
       "      <td>770</td>\n",
       "      <td>0.0</td>\n",
       "      <td>1933</td>\n",
       "      <td>nan</td>\n",
       "      <td>98028</td>\n",
       "      <td>47.738</td>\n",
       "      <td>-122.233</td>\n",
       "      <td>2720</td>\n",
       "      <td>8062</td>\n",
       "    </tr>\n",
       "    <tr>\n",
       "      <th>3</th>\n",
       "      <td>2487200875</td>\n",
       "      <td>12/9/2014</td>\n",
       "      <td>604000.000</td>\n",
       "      <td>4</td>\n",
       "      <td>3.000</td>\n",
       "      <td>1960</td>\n",
       "      <td>5000</td>\n",
       "      <td>1.000</td>\n",
       "      <td>0.000</td>\n",
       "      <td>0.000</td>\n",
       "      <td>5</td>\n",
       "      <td>7</td>\n",
       "      <td>1050</td>\n",
       "      <td>910.0</td>\n",
       "      <td>1965</td>\n",
       "      <td>0.000</td>\n",
       "      <td>98136</td>\n",
       "      <td>47.521</td>\n",
       "      <td>-122.393</td>\n",
       "      <td>1360</td>\n",
       "      <td>5000</td>\n",
       "    </tr>\n",
       "    <tr>\n",
       "      <th>4</th>\n",
       "      <td>1954400510</td>\n",
       "      <td>2/18/2015</td>\n",
       "      <td>510000.000</td>\n",
       "      <td>3</td>\n",
       "      <td>2.000</td>\n",
       "      <td>1680</td>\n",
       "      <td>8080</td>\n",
       "      <td>1.000</td>\n",
       "      <td>0.000</td>\n",
       "      <td>0.000</td>\n",
       "      <td>3</td>\n",
       "      <td>8</td>\n",
       "      <td>1680</td>\n",
       "      <td>0.0</td>\n",
       "      <td>1987</td>\n",
       "      <td>0.000</td>\n",
       "      <td>98074</td>\n",
       "      <td>47.617</td>\n",
       "      <td>-122.045</td>\n",
       "      <td>1800</td>\n",
       "      <td>7503</td>\n",
       "    </tr>\n",
       "    <tr>\n",
       "      <th>5</th>\n",
       "      <td>7237550310</td>\n",
       "      <td>5/12/2014</td>\n",
       "      <td>1230000.000</td>\n",
       "      <td>4</td>\n",
       "      <td>4.500</td>\n",
       "      <td>5420</td>\n",
       "      <td>101930</td>\n",
       "      <td>1.000</td>\n",
       "      <td>0.000</td>\n",
       "      <td>0.000</td>\n",
       "      <td>3</td>\n",
       "      <td>11</td>\n",
       "      <td>3890</td>\n",
       "      <td>1530.0</td>\n",
       "      <td>2001</td>\n",
       "      <td>0.000</td>\n",
       "      <td>98053</td>\n",
       "      <td>47.656</td>\n",
       "      <td>-122.005</td>\n",
       "      <td>4760</td>\n",
       "      <td>101930</td>\n",
       "    </tr>\n",
       "    <tr>\n",
       "      <th>6</th>\n",
       "      <td>1321400060</td>\n",
       "      <td>6/27/2014</td>\n",
       "      <td>257500.000</td>\n",
       "      <td>3</td>\n",
       "      <td>2.250</td>\n",
       "      <td>1715</td>\n",
       "      <td>6819</td>\n",
       "      <td>2.000</td>\n",
       "      <td>0.000</td>\n",
       "      <td>0.000</td>\n",
       "      <td>3</td>\n",
       "      <td>7</td>\n",
       "      <td>1715</td>\n",
       "      <td>?</td>\n",
       "      <td>1995</td>\n",
       "      <td>0.000</td>\n",
       "      <td>98003</td>\n",
       "      <td>47.310</td>\n",
       "      <td>-122.327</td>\n",
       "      <td>2238</td>\n",
       "      <td>6819</td>\n",
       "    </tr>\n",
       "    <tr>\n",
       "      <th>7</th>\n",
       "      <td>2008000270</td>\n",
       "      <td>1/15/2015</td>\n",
       "      <td>291850.000</td>\n",
       "      <td>3</td>\n",
       "      <td>1.500</td>\n",
       "      <td>1060</td>\n",
       "      <td>9711</td>\n",
       "      <td>1.000</td>\n",
       "      <td>0.000</td>\n",
       "      <td>nan</td>\n",
       "      <td>3</td>\n",
       "      <td>7</td>\n",
       "      <td>1060</td>\n",
       "      <td>0.0</td>\n",
       "      <td>1963</td>\n",
       "      <td>0.000</td>\n",
       "      <td>98198</td>\n",
       "      <td>47.410</td>\n",
       "      <td>-122.315</td>\n",
       "      <td>1650</td>\n",
       "      <td>9711</td>\n",
       "    </tr>\n",
       "    <tr>\n",
       "      <th>8</th>\n",
       "      <td>2414600126</td>\n",
       "      <td>4/15/2015</td>\n",
       "      <td>229500.000</td>\n",
       "      <td>3</td>\n",
       "      <td>1.000</td>\n",
       "      <td>1780</td>\n",
       "      <td>7470</td>\n",
       "      <td>1.000</td>\n",
       "      <td>0.000</td>\n",
       "      <td>0.000</td>\n",
       "      <td>3</td>\n",
       "      <td>7</td>\n",
       "      <td>1050</td>\n",
       "      <td>730.0</td>\n",
       "      <td>1960</td>\n",
       "      <td>0.000</td>\n",
       "      <td>98146</td>\n",
       "      <td>47.512</td>\n",
       "      <td>-122.337</td>\n",
       "      <td>1780</td>\n",
       "      <td>8113</td>\n",
       "    </tr>\n",
       "    <tr>\n",
       "      <th>9</th>\n",
       "      <td>3793500160</td>\n",
       "      <td>3/12/2015</td>\n",
       "      <td>323000.000</td>\n",
       "      <td>3</td>\n",
       "      <td>2.500</td>\n",
       "      <td>1890</td>\n",
       "      <td>6560</td>\n",
       "      <td>2.000</td>\n",
       "      <td>0.000</td>\n",
       "      <td>0.000</td>\n",
       "      <td>3</td>\n",
       "      <td>7</td>\n",
       "      <td>1890</td>\n",
       "      <td>0.0</td>\n",
       "      <td>2003</td>\n",
       "      <td>0.000</td>\n",
       "      <td>98038</td>\n",
       "      <td>47.368</td>\n",
       "      <td>-122.031</td>\n",
       "      <td>2390</td>\n",
       "      <td>7570</td>\n",
       "    </tr>\n",
       "    <tr>\n",
       "      <th>10</th>\n",
       "      <td>1736800520</td>\n",
       "      <td>4/3/2015</td>\n",
       "      <td>662500.000</td>\n",
       "      <td>3</td>\n",
       "      <td>2.500</td>\n",
       "      <td>3560</td>\n",
       "      <td>9796</td>\n",
       "      <td>1.000</td>\n",
       "      <td>nan</td>\n",
       "      <td>0.000</td>\n",
       "      <td>3</td>\n",
       "      <td>8</td>\n",
       "      <td>1860</td>\n",
       "      <td>1700.0</td>\n",
       "      <td>1965</td>\n",
       "      <td>0.000</td>\n",
       "      <td>98007</td>\n",
       "      <td>47.601</td>\n",
       "      <td>-122.145</td>\n",
       "      <td>2210</td>\n",
       "      <td>8925</td>\n",
       "    </tr>\n",
       "    <tr>\n",
       "      <th>11</th>\n",
       "      <td>9212900260</td>\n",
       "      <td>5/27/2014</td>\n",
       "      <td>468000.000</td>\n",
       "      <td>2</td>\n",
       "      <td>1.000</td>\n",
       "      <td>1160</td>\n",
       "      <td>6000</td>\n",
       "      <td>1.000</td>\n",
       "      <td>0.000</td>\n",
       "      <td>0.000</td>\n",
       "      <td>4</td>\n",
       "      <td>7</td>\n",
       "      <td>860</td>\n",
       "      <td>300.0</td>\n",
       "      <td>1942</td>\n",
       "      <td>0.000</td>\n",
       "      <td>98115</td>\n",
       "      <td>47.690</td>\n",
       "      <td>-122.292</td>\n",
       "      <td>1330</td>\n",
       "      <td>6000</td>\n",
       "    </tr>\n",
       "    <tr>\n",
       "      <th>12</th>\n",
       "      <td>114101516</td>\n",
       "      <td>5/28/2014</td>\n",
       "      <td>310000.000</td>\n",
       "      <td>3</td>\n",
       "      <td>1.000</td>\n",
       "      <td>1430</td>\n",
       "      <td>19901</td>\n",
       "      <td>1.500</td>\n",
       "      <td>0.000</td>\n",
       "      <td>0.000</td>\n",
       "      <td>4</td>\n",
       "      <td>7</td>\n",
       "      <td>1430</td>\n",
       "      <td>0.0</td>\n",
       "      <td>1927</td>\n",
       "      <td>nan</td>\n",
       "      <td>98028</td>\n",
       "      <td>47.756</td>\n",
       "      <td>-122.229</td>\n",
       "      <td>1780</td>\n",
       "      <td>12697</td>\n",
       "    </tr>\n",
       "    <tr>\n",
       "      <th>13</th>\n",
       "      <td>6054650070</td>\n",
       "      <td>10/7/2014</td>\n",
       "      <td>400000.000</td>\n",
       "      <td>3</td>\n",
       "      <td>1.750</td>\n",
       "      <td>1370</td>\n",
       "      <td>9680</td>\n",
       "      <td>1.000</td>\n",
       "      <td>0.000</td>\n",
       "      <td>0.000</td>\n",
       "      <td>4</td>\n",
       "      <td>7</td>\n",
       "      <td>1370</td>\n",
       "      <td>0.0</td>\n",
       "      <td>1977</td>\n",
       "      <td>0.000</td>\n",
       "      <td>98074</td>\n",
       "      <td>47.613</td>\n",
       "      <td>-122.045</td>\n",
       "      <td>1370</td>\n",
       "      <td>10208</td>\n",
       "    </tr>\n",
       "    <tr>\n",
       "      <th>14</th>\n",
       "      <td>1175000570</td>\n",
       "      <td>3/12/2015</td>\n",
       "      <td>530000.000</td>\n",
       "      <td>5</td>\n",
       "      <td>2.000</td>\n",
       "      <td>1810</td>\n",
       "      <td>4850</td>\n",
       "      <td>1.500</td>\n",
       "      <td>0.000</td>\n",
       "      <td>0.000</td>\n",
       "      <td>3</td>\n",
       "      <td>7</td>\n",
       "      <td>1810</td>\n",
       "      <td>0.0</td>\n",
       "      <td>1900</td>\n",
       "      <td>0.000</td>\n",
       "      <td>98107</td>\n",
       "      <td>47.670</td>\n",
       "      <td>-122.394</td>\n",
       "      <td>1360</td>\n",
       "      <td>4850</td>\n",
       "    </tr>\n",
       "    <tr>\n",
       "      <th>15</th>\n",
       "      <td>9297300055</td>\n",
       "      <td>1/24/2015</td>\n",
       "      <td>650000.000</td>\n",
       "      <td>4</td>\n",
       "      <td>3.000</td>\n",
       "      <td>2950</td>\n",
       "      <td>5000</td>\n",
       "      <td>2.000</td>\n",
       "      <td>0.000</td>\n",
       "      <td>3.000</td>\n",
       "      <td>3</td>\n",
       "      <td>9</td>\n",
       "      <td>1980</td>\n",
       "      <td>970.0</td>\n",
       "      <td>1979</td>\n",
       "      <td>0.000</td>\n",
       "      <td>98126</td>\n",
       "      <td>47.571</td>\n",
       "      <td>-122.375</td>\n",
       "      <td>2140</td>\n",
       "      <td>4000</td>\n",
       "    </tr>\n",
       "    <tr>\n",
       "      <th>16</th>\n",
       "      <td>1875500060</td>\n",
       "      <td>7/31/2014</td>\n",
       "      <td>395000.000</td>\n",
       "      <td>3</td>\n",
       "      <td>2.000</td>\n",
       "      <td>1890</td>\n",
       "      <td>14040</td>\n",
       "      <td>2.000</td>\n",
       "      <td>0.000</td>\n",
       "      <td>0.000</td>\n",
       "      <td>3</td>\n",
       "      <td>7</td>\n",
       "      <td>1890</td>\n",
       "      <td>0.0</td>\n",
       "      <td>1994</td>\n",
       "      <td>0.000</td>\n",
       "      <td>98019</td>\n",
       "      <td>47.728</td>\n",
       "      <td>-121.962</td>\n",
       "      <td>1890</td>\n",
       "      <td>14018</td>\n",
       "    </tr>\n",
       "    <tr>\n",
       "      <th>17</th>\n",
       "      <td>6865200140</td>\n",
       "      <td>5/29/2014</td>\n",
       "      <td>485000.000</td>\n",
       "      <td>4</td>\n",
       "      <td>1.000</td>\n",
       "      <td>1600</td>\n",
       "      <td>4300</td>\n",
       "      <td>1.500</td>\n",
       "      <td>0.000</td>\n",
       "      <td>0.000</td>\n",
       "      <td>4</td>\n",
       "      <td>7</td>\n",
       "      <td>1600</td>\n",
       "      <td>0.0</td>\n",
       "      <td>1916</td>\n",
       "      <td>0.000</td>\n",
       "      <td>98103</td>\n",
       "      <td>47.665</td>\n",
       "      <td>-122.343</td>\n",
       "      <td>1610</td>\n",
       "      <td>4300</td>\n",
       "    </tr>\n",
       "    <tr>\n",
       "      <th>18</th>\n",
       "      <td>16000397</td>\n",
       "      <td>12/5/2014</td>\n",
       "      <td>189000.000</td>\n",
       "      <td>2</td>\n",
       "      <td>1.000</td>\n",
       "      <td>1200</td>\n",
       "      <td>9850</td>\n",
       "      <td>1.000</td>\n",
       "      <td>0.000</td>\n",
       "      <td>0.000</td>\n",
       "      <td>4</td>\n",
       "      <td>7</td>\n",
       "      <td>1200</td>\n",
       "      <td>?</td>\n",
       "      <td>1921</td>\n",
       "      <td>0.000</td>\n",
       "      <td>98002</td>\n",
       "      <td>47.309</td>\n",
       "      <td>-122.210</td>\n",
       "      <td>1060</td>\n",
       "      <td>5095</td>\n",
       "    </tr>\n",
       "    <tr>\n",
       "      <th>19</th>\n",
       "      <td>7983200060</td>\n",
       "      <td>4/24/2015</td>\n",
       "      <td>230000.000</td>\n",
       "      <td>3</td>\n",
       "      <td>1.000</td>\n",
       "      <td>1250</td>\n",
       "      <td>9774</td>\n",
       "      <td>1.000</td>\n",
       "      <td>0.000</td>\n",
       "      <td>0.000</td>\n",
       "      <td>4</td>\n",
       "      <td>7</td>\n",
       "      <td>1250</td>\n",
       "      <td>0.0</td>\n",
       "      <td>1969</td>\n",
       "      <td>0.000</td>\n",
       "      <td>98003</td>\n",
       "      <td>47.334</td>\n",
       "      <td>-122.306</td>\n",
       "      <td>1280</td>\n",
       "      <td>8850</td>\n",
       "    </tr>\n",
       "    <tr>\n",
       "      <th>20</th>\n",
       "      <td>6300500875</td>\n",
       "      <td>5/14/2014</td>\n",
       "      <td>385000.000</td>\n",
       "      <td>4</td>\n",
       "      <td>1.750</td>\n",
       "      <td>1620</td>\n",
       "      <td>4980</td>\n",
       "      <td>1.000</td>\n",
       "      <td>0.000</td>\n",
       "      <td>0.000</td>\n",
       "      <td>4</td>\n",
       "      <td>7</td>\n",
       "      <td>860</td>\n",
       "      <td>760.0</td>\n",
       "      <td>1947</td>\n",
       "      <td>0.000</td>\n",
       "      <td>98133</td>\n",
       "      <td>47.703</td>\n",
       "      <td>-122.341</td>\n",
       "      <td>1400</td>\n",
       "      <td>4980</td>\n",
       "    </tr>\n",
       "    <tr>\n",
       "      <th>21</th>\n",
       "      <td>2524049179</td>\n",
       "      <td>8/26/2014</td>\n",
       "      <td>2000000.000</td>\n",
       "      <td>3</td>\n",
       "      <td>2.750</td>\n",
       "      <td>3050</td>\n",
       "      <td>44867</td>\n",
       "      <td>1.000</td>\n",
       "      <td>0.000</td>\n",
       "      <td>4.000</td>\n",
       "      <td>3</td>\n",
       "      <td>9</td>\n",
       "      <td>2330</td>\n",
       "      <td>720.0</td>\n",
       "      <td>1968</td>\n",
       "      <td>0.000</td>\n",
       "      <td>98040</td>\n",
       "      <td>47.532</td>\n",
       "      <td>-122.233</td>\n",
       "      <td>4110</td>\n",
       "      <td>20336</td>\n",
       "    </tr>\n",
       "    <tr>\n",
       "      <th>22</th>\n",
       "      <td>7137970340</td>\n",
       "      <td>7/3/2014</td>\n",
       "      <td>285000.000</td>\n",
       "      <td>5</td>\n",
       "      <td>2.500</td>\n",
       "      <td>2270</td>\n",
       "      <td>6300</td>\n",
       "      <td>2.000</td>\n",
       "      <td>0.000</td>\n",
       "      <td>0.000</td>\n",
       "      <td>3</td>\n",
       "      <td>8</td>\n",
       "      <td>2270</td>\n",
       "      <td>0.0</td>\n",
       "      <td>1995</td>\n",
       "      <td>0.000</td>\n",
       "      <td>98092</td>\n",
       "      <td>47.327</td>\n",
       "      <td>-122.169</td>\n",
       "      <td>2240</td>\n",
       "      <td>7005</td>\n",
       "    </tr>\n",
       "    <tr>\n",
       "      <th>23</th>\n",
       "      <td>8091400200</td>\n",
       "      <td>5/16/2014</td>\n",
       "      <td>252700.000</td>\n",
       "      <td>2</td>\n",
       "      <td>1.500</td>\n",
       "      <td>1070</td>\n",
       "      <td>9643</td>\n",
       "      <td>1.000</td>\n",
       "      <td>nan</td>\n",
       "      <td>0.000</td>\n",
       "      <td>3</td>\n",
       "      <td>7</td>\n",
       "      <td>1070</td>\n",
       "      <td>0.0</td>\n",
       "      <td>1985</td>\n",
       "      <td>nan</td>\n",
       "      <td>98030</td>\n",
       "      <td>47.353</td>\n",
       "      <td>-122.166</td>\n",
       "      <td>1220</td>\n",
       "      <td>8386</td>\n",
       "    </tr>\n",
       "    <tr>\n",
       "      <th>24</th>\n",
       "      <td>3814700200</td>\n",
       "      <td>11/20/2014</td>\n",
       "      <td>329000.000</td>\n",
       "      <td>3</td>\n",
       "      <td>2.250</td>\n",
       "      <td>2450</td>\n",
       "      <td>6500</td>\n",
       "      <td>2.000</td>\n",
       "      <td>0.000</td>\n",
       "      <td>0.000</td>\n",
       "      <td>4</td>\n",
       "      <td>8</td>\n",
       "      <td>2450</td>\n",
       "      <td>0.0</td>\n",
       "      <td>1985</td>\n",
       "      <td>0.000</td>\n",
       "      <td>98030</td>\n",
       "      <td>47.374</td>\n",
       "      <td>-122.172</td>\n",
       "      <td>2200</td>\n",
       "      <td>6865</td>\n",
       "    </tr>\n",
       "    <tr>\n",
       "      <th>25</th>\n",
       "      <td>1202000200</td>\n",
       "      <td>11/3/2014</td>\n",
       "      <td>233000.000</td>\n",
       "      <td>3</td>\n",
       "      <td>2.000</td>\n",
       "      <td>1710</td>\n",
       "      <td>4697</td>\n",
       "      <td>1.500</td>\n",
       "      <td>0.000</td>\n",
       "      <td>0.000</td>\n",
       "      <td>5</td>\n",
       "      <td>6</td>\n",
       "      <td>1710</td>\n",
       "      <td>0.0</td>\n",
       "      <td>1941</td>\n",
       "      <td>0.000</td>\n",
       "      <td>98002</td>\n",
       "      <td>47.305</td>\n",
       "      <td>-122.218</td>\n",
       "      <td>1030</td>\n",
       "      <td>4705</td>\n",
       "    </tr>\n",
       "    <tr>\n",
       "      <th>26</th>\n",
       "      <td>1794500383</td>\n",
       "      <td>6/26/2014</td>\n",
       "      <td>937000.000</td>\n",
       "      <td>3</td>\n",
       "      <td>1.750</td>\n",
       "      <td>2450</td>\n",
       "      <td>2691</td>\n",
       "      <td>2.000</td>\n",
       "      <td>0.000</td>\n",
       "      <td>0.000</td>\n",
       "      <td>3</td>\n",
       "      <td>8</td>\n",
       "      <td>1750</td>\n",
       "      <td>700.0</td>\n",
       "      <td>1915</td>\n",
       "      <td>nan</td>\n",
       "      <td>98119</td>\n",
       "      <td>47.639</td>\n",
       "      <td>-122.360</td>\n",
       "      <td>1760</td>\n",
       "      <td>3573</td>\n",
       "    </tr>\n",
       "    <tr>\n",
       "      <th>27</th>\n",
       "      <td>3303700376</td>\n",
       "      <td>12/1/2014</td>\n",
       "      <td>667000.000</td>\n",
       "      <td>3</td>\n",
       "      <td>1.000</td>\n",
       "      <td>1400</td>\n",
       "      <td>1581</td>\n",
       "      <td>1.500</td>\n",
       "      <td>0.000</td>\n",
       "      <td>0.000</td>\n",
       "      <td>5</td>\n",
       "      <td>8</td>\n",
       "      <td>1400</td>\n",
       "      <td>0.0</td>\n",
       "      <td>1909</td>\n",
       "      <td>0.000</td>\n",
       "      <td>98112</td>\n",
       "      <td>47.622</td>\n",
       "      <td>-122.314</td>\n",
       "      <td>1860</td>\n",
       "      <td>3861</td>\n",
       "    </tr>\n",
       "    <tr>\n",
       "      <th>28</th>\n",
       "      <td>5101402488</td>\n",
       "      <td>6/24/2014</td>\n",
       "      <td>438000.000</td>\n",
       "      <td>3</td>\n",
       "      <td>1.750</td>\n",
       "      <td>1520</td>\n",
       "      <td>6380</td>\n",
       "      <td>1.000</td>\n",
       "      <td>0.000</td>\n",
       "      <td>0.000</td>\n",
       "      <td>3</td>\n",
       "      <td>7</td>\n",
       "      <td>790</td>\n",
       "      <td>730.0</td>\n",
       "      <td>1948</td>\n",
       "      <td>nan</td>\n",
       "      <td>98115</td>\n",
       "      <td>47.695</td>\n",
       "      <td>-122.304</td>\n",
       "      <td>1520</td>\n",
       "      <td>6235</td>\n",
       "    </tr>\n",
       "    <tr>\n",
       "      <th>29</th>\n",
       "      <td>1873100390</td>\n",
       "      <td>3/2/2015</td>\n",
       "      <td>719000.000</td>\n",
       "      <td>4</td>\n",
       "      <td>2.500</td>\n",
       "      <td>2570</td>\n",
       "      <td>7173</td>\n",
       "      <td>2.000</td>\n",
       "      <td>0.000</td>\n",
       "      <td>0.000</td>\n",
       "      <td>3</td>\n",
       "      <td>8</td>\n",
       "      <td>2570</td>\n",
       "      <td>0.0</td>\n",
       "      <td>2005</td>\n",
       "      <td>0.000</td>\n",
       "      <td>98052</td>\n",
       "      <td>47.707</td>\n",
       "      <td>-122.110</td>\n",
       "      <td>2630</td>\n",
       "      <td>6026</td>\n",
       "    </tr>\n",
       "  </tbody>\n",
       "</table>\n",
       "</div>"
      ],
      "text/plain": [
       "            id        date       price  ...     long  sqft_living15  sqft_lot15\n",
       "0   7129300520  10/13/2014  221900.000  ... -122.257           1340        5650\n",
       "1   6414100192   12/9/2014  538000.000  ... -122.319           1690        7639\n",
       "2   5631500400   2/25/2015  180000.000  ... -122.233           2720        8062\n",
       "3   2487200875   12/9/2014  604000.000  ... -122.393           1360        5000\n",
       "4   1954400510   2/18/2015  510000.000  ... -122.045           1800        7503\n",
       "5   7237550310   5/12/2014 1230000.000  ... -122.005           4760      101930\n",
       "6   1321400060   6/27/2014  257500.000  ... -122.327           2238        6819\n",
       "7   2008000270   1/15/2015  291850.000  ... -122.315           1650        9711\n",
       "8   2414600126   4/15/2015  229500.000  ... -122.337           1780        8113\n",
       "9   3793500160   3/12/2015  323000.000  ... -122.031           2390        7570\n",
       "10  1736800520    4/3/2015  662500.000  ... -122.145           2210        8925\n",
       "11  9212900260   5/27/2014  468000.000  ... -122.292           1330        6000\n",
       "12   114101516   5/28/2014  310000.000  ... -122.229           1780       12697\n",
       "13  6054650070   10/7/2014  400000.000  ... -122.045           1370       10208\n",
       "14  1175000570   3/12/2015  530000.000  ... -122.394           1360        4850\n",
       "15  9297300055   1/24/2015  650000.000  ... -122.375           2140        4000\n",
       "16  1875500060   7/31/2014  395000.000  ... -121.962           1890       14018\n",
       "17  6865200140   5/29/2014  485000.000  ... -122.343           1610        4300\n",
       "18    16000397   12/5/2014  189000.000  ... -122.210           1060        5095\n",
       "19  7983200060   4/24/2015  230000.000  ... -122.306           1280        8850\n",
       "20  6300500875   5/14/2014  385000.000  ... -122.341           1400        4980\n",
       "21  2524049179   8/26/2014 2000000.000  ... -122.233           4110       20336\n",
       "22  7137970340    7/3/2014  285000.000  ... -122.169           2240        7005\n",
       "23  8091400200   5/16/2014  252700.000  ... -122.166           1220        8386\n",
       "24  3814700200  11/20/2014  329000.000  ... -122.172           2200        6865\n",
       "25  1202000200   11/3/2014  233000.000  ... -122.218           1030        4705\n",
       "26  1794500383   6/26/2014  937000.000  ... -122.360           1760        3573\n",
       "27  3303700376   12/1/2014  667000.000  ... -122.314           1860        3861\n",
       "28  5101402488   6/24/2014  438000.000  ... -122.304           1520        6235\n",
       "29  1873100390    3/2/2015  719000.000  ... -122.110           2630        6026\n",
       "\n",
       "[30 rows x 21 columns]"
      ]
     },
     "metadata": {},
     "output_type": "display_data"
    }
   ],
   "source": [
    "## Cursory inspection of data\n",
    "display(data.head(30))"
   ]
  },
  {
   "cell_type": "code",
   "execution_count": 8,
   "metadata": {
    "ExecuteTime": {
     "end_time": "2020-08-28T20:51:06.008216Z",
     "start_time": "2020-08-28T20:51:05.996204Z"
    }
   },
   "outputs": [
    {
     "name": "stdout",
     "output_type": "stream",
     "text": [
      "<class 'pandas.core.frame.DataFrame'>\n",
      "RangeIndex: 21597 entries, 0 to 21596\n",
      "Data columns (total 21 columns):\n",
      " #   Column         Non-Null Count  Dtype  \n",
      "---  ------         --------------  -----  \n",
      " 0   id             21597 non-null  int64  \n",
      " 1   date           21597 non-null  object \n",
      " 2   price          21597 non-null  float64\n",
      " 3   bedrooms       21597 non-null  int64  \n",
      " 4   bathrooms      21597 non-null  float64\n",
      " 5   sqft_living    21597 non-null  int64  \n",
      " 6   sqft_lot       21597 non-null  int64  \n",
      " 7   floors         21597 non-null  float64\n",
      " 8   waterfront     19221 non-null  float64\n",
      " 9   view           21534 non-null  float64\n",
      " 10  condition      21597 non-null  int64  \n",
      " 11  grade          21597 non-null  int64  \n",
      " 12  sqft_above     21597 non-null  int64  \n",
      " 13  sqft_basement  21597 non-null  object \n",
      " 14  yr_built       21597 non-null  int64  \n",
      " 15  yr_renovated   17755 non-null  float64\n",
      " 16  zipcode        21597 non-null  int64  \n",
      " 17  lat            21597 non-null  float64\n",
      " 18  long           21597 non-null  float64\n",
      " 19  sqft_living15  21597 non-null  int64  \n",
      " 20  sqft_lot15     21597 non-null  int64  \n",
      "dtypes: float64(8), int64(11), object(2)\n",
      "memory usage: 3.5+ MB\n"
     ]
    }
   ],
   "source": [
    "## Check data types and possible missing values\n",
    "data.info()"
   ]
  },
  {
   "cell_type": "markdown",
   "metadata": {},
   "source": [
    "## Initial Scrub and Explore\n"
   ]
  },
  {
   "cell_type": "code",
   "execution_count": 9,
   "metadata": {
    "ExecuteTime": {
     "end_time": "2020-08-28T20:51:06.040244Z",
     "start_time": "2020-08-28T20:51:06.010218Z"
    }
   },
   "outputs": [],
   "source": [
    "## Convert data to date-time object\n",
    "\n",
    "data['date'] = pd.to_datetime(data['date'])"
   ]
  },
  {
   "cell_type": "code",
   "execution_count": 10,
   "metadata": {
    "ExecuteTime": {
     "end_time": "2020-08-28T20:51:06.047250Z",
     "start_time": "2020-08-28T20:51:06.041245Z"
    }
   },
   "outputs": [
    {
     "name": "stdout",
     "output_type": "stream",
     "text": [
      "id                  0\n",
      "date                0\n",
      "price               0\n",
      "bedrooms            0\n",
      "bathrooms           0\n",
      "sqft_living         0\n",
      "sqft_lot            0\n",
      "floors              0\n",
      "waterfront       2376\n",
      "view               63\n",
      "condition           0\n",
      "grade               0\n",
      "sqft_above          0\n",
      "sqft_basement       0\n",
      "yr_built            0\n",
      "yr_renovated     3842\n",
      "zipcode             0\n",
      "lat                 0\n",
      "long                0\n",
      "sqft_living15       0\n",
      "sqft_lot15          0\n",
      "dtype: int64\n"
     ]
    }
   ],
   "source": [
    "## Check for null values for cleaning up\n",
    "\n",
    "print(data.isnull().sum())"
   ]
  },
  {
   "cell_type": "code",
   "execution_count": 11,
   "metadata": {
    "ExecuteTime": {
     "end_time": "2020-08-28T20:51:06.051255Z",
     "start_time": "2020-08-28T20:51:06.048252Z"
    }
   },
   "outputs": [
    {
     "name": "stdout",
     "output_type": "stream",
     "text": [
      "Data shape is:  (21597, 21)\n"
     ]
    }
   ],
   "source": [
    "print('Data shape is: ', data.shape)"
   ]
  },
  {
   "cell_type": "markdown",
   "metadata": {},
   "source": [
    "### Dealing with View Nulls"
   ]
  },
  {
   "cell_type": "markdown",
   "metadata": {},
   "source": [
    "Starting with the `View` column because it contains the least null values and therefore it is safe to just drop them all with no prior assumptions about the data."
   ]
  },
  {
   "cell_type": "code",
   "execution_count": 12,
   "metadata": {
    "ExecuteTime": {
     "end_time": "2020-08-28T20:51:06.062265Z",
     "start_time": "2020-08-28T20:51:06.052255Z"
    }
   },
   "outputs": [
    {
     "name": "stdout",
     "output_type": "stream",
     "text": [
      "View has 0.292 % null values\n",
      "View median is: 0.0\n",
      "View now has 0 null values\n"
     ]
    }
   ],
   "source": [
    "## Checking view column data since it had the fewest null values\n",
    "## Replace with the median of 0\n",
    "\n",
    "print('View has',round(data['view'].isnull().sum()/len(data)*100,3),'% null values')\n",
    "print('View median is:', data['view'].median())\n",
    "data.view.value_counts()\n",
    "data['view'] = data['view'].fillna(data['view'].median())\n",
    "print('View now has',data['view'].isnull().sum(), 'null values')"
   ]
  },
  {
   "cell_type": "markdown",
   "metadata": {},
   "source": [
    "### Dealing with Waterfront Nulls"
   ]
  },
  {
   "cell_type": "markdown",
   "metadata": {},
   "source": [
    "Looking now towards the `waterfront` column in our data we van see that there are clearly several missing datapoints that need to be addressed. Below we look at the data as a heatmap as plotted on a scatter plot. It is clear that the majority of the values of the data are not waterfront by looking at the points and comparing the two plots. Therefore we will fill the nulls values within waterfront as being 0, so not a `waterfront` property."
   ]
  },
  {
   "cell_type": "code",
   "execution_count": 13,
   "metadata": {
    "ExecuteTime": {
     "end_time": "2020-08-28T20:51:06.069271Z",
     "start_time": "2020-08-28T20:51:06.062265Z"
    }
   },
   "outputs": [],
   "source": [
    "## Folium view of the null values in waterfront by lat and long\n",
    "## the map was slow loading and cluttered, legacy code\n",
    "\n",
    "# import folium\n",
    "\n",
    "data['waterfront'] = data['waterfront'].fillna(2)\n",
    "nullwf = data[data['waterfront'] == 2]\n",
    "# nullwf['id'] = nullwf['id'].astype('str')\n",
    "# lat = list(round(nullwf['lat'],3))\n",
    "# long = list(round(nullwf['long'],3))\n",
    "# latlong = list(zip(lat, long))\n",
    "\n",
    "# m = folium.Map(location=[47.6848, -122.016],\n",
    "#               zoom_start=10)\n",
    "\n",
    "# # for lat in latlong:\n",
    "# #     folium.Marker(lat)\n",
    "    \n",
    "# for i in range(0,len(nullwf)):\n",
    "#     folium.Marker([nullwf.iloc[i]['lat'], nullwf.iloc[i]['long']]).add_to(m)\n",
    "\n",
    "# m"
   ]
  },
  {
   "cell_type": "code",
   "execution_count": 14,
   "metadata": {
    "ExecuteTime": {
     "end_time": "2020-08-28T20:51:06.788624Z",
     "start_time": "2020-08-28T20:51:06.070271Z"
    },
    "scrolled": false
   },
   "outputs": [
    {
     "data": {
      "image/png": "[encoded data removed]",
      "text/plain": [
       "<Figure size 1440x576 with 4 Axes>"
      ]
     },
     "metadata": {
      "needs_background": "light"
     },
     "output_type": "display_data"
    }
   ],
   "source": [
    "fig, axes = plt.subplots(ncols=2)\n",
    "\n",
    "data.plot.scatter(x='long', y='lat', c='price', alpha=.5, figsize=(20,8), \n",
    "                  cmap='magma', sharey=True, sharex=False, ax=axes[0])\n",
    "axes[0].set_title('Waterfront')\n",
    "\n",
    "nullwf.plot.scatter(x='long', y='lat', c='price', alpha=.8, figsize=(20,8), \n",
    "                  cmap='plasma', sharey=True, sharex=False, ax=axes[1])\n",
    "axes[1].set_title('Nulls in Waterfront')\n",
    "\n",
    "plt.suptitle('Waterfront vs Nulls in Waterfront')\n",
    "plt.show()"
   ]
  },
  {
   "cell_type": "code",
   "execution_count": 15,
   "metadata": {
    "ExecuteTime": {
     "end_time": "2020-08-28T20:51:06.803638Z",
     "start_time": "2020-08-28T20:51:06.789626Z"
    }
   },
   "outputs": [
    {
     "name": "stdout",
     "output_type": "stream",
     "text": [
      "Waterfront has 11 % missing values,\n",
      "Waterfront median: 0.0\n",
      "Waterfront now has 0 null values\n"
     ]
    }
   ],
   "source": [
    "## Check waterfront for nulls and impute the median (0) of the column\n",
    "## for missing values\n",
    "\n",
    "print('Waterfront has', round((len(nullwf)/len(data))*100), '% missing values,')\n",
    "print('Waterfront median:', data['waterfront'].median())\n",
    "\n",
    "data['waterfront'] = data['waterfront'].replace(2, 1)\n",
    "data.astype({'waterfront':'int64'}, copy=False)\n",
    "print('Waterfront now has',data['waterfront'].isnull().sum(), 'null values')"
   ]
  },
  {
   "cell_type": "markdown",
   "metadata": {},
   "source": [
    "### Dealing with Year Renovated nulls"
   ]
  },
  {
   "cell_type": "markdown",
   "metadata": {},
   "source": [
    " Taking a look at the nulls within the `yr_renovated`, it is impossible to inuit if a house has been renovated from the provided data. Therefore we will just fill the null values within the column with 0 to signify that this house has not been renovated."
   ]
  },
  {
   "cell_type": "code",
   "execution_count": 16,
   "metadata": {
    "ExecuteTime": {
     "end_time": "2020-08-28T20:51:06.811645Z",
     "start_time": "2020-08-28T20:51:06.804639Z"
    }
   },
   "outputs": [
    {
     "name": "stdout",
     "output_type": "stream",
     "text": [
      "Year Renovated has 17.79 % null values\n",
      "Year Renovated mode: 0   0.000\n",
      "dtype: float64\n",
      "Year Renovated now has 0 null values\n"
     ]
    }
   ],
   "source": [
    "## Checking yr_renovated for missing values and filling in\n",
    "\n",
    "print('Year Renovated has',round(data['yr_renovated'].isnull().sum()/len(data)*100,3),'% null values')\n",
    "data['yr_renovated'] = data['yr_renovated'].fillna(0)\n",
    "print('Year Renovated mode:', data['waterfront'].mode())\n",
    "print('Year Renovated now has',data['yr_renovated'].isnull().sum(), 'null values')"
   ]
  },
  {
   "cell_type": "markdown",
   "metadata": {},
   "source": [
    "Now we have dealt with the null values within the data set. It is time to turn our attention towards our data types to make sure that our data is in the correct type for further analysis and eventually modeling."
   ]
  },
  {
   "cell_type": "code",
   "execution_count": 17,
   "metadata": {
    "ExecuteTime": {
     "end_time": "2020-08-28T20:51:06.818651Z",
     "start_time": "2020-08-28T20:51:06.812646Z"
    }
   },
   "outputs": [
    {
     "name": "stdout",
     "output_type": "stream",
     "text": [
      "id               0\n",
      "date             0\n",
      "price            0\n",
      "bedrooms         0\n",
      "bathrooms        0\n",
      "sqft_living      0\n",
      "sqft_lot         0\n",
      "floors           0\n",
      "waterfront       0\n",
      "view             0\n",
      "condition        0\n",
      "grade            0\n",
      "sqft_above       0\n",
      "sqft_basement    0\n",
      "yr_built         0\n",
      "yr_renovated     0\n",
      "zipcode          0\n",
      "lat              0\n",
      "long             0\n",
      "sqft_living15    0\n",
      "sqft_lot15       0\n",
      "dtype: int64\n"
     ]
    }
   ],
   "source": [
    "## Nulls imputed\n",
    "\n",
    "print(data.isnull().sum())"
   ]
  },
  {
   "cell_type": "markdown",
   "metadata": {},
   "source": [
    "### Datatype corrections\n"
   ]
  },
  {
   "cell_type": "markdown",
   "metadata": {},
   "source": [
    "Looking forward into the further modeling it is important for our data to be in the correct types. There are several categorical types that are cast as `int` or `float`, and could be converted into a pandas `cat` objects for future use. \n",
    "\n",
    "Furthermore, if we take a look at `sqft_basement` we notice that it is cast as an object and is therefore a string. This data needs to be converted into an `int` or a `float` depending on the data."
   ]
  },
  {
   "cell_type": "code",
   "execution_count": 18,
   "metadata": {
    "ExecuteTime": {
     "end_time": "2020-08-28T20:51:06.830661Z",
     "start_time": "2020-08-28T20:51:06.819652Z"
    }
   },
   "outputs": [
    {
     "name": "stdout",
     "output_type": "stream",
     "text": [
      "<class 'pandas.core.frame.DataFrame'>\n",
      "RangeIndex: 21597 entries, 0 to 21596\n",
      "Data columns (total 21 columns):\n",
      " #   Column         Non-Null Count  Dtype         \n",
      "---  ------         --------------  -----         \n",
      " 0   id             21597 non-null  int64         \n",
      " 1   date           21597 non-null  datetime64[ns]\n",
      " 2   price          21597 non-null  float64       \n",
      " 3   bedrooms       21597 non-null  int64         \n",
      " 4   bathrooms      21597 non-null  float64       \n",
      " 5   sqft_living    21597 non-null  int64         \n",
      " 6   sqft_lot       21597 non-null  int64         \n",
      " 7   floors         21597 non-null  float64       \n",
      " 8   waterfront     21597 non-null  float64       \n",
      " 9   view           21597 non-null  float64       \n",
      " 10  condition      21597 non-null  int64         \n",
      " 11  grade          21597 non-null  int64         \n",
      " 12  sqft_above     21597 non-null  int64         \n",
      " 13  sqft_basement  21597 non-null  object        \n",
      " 14  yr_built       21597 non-null  int64         \n",
      " 15  yr_renovated   21597 non-null  float64       \n",
      " 16  zipcode        21597 non-null  int64         \n",
      " 17  lat            21597 non-null  float64       \n",
      " 18  long           21597 non-null  float64       \n",
      " 19  sqft_living15  21597 non-null  int64         \n",
      " 20  sqft_lot15     21597 non-null  int64         \n",
      "dtypes: datetime64[ns](1), float64(8), int64(11), object(1)\n",
      "memory usage: 3.5+ MB\n"
     ]
    }
   ],
   "source": [
    "data.info()"
   ]
  },
  {
   "cell_type": "code",
   "execution_count": 19,
   "metadata": {
    "ExecuteTime": {
     "end_time": "2020-08-28T20:51:06.925752Z",
     "start_time": "2020-08-28T20:51:06.831663Z"
    },
    "scrolled": true
   },
   "outputs": [
    {
     "data": {
      "text/html": [
       "<div>\n",
       "<style scoped>\n",
       "    .dataframe tbody tr th:only-of-type {\n",
       "        vertical-align: middle;\n",
       "    }\n",
       "\n",
       "    .dataframe tbody tr th {\n",
       "        vertical-align: top;\n",
       "    }\n",
       "\n",
       "    .dataframe thead th {\n",
       "        text-align: right;\n",
       "    }\n",
       "</style>\n",
       "<table border=\"1\" class=\"dataframe\">\n",
       "  <thead>\n",
       "    <tr style=\"text-align: right;\">\n",
       "      <th></th>\n",
       "      <th>id</th>\n",
       "      <th>price</th>\n",
       "      <th>bedrooms</th>\n",
       "      <th>bathrooms</th>\n",
       "      <th>sqft_living</th>\n",
       "      <th>sqft_lot</th>\n",
       "      <th>floors</th>\n",
       "      <th>waterfront</th>\n",
       "      <th>view</th>\n",
       "      <th>condition</th>\n",
       "      <th>grade</th>\n",
       "      <th>sqft_above</th>\n",
       "      <th>yr_built</th>\n",
       "      <th>yr_renovated</th>\n",
       "      <th>zipcode</th>\n",
       "      <th>lat</th>\n",
       "      <th>long</th>\n",
       "      <th>sqft_living15</th>\n",
       "      <th>sqft_lot15</th>\n",
       "    </tr>\n",
       "  </thead>\n",
       "  <tbody>\n",
       "    <tr>\n",
       "      <th>count</th>\n",
       "      <td>21597.000</td>\n",
       "      <td>21597.000</td>\n",
       "      <td>21597.000</td>\n",
       "      <td>21597.000</td>\n",
       "      <td>21597.000</td>\n",
       "      <td>21597.000</td>\n",
       "      <td>21597.000</td>\n",
       "      <td>21597.000</td>\n",
       "      <td>21597.000</td>\n",
       "      <td>21597.000</td>\n",
       "      <td>21597.000</td>\n",
       "      <td>21597.000</td>\n",
       "      <td>21597.000</td>\n",
       "      <td>21597.000</td>\n",
       "      <td>21597.000</td>\n",
       "      <td>21597.000</td>\n",
       "      <td>21597.000</td>\n",
       "      <td>21597.000</td>\n",
       "      <td>21597.000</td>\n",
       "    </tr>\n",
       "    <tr>\n",
       "      <th>mean</th>\n",
       "      <td>4580474287.771</td>\n",
       "      <td>540296.574</td>\n",
       "      <td>3.373</td>\n",
       "      <td>2.116</td>\n",
       "      <td>2080.322</td>\n",
       "      <td>15099.409</td>\n",
       "      <td>1.494</td>\n",
       "      <td>0.117</td>\n",
       "      <td>0.233</td>\n",
       "      <td>3.410</td>\n",
       "      <td>7.658</td>\n",
       "      <td>1788.597</td>\n",
       "      <td>1971.000</td>\n",
       "      <td>68.758</td>\n",
       "      <td>98077.952</td>\n",
       "      <td>47.560</td>\n",
       "      <td>-122.214</td>\n",
       "      <td>1986.620</td>\n",
       "      <td>12758.284</td>\n",
       "    </tr>\n",
       "    <tr>\n",
       "      <th>std</th>\n",
       "      <td>2876735715.748</td>\n",
       "      <td>367368.140</td>\n",
       "      <td>0.926</td>\n",
       "      <td>0.769</td>\n",
       "      <td>918.106</td>\n",
       "      <td>41412.637</td>\n",
       "      <td>0.540</td>\n",
       "      <td>0.321</td>\n",
       "      <td>0.765</td>\n",
       "      <td>0.651</td>\n",
       "      <td>1.173</td>\n",
       "      <td>827.760</td>\n",
       "      <td>29.375</td>\n",
       "      <td>364.037</td>\n",
       "      <td>53.513</td>\n",
       "      <td>0.139</td>\n",
       "      <td>0.141</td>\n",
       "      <td>685.230</td>\n",
       "      <td>27274.442</td>\n",
       "    </tr>\n",
       "    <tr>\n",
       "      <th>min</th>\n",
       "      <td>1000102.000</td>\n",
       "      <td>78000.000</td>\n",
       "      <td>1.000</td>\n",
       "      <td>0.500</td>\n",
       "      <td>370.000</td>\n",
       "      <td>520.000</td>\n",
       "      <td>1.000</td>\n",
       "      <td>0.000</td>\n",
       "      <td>0.000</td>\n",
       "      <td>1.000</td>\n",
       "      <td>3.000</td>\n",
       "      <td>370.000</td>\n",
       "      <td>1900.000</td>\n",
       "      <td>0.000</td>\n",
       "      <td>98001.000</td>\n",
       "      <td>47.156</td>\n",
       "      <td>-122.519</td>\n",
       "      <td>399.000</td>\n",
       "      <td>651.000</td>\n",
       "    </tr>\n",
       "    <tr>\n",
       "      <th>25%</th>\n",
       "      <td>2123049175.000</td>\n",
       "      <td>322000.000</td>\n",
       "      <td>3.000</td>\n",
       "      <td>1.750</td>\n",
       "      <td>1430.000</td>\n",
       "      <td>5040.000</td>\n",
       "      <td>1.000</td>\n",
       "      <td>0.000</td>\n",
       "      <td>0.000</td>\n",
       "      <td>3.000</td>\n",
       "      <td>7.000</td>\n",
       "      <td>1190.000</td>\n",
       "      <td>1951.000</td>\n",
       "      <td>0.000</td>\n",
       "      <td>98033.000</td>\n",
       "      <td>47.471</td>\n",
       "      <td>-122.328</td>\n",
       "      <td>1490.000</td>\n",
       "      <td>5100.000</td>\n",
       "    </tr>\n",
       "    <tr>\n",
       "      <th>50%</th>\n",
       "      <td>3904930410.000</td>\n",
       "      <td>450000.000</td>\n",
       "      <td>3.000</td>\n",
       "      <td>2.250</td>\n",
       "      <td>1910.000</td>\n",
       "      <td>7618.000</td>\n",
       "      <td>1.500</td>\n",
       "      <td>0.000</td>\n",
       "      <td>0.000</td>\n",
       "      <td>3.000</td>\n",
       "      <td>7.000</td>\n",
       "      <td>1560.000</td>\n",
       "      <td>1975.000</td>\n",
       "      <td>0.000</td>\n",
       "      <td>98065.000</td>\n",
       "      <td>47.572</td>\n",
       "      <td>-122.231</td>\n",
       "      <td>1840.000</td>\n",
       "      <td>7620.000</td>\n",
       "    </tr>\n",
       "    <tr>\n",
       "      <th>75%</th>\n",
       "      <td>7308900490.000</td>\n",
       "      <td>645000.000</td>\n",
       "      <td>4.000</td>\n",
       "      <td>2.500</td>\n",
       "      <td>2550.000</td>\n",
       "      <td>10685.000</td>\n",
       "      <td>2.000</td>\n",
       "      <td>0.000</td>\n",
       "      <td>0.000</td>\n",
       "      <td>4.000</td>\n",
       "      <td>8.000</td>\n",
       "      <td>2210.000</td>\n",
       "      <td>1997.000</td>\n",
       "      <td>0.000</td>\n",
       "      <td>98118.000</td>\n",
       "      <td>47.678</td>\n",
       "      <td>-122.125</td>\n",
       "      <td>2360.000</td>\n",
       "      <td>10083.000</td>\n",
       "    </tr>\n",
       "    <tr>\n",
       "      <th>max</th>\n",
       "      <td>9900000190.000</td>\n",
       "      <td>7700000.000</td>\n",
       "      <td>33.000</td>\n",
       "      <td>8.000</td>\n",
       "      <td>13540.000</td>\n",
       "      <td>1651359.000</td>\n",
       "      <td>3.500</td>\n",
       "      <td>1.000</td>\n",
       "      <td>4.000</td>\n",
       "      <td>5.000</td>\n",
       "      <td>13.000</td>\n",
       "      <td>9410.000</td>\n",
       "      <td>2015.000</td>\n",
       "      <td>2015.000</td>\n",
       "      <td>98199.000</td>\n",
       "      <td>47.778</td>\n",
       "      <td>-121.315</td>\n",
       "      <td>6210.000</td>\n",
       "      <td>871200.000</td>\n",
       "    </tr>\n",
       "  </tbody>\n",
       "</table>\n",
       "</div>"
      ],
      "text/plain": [
       "                  id       price  bedrooms  ...      long  sqft_living15  sqft_lot15\n",
       "count      21597.000   21597.000 21597.000  ... 21597.000      21597.000   21597.000\n",
       "mean  4580474287.771  540296.574     3.373  ...  -122.214       1986.620   12758.284\n",
       "std   2876735715.748  367368.140     0.926  ...     0.141        685.230   27274.442\n",
       "min      1000102.000   78000.000     1.000  ...  -122.519        399.000     651.000\n",
       "25%   2123049175.000  322000.000     3.000  ...  -122.328       1490.000    5100.000\n",
       "50%   3904930410.000  450000.000     3.000  ...  -122.231       1840.000    7620.000\n",
       "75%   7308900490.000  645000.000     4.000  ...  -122.125       2360.000   10083.000\n",
       "max   9900000190.000 7700000.000    33.000  ...  -121.315       6210.000  871200.000\n",
       "\n",
       "[8 rows x 19 columns]"
      ]
     },
     "execution_count": 19,
     "metadata": {},
     "output_type": "execute_result"
    }
   ],
   "source": [
    "data.describe()"
   ]
  },
  {
   "cell_type": "code",
   "execution_count": 20,
   "metadata": {
    "ExecuteTime": {
     "end_time": "2020-08-28T20:51:06.959782Z",
     "start_time": "2020-08-28T20:51:06.926752Z"
    },
    "scrolled": false
   },
   "outputs": [
    {
     "data": {
      "text/html": [
       "<div>\n",
       "<style scoped>\n",
       "    .dataframe tbody tr th:only-of-type {\n",
       "        vertical-align: middle;\n",
       "    }\n",
       "\n",
       "    .dataframe tbody tr th {\n",
       "        vertical-align: top;\n",
       "    }\n",
       "\n",
       "    .dataframe thead th {\n",
       "        text-align: right;\n",
       "    }\n",
       "</style>\n",
       "<table border=\"1\" class=\"dataframe\">\n",
       "  <thead>\n",
       "    <tr style=\"text-align: right;\">\n",
       "      <th></th>\n",
       "      <th>id</th>\n",
       "      <th>date</th>\n",
       "      <th>price</th>\n",
       "      <th>bedrooms</th>\n",
       "      <th>bathrooms</th>\n",
       "      <th>sqft_living</th>\n",
       "      <th>sqft_lot</th>\n",
       "      <th>floors</th>\n",
       "      <th>waterfront</th>\n",
       "      <th>view</th>\n",
       "      <th>condition</th>\n",
       "      <th>grade</th>\n",
       "      <th>sqft_above</th>\n",
       "      <th>sqft_basement</th>\n",
       "      <th>yr_built</th>\n",
       "      <th>yr_renovated</th>\n",
       "      <th>zipcode</th>\n",
       "      <th>lat</th>\n",
       "      <th>long</th>\n",
       "      <th>sqft_living15</th>\n",
       "      <th>sqft_lot15</th>\n",
       "    </tr>\n",
       "  </thead>\n",
       "  <tbody>\n",
       "    <tr>\n",
       "      <th>0</th>\n",
       "      <td>7129300520</td>\n",
       "      <td>2014-10-13</td>\n",
       "      <td>221900.000</td>\n",
       "      <td>3</td>\n",
       "      <td>1.000</td>\n",
       "      <td>1180</td>\n",
       "      <td>5650</td>\n",
       "      <td>1.000</td>\n",
       "      <td>1.000</td>\n",
       "      <td>0.000</td>\n",
       "      <td>3</td>\n",
       "      <td>7</td>\n",
       "      <td>1180</td>\n",
       "      <td>0</td>\n",
       "      <td>1955</td>\n",
       "      <td>0.000</td>\n",
       "      <td>98178</td>\n",
       "      <td>47.511</td>\n",
       "      <td>-122.257</td>\n",
       "      <td>1340</td>\n",
       "      <td>5650</td>\n",
       "    </tr>\n",
       "    <tr>\n",
       "      <th>1</th>\n",
       "      <td>6414100192</td>\n",
       "      <td>2014-12-09</td>\n",
       "      <td>538000.000</td>\n",
       "      <td>3</td>\n",
       "      <td>2.250</td>\n",
       "      <td>2570</td>\n",
       "      <td>7242</td>\n",
       "      <td>2.000</td>\n",
       "      <td>0.000</td>\n",
       "      <td>0.000</td>\n",
       "      <td>3</td>\n",
       "      <td>7</td>\n",
       "      <td>2170</td>\n",
       "      <td>400</td>\n",
       "      <td>1951</td>\n",
       "      <td>1991.000</td>\n",
       "      <td>98125</td>\n",
       "      <td>47.721</td>\n",
       "      <td>-122.319</td>\n",
       "      <td>1690</td>\n",
       "      <td>7639</td>\n",
       "    </tr>\n",
       "    <tr>\n",
       "      <th>2</th>\n",
       "      <td>5631500400</td>\n",
       "      <td>2015-02-25</td>\n",
       "      <td>180000.000</td>\n",
       "      <td>2</td>\n",
       "      <td>1.000</td>\n",
       "      <td>770</td>\n",
       "      <td>10000</td>\n",
       "      <td>1.000</td>\n",
       "      <td>0.000</td>\n",
       "      <td>0.000</td>\n",
       "      <td>3</td>\n",
       "      <td>6</td>\n",
       "      <td>770</td>\n",
       "      <td>0</td>\n",
       "      <td>1933</td>\n",
       "      <td>0.000</td>\n",
       "      <td>98028</td>\n",
       "      <td>47.738</td>\n",
       "      <td>-122.233</td>\n",
       "      <td>2720</td>\n",
       "      <td>8062</td>\n",
       "    </tr>\n",
       "    <tr>\n",
       "      <th>3</th>\n",
       "      <td>2487200875</td>\n",
       "      <td>2014-12-09</td>\n",
       "      <td>604000.000</td>\n",
       "      <td>4</td>\n",
       "      <td>3.000</td>\n",
       "      <td>1960</td>\n",
       "      <td>5000</td>\n",
       "      <td>1.000</td>\n",
       "      <td>0.000</td>\n",
       "      <td>0.000</td>\n",
       "      <td>5</td>\n",
       "      <td>7</td>\n",
       "      <td>1050</td>\n",
       "      <td>910</td>\n",
       "      <td>1965</td>\n",
       "      <td>0.000</td>\n",
       "      <td>98136</td>\n",
       "      <td>47.521</td>\n",
       "      <td>-122.393</td>\n",
       "      <td>1360</td>\n",
       "      <td>5000</td>\n",
       "    </tr>\n",
       "    <tr>\n",
       "      <th>4</th>\n",
       "      <td>1954400510</td>\n",
       "      <td>2015-02-18</td>\n",
       "      <td>510000.000</td>\n",
       "      <td>3</td>\n",
       "      <td>2.000</td>\n",
       "      <td>1680</td>\n",
       "      <td>8080</td>\n",
       "      <td>1.000</td>\n",
       "      <td>0.000</td>\n",
       "      <td>0.000</td>\n",
       "      <td>3</td>\n",
       "      <td>8</td>\n",
       "      <td>1680</td>\n",
       "      <td>0</td>\n",
       "      <td>1987</td>\n",
       "      <td>0.000</td>\n",
       "      <td>98074</td>\n",
       "      <td>47.617</td>\n",
       "      <td>-122.045</td>\n",
       "      <td>1800</td>\n",
       "      <td>7503</td>\n",
       "    </tr>\n",
       "  </tbody>\n",
       "</table>\n",
       "</div>"
      ],
      "text/plain": [
       "           id       date      price  ...     long  sqft_living15  sqft_lot15\n",
       "0  7129300520 2014-10-13 221900.000  ... -122.257           1340        5650\n",
       "1  6414100192 2014-12-09 538000.000  ... -122.319           1690        7639\n",
       "2  5631500400 2015-02-25 180000.000  ... -122.233           2720        8062\n",
       "3  2487200875 2014-12-09 604000.000  ... -122.393           1360        5000\n",
       "4  1954400510 2015-02-18 510000.000  ... -122.045           1800        7503\n",
       "\n",
       "[5 rows x 21 columns]"
      ]
     },
     "execution_count": 20,
     "metadata": {},
     "output_type": "execute_result"
    }
   ],
   "source": [
    "## Replace question marks in `sqft_basement` \n",
    "\n",
    "# data['sqft_basement'] = data['sqft_basement'].replace('?',0)\n",
    "data['sqft_basement'] = data['sqft_living'] - data['sqft_above']\n",
    "# data['sqft_basement'] = data['sqft_basement'].replace(0.0,0)\n",
    "# data['sqft_basement'] = data['sqft_basement'].astype('float64')\n",
    "data.head()"
   ]
  },
  {
   "cell_type": "markdown",
   "metadata": {},
   "source": [
    "Let's take a look at the categories that should be converted to categorical data types to better be fed into our model. \n",
    "* Waterfront - A boolean of is it waterfront or not, therefore categorical.\n",
    "* Grade - A grade for the home that is given by an assessor for the county, not continuous and therefore categorical. \n",
    "* View - A rating of the view from 0 to 4, therefore categorical. \n",
    "\n",
    "Along these same lines we are going to convert the `yr_built` column into categorical variables by slicing them into bins of 1 decade (10 years) starting in 1900 and ending in 2020.\n",
    "\n",
    "Considering the amount of non-renovated or houses with missing renovation data we have elected to drop the column because the few non-values will provide little to no meaningful data.\n",
    "\n",
    "We are going to also look at binning the zipcode data to get general area vs price data as well."
   ]
  },
  {
   "cell_type": "code",
   "execution_count": 21,
   "metadata": {
    "ExecuteTime": {
     "end_time": "2020-08-28T20:51:06.979801Z",
     "start_time": "2020-08-28T20:51:06.960783Z"
    }
   },
   "outputs": [
    {
     "name": "stdout",
     "output_type": "stream",
     "text": [
      "Percentage of homes not renovated or without renovation data 96.56 %\n"
     ]
    }
   ],
   "source": [
    "## Cutting the years into bins for the cut method\n",
    "\n",
    "decades = list(range(1899, 2020, 10))\n",
    "lbls = [\"1900\",\"1910\",\"1920\",\"1930\",\"1940\",\"1950\",\"1960\",\"1970\",\"1980\",\n",
    "          \"1990\", \"2000\",\"2010\"]\n",
    "\n",
    "## Cutting out the data into decades and dropping the aforementioned columns\n",
    "\n",
    "data['decade_built'] = pd.cut(data['yr_built'],bins=decades,labels=lbls) \n",
    "print('Percentage of homes not renovated or without renovation data', \n",
    "      round(len(data[data['yr_renovated'] == 0])/len(data)*100,2),'%')\n",
    "data.drop('yr_renovated', axis=1, inplace=True)\n",
    "data.drop('yr_built', axis=1, inplace=True)"
   ]
  },
  {
   "cell_type": "code",
   "execution_count": 22,
   "metadata": {
    "ExecuteTime": {
     "end_time": "2020-08-28T20:51:07.019837Z",
     "start_time": "2020-08-28T20:51:06.980801Z"
    }
   },
   "outputs": [
    {
     "data": {
      "text/html": [
       "<div>\n",
       "<style scoped>\n",
       "    .dataframe tbody tr th:only-of-type {\n",
       "        vertical-align: middle;\n",
       "    }\n",
       "\n",
       "    .dataframe tbody tr th {\n",
       "        vertical-align: top;\n",
       "    }\n",
       "\n",
       "    .dataframe thead th {\n",
       "        text-align: right;\n",
       "    }\n",
       "</style>\n",
       "<table border=\"1\" class=\"dataframe\">\n",
       "  <thead>\n",
       "    <tr style=\"text-align: right;\">\n",
       "      <th></th>\n",
       "      <th>id</th>\n",
       "      <th>date</th>\n",
       "      <th>price</th>\n",
       "      <th>bedrooms</th>\n",
       "      <th>bathrooms</th>\n",
       "      <th>sqft_living</th>\n",
       "      <th>sqft_lot</th>\n",
       "      <th>floors</th>\n",
       "      <th>waterfront</th>\n",
       "      <th>view</th>\n",
       "      <th>condition</th>\n",
       "      <th>grade</th>\n",
       "      <th>sqft_above</th>\n",
       "      <th>sqft_basement</th>\n",
       "      <th>zipcode</th>\n",
       "      <th>lat</th>\n",
       "      <th>long</th>\n",
       "      <th>sqft_living15</th>\n",
       "      <th>sqft_lot15</th>\n",
       "      <th>decade_built</th>\n",
       "      <th>zips</th>\n",
       "    </tr>\n",
       "  </thead>\n",
       "  <tbody>\n",
       "    <tr>\n",
       "      <th>0</th>\n",
       "      <td>7129300520</td>\n",
       "      <td>2014-10-13</td>\n",
       "      <td>221900.000</td>\n",
       "      <td>3</td>\n",
       "      <td>1.000</td>\n",
       "      <td>1180</td>\n",
       "      <td>5650</td>\n",
       "      <td>1.000</td>\n",
       "      <td>1.000</td>\n",
       "      <td>0.000</td>\n",
       "      <td>3</td>\n",
       "      <td>7</td>\n",
       "      <td>1180</td>\n",
       "      <td>0</td>\n",
       "      <td>98178</td>\n",
       "      <td>47.511</td>\n",
       "      <td>-122.257</td>\n",
       "      <td>1340</td>\n",
       "      <td>5650</td>\n",
       "      <td>1950</td>\n",
       "      <td>62</td>\n",
       "    </tr>\n",
       "    <tr>\n",
       "      <th>1</th>\n",
       "      <td>6414100192</td>\n",
       "      <td>2014-12-09</td>\n",
       "      <td>538000.000</td>\n",
       "      <td>3</td>\n",
       "      <td>2.250</td>\n",
       "      <td>2570</td>\n",
       "      <td>7242</td>\n",
       "      <td>2.000</td>\n",
       "      <td>0.000</td>\n",
       "      <td>0.000</td>\n",
       "      <td>3</td>\n",
       "      <td>7</td>\n",
       "      <td>2170</td>\n",
       "      <td>400</td>\n",
       "      <td>98125</td>\n",
       "      <td>47.721</td>\n",
       "      <td>-122.319</td>\n",
       "      <td>1690</td>\n",
       "      <td>7639</td>\n",
       "      <td>1950</td>\n",
       "      <td>43</td>\n",
       "    </tr>\n",
       "    <tr>\n",
       "      <th>2</th>\n",
       "      <td>5631500400</td>\n",
       "      <td>2015-02-25</td>\n",
       "      <td>180000.000</td>\n",
       "      <td>2</td>\n",
       "      <td>1.000</td>\n",
       "      <td>770</td>\n",
       "      <td>10000</td>\n",
       "      <td>1.000</td>\n",
       "      <td>0.000</td>\n",
       "      <td>0.000</td>\n",
       "      <td>3</td>\n",
       "      <td>6</td>\n",
       "      <td>770</td>\n",
       "      <td>0</td>\n",
       "      <td>98028</td>\n",
       "      <td>47.738</td>\n",
       "      <td>-122.233</td>\n",
       "      <td>2720</td>\n",
       "      <td>8062</td>\n",
       "      <td>1930</td>\n",
       "      <td>9</td>\n",
       "    </tr>\n",
       "    <tr>\n",
       "      <th>3</th>\n",
       "      <td>2487200875</td>\n",
       "      <td>2014-12-09</td>\n",
       "      <td>604000.000</td>\n",
       "      <td>4</td>\n",
       "      <td>3.000</td>\n",
       "      <td>1960</td>\n",
       "      <td>5000</td>\n",
       "      <td>1.000</td>\n",
       "      <td>0.000</td>\n",
       "      <td>0.000</td>\n",
       "      <td>5</td>\n",
       "      <td>7</td>\n",
       "      <td>1050</td>\n",
       "      <td>910</td>\n",
       "      <td>98136</td>\n",
       "      <td>47.521</td>\n",
       "      <td>-122.393</td>\n",
       "      <td>1360</td>\n",
       "      <td>5000</td>\n",
       "      <td>1960</td>\n",
       "      <td>47</td>\n",
       "    </tr>\n",
       "    <tr>\n",
       "      <th>4</th>\n",
       "      <td>1954400510</td>\n",
       "      <td>2015-02-18</td>\n",
       "      <td>510000.000</td>\n",
       "      <td>3</td>\n",
       "      <td>2.000</td>\n",
       "      <td>1680</td>\n",
       "      <td>8080</td>\n",
       "      <td>1.000</td>\n",
       "      <td>0.000</td>\n",
       "      <td>0.000</td>\n",
       "      <td>3</td>\n",
       "      <td>8</td>\n",
       "      <td>1680</td>\n",
       "      <td>0</td>\n",
       "      <td>98074</td>\n",
       "      <td>47.617</td>\n",
       "      <td>-122.045</td>\n",
       "      <td>1800</td>\n",
       "      <td>7503</td>\n",
       "      <td>1980</td>\n",
       "      <td>25</td>\n",
       "    </tr>\n",
       "  </tbody>\n",
       "</table>\n",
       "</div>"
      ],
      "text/plain": [
       "           id       date      price  ...  sqft_lot15  decade_built  zips\n",
       "0  7129300520 2014-10-13 221900.000  ...        5650          1950    62\n",
       "1  6414100192 2014-12-09 538000.000  ...        7639          1950    43\n",
       "2  5631500400 2015-02-25 180000.000  ...        8062          1930     9\n",
       "3  2487200875 2014-12-09 604000.000  ...        5000          1960    47\n",
       "4  1954400510 2015-02-18 510000.000  ...        7503          1980    25\n",
       "\n",
       "[5 rows x 21 columns]"
      ]
     },
     "execution_count": 22,
     "metadata": {},
     "output_type": "execute_result"
    }
   ],
   "source": [
    "## Cutting the zipcode data into bins using the qcut method\n",
    "## thus avoiding the need to use a continuous series of numbers\n",
    "\n",
    "zips = list(data['zipcode'].value_counts().index)\n",
    "data['zipcode'] = data['zipcode'].astype('int64')\n",
    "data['zips'] = pd.cut(data['zipcode'],bins=70,duplicates='drop',labels=False)  \n",
    "# data.drop('zipcode', axis=1, inplace=True)\n",
    "data.head()"
   ]
  },
  {
   "cell_type": "code",
   "execution_count": 23,
   "metadata": {
    "ExecuteTime": {
     "end_time": "2020-08-28T20:51:07.082894Z",
     "start_time": "2020-08-28T20:51:07.024842Z"
    }
   },
   "outputs": [
    {
     "data": {
      "text/html": [
       "<div>\n",
       "<style scoped>\n",
       "    .dataframe tbody tr th:only-of-type {\n",
       "        vertical-align: middle;\n",
       "    }\n",
       "\n",
       "    .dataframe tbody tr th {\n",
       "        vertical-align: top;\n",
       "    }\n",
       "\n",
       "    .dataframe thead th {\n",
       "        text-align: right;\n",
       "    }\n",
       "</style>\n",
       "<table border=\"1\" class=\"dataframe\">\n",
       "  <thead>\n",
       "    <tr style=\"text-align: right;\">\n",
       "      <th></th>\n",
       "      <th>id</th>\n",
       "      <th>date</th>\n",
       "      <th>price</th>\n",
       "      <th>bedrooms</th>\n",
       "      <th>bathrooms</th>\n",
       "      <th>sqft_living</th>\n",
       "      <th>sqft_lot</th>\n",
       "      <th>floors</th>\n",
       "      <th>waterfront</th>\n",
       "      <th>view</th>\n",
       "      <th>condition</th>\n",
       "      <th>grade</th>\n",
       "      <th>sqft_above</th>\n",
       "      <th>sqft_basement</th>\n",
       "      <th>zipcode</th>\n",
       "      <th>lat</th>\n",
       "      <th>long</th>\n",
       "      <th>sqft_living15</th>\n",
       "      <th>sqft_lot15</th>\n",
       "      <th>decade_built</th>\n",
       "      <th>zips</th>\n",
       "    </tr>\n",
       "  </thead>\n",
       "  <tbody>\n",
       "    <tr>\n",
       "      <th>7316</th>\n",
       "      <td>2202500290</td>\n",
       "      <td>2014-05-02</td>\n",
       "      <td>435000.000</td>\n",
       "      <td>4</td>\n",
       "      <td>1.000</td>\n",
       "      <td>1450</td>\n",
       "      <td>8800</td>\n",
       "      <td>1.000</td>\n",
       "      <td>0.000</td>\n",
       "      <td>0.000</td>\n",
       "      <td>4</td>\n",
       "      <td>7</td>\n",
       "      <td>1450</td>\n",
       "      <td>0</td>\n",
       "      <td>98006</td>\n",
       "      <td>47.575</td>\n",
       "      <td>-122.135</td>\n",
       "      <td>1260</td>\n",
       "      <td>8942</td>\n",
       "      <td>1950</td>\n",
       "      <td>1</td>\n",
       "    </tr>\n",
       "    <tr>\n",
       "      <th>20586</th>\n",
       "      <td>7853361370</td>\n",
       "      <td>2014-05-02</td>\n",
       "      <td>555000.000</td>\n",
       "      <td>4</td>\n",
       "      <td>2.500</td>\n",
       "      <td>3310</td>\n",
       "      <td>6500</td>\n",
       "      <td>2.000</td>\n",
       "      <td>0.000</td>\n",
       "      <td>0.000</td>\n",
       "      <td>3</td>\n",
       "      <td>8</td>\n",
       "      <td>3310</td>\n",
       "      <td>0</td>\n",
       "      <td>98065</td>\n",
       "      <td>47.515</td>\n",
       "      <td>-121.870</td>\n",
       "      <td>2380</td>\n",
       "      <td>5000</td>\n",
       "      <td>2010</td>\n",
       "      <td>22</td>\n",
       "    </tr>\n",
       "    <tr>\n",
       "      <th>1040</th>\n",
       "      <td>7197300105</td>\n",
       "      <td>2014-05-02</td>\n",
       "      <td>550000.000</td>\n",
       "      <td>4</td>\n",
       "      <td>2.500</td>\n",
       "      <td>1940</td>\n",
       "      <td>10500</td>\n",
       "      <td>1.000</td>\n",
       "      <td>1.000</td>\n",
       "      <td>0.000</td>\n",
       "      <td>4</td>\n",
       "      <td>7</td>\n",
       "      <td>1140</td>\n",
       "      <td>800</td>\n",
       "      <td>98052</td>\n",
       "      <td>47.683</td>\n",
       "      <td>-122.114</td>\n",
       "      <td>2200</td>\n",
       "      <td>10500</td>\n",
       "      <td>1970</td>\n",
       "      <td>18</td>\n",
       "    </tr>\n",
       "    <tr>\n",
       "      <th>20543</th>\n",
       "      <td>3438501320</td>\n",
       "      <td>2014-05-02</td>\n",
       "      <td>295000.000</td>\n",
       "      <td>2</td>\n",
       "      <td>2.500</td>\n",
       "      <td>1630</td>\n",
       "      <td>1368</td>\n",
       "      <td>2.000</td>\n",
       "      <td>0.000</td>\n",
       "      <td>0.000</td>\n",
       "      <td>3</td>\n",
       "      <td>7</td>\n",
       "      <td>1280</td>\n",
       "      <td>350</td>\n",
       "      <td>98106</td>\n",
       "      <td>47.549</td>\n",
       "      <td>-122.363</td>\n",
       "      <td>1590</td>\n",
       "      <td>2306</td>\n",
       "      <td>2000</td>\n",
       "      <td>37</td>\n",
       "    </tr>\n",
       "    <tr>\n",
       "      <th>9587</th>\n",
       "      <td>472000620</td>\n",
       "      <td>2014-05-02</td>\n",
       "      <td>790000.000</td>\n",
       "      <td>3</td>\n",
       "      <td>2.500</td>\n",
       "      <td>2600</td>\n",
       "      <td>4750</td>\n",
       "      <td>1.000</td>\n",
       "      <td>0.000</td>\n",
       "      <td>0.000</td>\n",
       "      <td>4</td>\n",
       "      <td>9</td>\n",
       "      <td>1700</td>\n",
       "      <td>900</td>\n",
       "      <td>98117</td>\n",
       "      <td>47.683</td>\n",
       "      <td>-122.400</td>\n",
       "      <td>2380</td>\n",
       "      <td>4750</td>\n",
       "      <td>1950</td>\n",
       "      <td>41</td>\n",
       "    </tr>\n",
       "    <tr>\n",
       "      <th>...</th>\n",
       "      <td>...</td>\n",
       "      <td>...</td>\n",
       "      <td>...</td>\n",
       "      <td>...</td>\n",
       "      <td>...</td>\n",
       "      <td>...</td>\n",
       "      <td>...</td>\n",
       "      <td>...</td>\n",
       "      <td>...</td>\n",
       "      <td>...</td>\n",
       "      <td>...</td>\n",
       "      <td>...</td>\n",
       "      <td>...</td>\n",
       "      <td>...</td>\n",
       "      <td>...</td>\n",
       "      <td>...</td>\n",
       "      <td>...</td>\n",
       "      <td>...</td>\n",
       "      <td>...</td>\n",
       "      <td>...</td>\n",
       "      <td>...</td>\n",
       "    </tr>\n",
       "    <tr>\n",
       "      <th>19381</th>\n",
       "      <td>8149600265</td>\n",
       "      <td>2015-05-14</td>\n",
       "      <td>725000.000</td>\n",
       "      <td>4</td>\n",
       "      <td>1.750</td>\n",
       "      <td>1980</td>\n",
       "      <td>5850</td>\n",
       "      <td>1.000</td>\n",
       "      <td>1.000</td>\n",
       "      <td>1.000</td>\n",
       "      <td>4</td>\n",
       "      <td>8</td>\n",
       "      <td>1380</td>\n",
       "      <td>600</td>\n",
       "      <td>98116</td>\n",
       "      <td>47.561</td>\n",
       "      <td>-122.391</td>\n",
       "      <td>1810</td>\n",
       "      <td>5850</td>\n",
       "      <td>1960</td>\n",
       "      <td>40</td>\n",
       "    </tr>\n",
       "    <tr>\n",
       "      <th>12623</th>\n",
       "      <td>4166600610</td>\n",
       "      <td>2015-05-14</td>\n",
       "      <td>335000.000</td>\n",
       "      <td>3</td>\n",
       "      <td>2.000</td>\n",
       "      <td>1410</td>\n",
       "      <td>44866</td>\n",
       "      <td>1.000</td>\n",
       "      <td>0.000</td>\n",
       "      <td>0.000</td>\n",
       "      <td>4</td>\n",
       "      <td>7</td>\n",
       "      <td>1410</td>\n",
       "      <td>0</td>\n",
       "      <td>98023</td>\n",
       "      <td>47.327</td>\n",
       "      <td>-122.370</td>\n",
       "      <td>2950</td>\n",
       "      <td>29152</td>\n",
       "      <td>1980</td>\n",
       "      <td>7</td>\n",
       "    </tr>\n",
       "    <tr>\n",
       "      <th>5632</th>\n",
       "      <td>7923600250</td>\n",
       "      <td>2015-05-15</td>\n",
       "      <td>450000.000</td>\n",
       "      <td>5</td>\n",
       "      <td>2.000</td>\n",
       "      <td>1870</td>\n",
       "      <td>7344</td>\n",
       "      <td>1.500</td>\n",
       "      <td>0.000</td>\n",
       "      <td>0.000</td>\n",
       "      <td>3</td>\n",
       "      <td>7</td>\n",
       "      <td>1870</td>\n",
       "      <td>0</td>\n",
       "      <td>98007</td>\n",
       "      <td>47.595</td>\n",
       "      <td>-122.144</td>\n",
       "      <td>1870</td>\n",
       "      <td>7650</td>\n",
       "      <td>1960</td>\n",
       "      <td>2</td>\n",
       "    </tr>\n",
       "    <tr>\n",
       "      <th>13040</th>\n",
       "      <td>5101400871</td>\n",
       "      <td>2015-05-24</td>\n",
       "      <td>445500.000</td>\n",
       "      <td>2</td>\n",
       "      <td>1.750</td>\n",
       "      <td>1390</td>\n",
       "      <td>6670</td>\n",
       "      <td>1.000</td>\n",
       "      <td>0.000</td>\n",
       "      <td>0.000</td>\n",
       "      <td>3</td>\n",
       "      <td>6</td>\n",
       "      <td>720</td>\n",
       "      <td>670</td>\n",
       "      <td>98115</td>\n",
       "      <td>47.691</td>\n",
       "      <td>-122.308</td>\n",
       "      <td>920</td>\n",
       "      <td>6380</td>\n",
       "      <td>1940</td>\n",
       "      <td>40</td>\n",
       "    </tr>\n",
       "    <tr>\n",
       "      <th>16580</th>\n",
       "      <td>9106000005</td>\n",
       "      <td>2015-05-27</td>\n",
       "      <td>1310000.000</td>\n",
       "      <td>4</td>\n",
       "      <td>2.250</td>\n",
       "      <td>3750</td>\n",
       "      <td>5000</td>\n",
       "      <td>2.000</td>\n",
       "      <td>0.000</td>\n",
       "      <td>0.000</td>\n",
       "      <td>5</td>\n",
       "      <td>8</td>\n",
       "      <td>2440</td>\n",
       "      <td>1310</td>\n",
       "      <td>98115</td>\n",
       "      <td>47.675</td>\n",
       "      <td>-122.303</td>\n",
       "      <td>2170</td>\n",
       "      <td>4590</td>\n",
       "      <td>1920</td>\n",
       "      <td>40</td>\n",
       "    </tr>\n",
       "  </tbody>\n",
       "</table>\n",
       "<p>21597 rows × 21 columns</p>\n",
       "</div>"
      ],
      "text/plain": [
       "               id       date       price  ...  sqft_lot15  decade_built  zips\n",
       "7316   2202500290 2014-05-02  435000.000  ...        8942          1950     1\n",
       "20586  7853361370 2014-05-02  555000.000  ...        5000          2010    22\n",
       "1040   7197300105 2014-05-02  550000.000  ...       10500          1970    18\n",
       "20543  3438501320 2014-05-02  295000.000  ...        2306          2000    37\n",
       "9587    472000620 2014-05-02  790000.000  ...        4750          1950    41\n",
       "...           ...        ...         ...  ...         ...           ...   ...\n",
       "19381  8149600265 2015-05-14  725000.000  ...        5850          1960    40\n",
       "12623  4166600610 2015-05-14  335000.000  ...       29152          1980     7\n",
       "5632   7923600250 2015-05-15  450000.000  ...        7650          1960     2\n",
       "13040  5101400871 2015-05-24  445500.000  ...        6380          1940    40\n",
       "16580  9106000005 2015-05-27 1310000.000  ...        4590          1920    40\n",
       "\n",
       "[21597 rows x 21 columns]"
      ]
     },
     "execution_count": 23,
     "metadata": {},
     "output_type": "execute_result"
    }
   ],
   "source": [
    "## Sort by date to explore the date information further\n",
    "\n",
    "data.sort_values(by='date', axis=0, inplace=True)\n",
    "data"
   ]
  },
  {
   "cell_type": "code",
   "execution_count": 24,
   "metadata": {
    "ExecuteTime": {
     "end_time": "2020-08-28T20:51:07.095906Z",
     "start_time": "2020-08-28T20:51:07.084896Z"
    },
    "scrolled": true
   },
   "outputs": [
    {
     "data": {
      "text/plain": [
       "2     2286\n",
       "3     2096\n",
       "12    2084\n",
       "4     1936\n",
       "6     1806\n",
       "1     1775\n",
       "11    1758\n",
       "5     1719\n",
       "7     1530\n",
       "10    1331\n",
       "8     1322\n",
       "9      991\n",
       "13     963\n",
       "Name: month_sold, dtype: int64"
      ]
     },
     "execution_count": 24,
     "metadata": {},
     "output_type": "execute_result"
    }
   ],
   "source": [
    "## The data stretches 13 months acorss 2 years, from May 2014 to May 2015,\n",
    "## So the months have been binned into 13 bins and labeled according to month\n",
    "\n",
    "data['month_sold'] = pd.cut(data['date'],bins=13, labels=\n",
    "                           range(1,14))\n",
    "data['month_sold'].value_counts()\n"
   ]
  },
  {
   "cell_type": "code",
   "execution_count": 25,
   "metadata": {
    "ExecuteTime": {
     "end_time": "2020-08-28T20:51:07.098909Z",
     "start_time": "2020-08-28T20:51:07.096907Z"
    }
   },
   "outputs": [
    {
     "name": "stdout",
     "output_type": "stream",
     "text": [
      "[1, 2, 3, 4, 5, 6, 7, 8, 9, 10, 11, 12, 13]\n"
     ]
    }
   ],
   "source": [
    "print(list(range(1,14)))"
   ]
  },
  {
   "cell_type": "code",
   "execution_count": 26,
   "metadata": {
    "ExecuteTime": {
     "end_time": "2020-08-28T20:51:07.103913Z",
     "start_time": "2020-08-28T20:51:07.099910Z"
    }
   },
   "outputs": [],
   "source": [
    "# ## Typing data as category objects in the dataframe, moved to a lower cell\n",
    "\n",
    "# cat_cols = ['decade_built', 'waterfront', 'grade', 'view', 'condition', 'month_sold', 'zips']\n",
    "# data[cat_cols] = data[cat_cols].astype('category')"
   ]
  },
  {
   "cell_type": "markdown",
   "metadata": {},
   "source": [
    "### Correlation and Linearity"
   ]
  },
  {
   "cell_type": "markdown",
   "metadata": {},
   "source": [
    "Now, we can take a further look at correlation amongst our columns to see if there are any obvious columns to drop as they do not pertain to the sales price of the houses."
   ]
  },
  {
   "cell_type": "code",
   "execution_count": 27,
   "metadata": {
    "ExecuteTime": {
     "end_time": "2020-08-28T20:51:07.447226Z",
     "start_time": "2020-08-28T20:51:07.104914Z"
    }
   },
   "outputs": [
    {
     "data": {
      "image/png": "[encoded data removed]",
      "text/plain": [
       "<Figure size 864x648 with 2 Axes>"
      ]
     },
     "metadata": {},
     "output_type": "display_data"
    }
   ],
   "source": [
    "## Heatmap to see general correlation of all data to extract \n",
    "## data for further analysis\n",
    "\n",
    "sns.set(context=\"notebook\", font=\"monospace\")\n",
    "corrmat = data.corr()\n",
    "mask = np.triu(np.ones_like(corrmat, dtype=np.bool))\n",
    "f, ax = plt.subplots(figsize=(12, 9))\n",
    "sns.heatmap(corrmat, mask=mask, vmax=.8, square=True, cmap='Blues');"
   ]
  },
  {
   "cell_type": "markdown",
   "metadata": {},
   "source": [
    "Upon inspection a few elements can be seen to have no correlation to the price of the houses. Mainly we are looking at the `id` column. Next we can consider a couple more drops we could safely make, namely the `lat` and `long` columns as our area based predictions are being covered by our binned zipcodes. Therefore we are going to drop the `id`, `lat`, and `long` columns from our data so that we can further process it for modeling. \n",
    "\n",
    "Finally, our `date` data has been binned into `month_sold` and our original `date` `datetime` column can be dropped from the dataframe."
   ]
  },
  {
   "cell_type": "code",
   "execution_count": 28,
   "metadata": {
    "ExecuteTime": {
     "end_time": "2020-08-28T20:51:07.454232Z",
     "start_time": "2020-08-28T20:51:07.448226Z"
    },
    "scrolled": false
   },
   "outputs": [],
   "source": [
    "## Drop the aforementioned columns and check the dataframe\n",
    "\n",
    "data.drop(labels=['id','lat','long', 'date'], axis=1, inplace=True)"
   ]
  },
  {
   "cell_type": "code",
   "execution_count": 29,
   "metadata": {
    "ExecuteTime": {
     "end_time": "2020-08-28T20:51:07.460238Z",
     "start_time": "2020-08-28T20:51:07.455233Z"
    }
   },
   "outputs": [],
   "source": [
    "from ipywidgets import interact"
   ]
  },
  {
   "cell_type": "code",
   "execution_count": 30,
   "metadata": {
    "ExecuteTime": {
     "end_time": "2020-08-28T20:51:07.466243Z",
     "start_time": "2020-08-28T20:51:07.461239Z"
    }
   },
   "outputs": [],
   "source": [
    "target=data['price']\n",
    "\n",
    "def plot_col(df,col,target='price'):\n",
    "    \"\"\"Create a seaborn jointplot to show both linearity and distribution \n",
    "    df = Dataframe you are looking to operate on\n",
    "    col = str or list: Column you wish to be the x axis\n",
    "    target = string: Column you wish to be the Y axis in you graph, default: 'price'\n",
    "    \"\"\"\n",
    "    \n",
    "    plot = sns.jointplot(data=df, x=col, y=target, kind='reg')\n",
    "    plt.suptitle(f\"{col} vs {target}\")\n",
    "    return plot"
   ]
  },
  {
   "cell_type": "code",
   "execution_count": 31,
   "metadata": {
    "ExecuteTime": {
     "end_time": "2020-08-28T20:51:07.472248Z",
     "start_time": "2020-08-28T20:51:07.467244Z"
    }
   },
   "outputs": [],
   "source": [
    "## Separate categorical columns from the numerical and save the numerical\n",
    "\n",
    "cat_cols = ['decade_built', 'waterfront', 'grade', 'view', 'condition', 'month_sold', 'zips']\n",
    "\n",
    "num_cols = list(data.columns)\n",
    "num_cols = [x for x in num_cols if x not in cat_cols]\n",
    "num_cols.remove('price')"
   ]
  },
  {
   "cell_type": "code",
   "execution_count": 32,
   "metadata": {
    "ExecuteTime": {
     "end_time": "2020-08-28T20:51:09.187808Z",
     "start_time": "2020-08-28T20:51:07.473249Z"
    }
   },
   "outputs": [
    {
     "data": {
      "application/vnd.jupyter.widget-view+json": {
       "model_id": "4d00055a3a7f45218e9c59f74fdb11db",
       "version_major": 2,
       "version_minor": 0
      },
      "text/plain": [
       "interactive(children=(Dropdown(description='col', options=('bedrooms', 'bathrooms', 'sqft_living', 'sqft_lot',…"
      ]
     },
     "metadata": {},
     "output_type": "display_data"
    }
   ],
   "source": [
    "@interact\n",
    "def show_plot(col=num_cols):\n",
    "# for col in num_cols:\n",
    "    plot_col(data,col)"
   ]
  },
  {
   "cell_type": "markdown",
   "metadata": {},
   "source": [
    "Now we have a pretty good idea of what our data is looking like. It is important to note a couple of things though:\n",
    "\n",
    "* A lot of the data does appear normal, which is good for our modeling assumptions.\n",
    "* There seems to be a general linear relationship between price and our various columns. \n",
    "\n",
    "impactful things to note for modeling:\n",
    "* There are numerous outliers that will effect our model drastically\n",
    "* There are some remaining features that look conditional, or could be converted to conditional if the needed arises after modeling."
   ]
  },
  {
   "cell_type": "code",
   "execution_count": 33,
   "metadata": {
    "ExecuteTime": {
     "end_time": "2020-08-28T20:51:09.197818Z",
     "start_time": "2020-08-28T20:51:09.188810Z"
    }
   },
   "outputs": [
    {
     "name": "stdout",
     "output_type": "stream",
     "text": [
      "<class 'pandas.core.frame.DataFrame'>\n",
      "Int64Index: 21597 entries, 7316 to 16580\n",
      "Data columns (total 18 columns):\n",
      " #   Column         Non-Null Count  Dtype   \n",
      "---  ------         --------------  -----   \n",
      " 0   price          21597 non-null  float64 \n",
      " 1   bedrooms       21597 non-null  int64   \n",
      " 2   bathrooms      21597 non-null  float64 \n",
      " 3   sqft_living    21597 non-null  int64   \n",
      " 4   sqft_lot       21597 non-null  int64   \n",
      " 5   floors         21597 non-null  float64 \n",
      " 6   waterfront     21597 non-null  float64 \n",
      " 7   view           21597 non-null  float64 \n",
      " 8   condition      21597 non-null  int64   \n",
      " 9   grade          21597 non-null  int64   \n",
      " 10  sqft_above     21597 non-null  int64   \n",
      " 11  sqft_basement  21597 non-null  int64   \n",
      " 12  zipcode        21597 non-null  int64   \n",
      " 13  sqft_living15  21597 non-null  int64   \n",
      " 14  sqft_lot15     21597 non-null  int64   \n",
      " 15  decade_built   21597 non-null  category\n",
      " 16  zips           21597 non-null  int64   \n",
      " 17  month_sold     21597 non-null  category\n",
      "dtypes: category(2), float64(5), int64(11)\n",
      "memory usage: 2.8 MB\n"
     ]
    }
   ],
   "source": [
    "data.info()"
   ]
  },
  {
   "cell_type": "markdown",
   "metadata": {},
   "source": [
    "### Outlier Removal"
   ]
  },
  {
   "cell_type": "code",
   "execution_count": 34,
   "metadata": {
    "ExecuteTime": {
     "end_time": "2020-08-28T20:51:09.203824Z",
     "start_time": "2020-08-28T20:51:09.198819Z"
    }
   },
   "outputs": [],
   "source": [
    "## Continuous\n",
    "cols = list(data.select_dtypes('int64').columns)\n",
    "cols.append('bathrooms')\n",
    "cols.append('price')"
   ]
  },
  {
   "cell_type": "code",
   "execution_count": 35,
   "metadata": {
    "ExecuteTime": {
     "end_time": "2020-08-28T20:51:09.237854Z",
     "start_time": "2020-08-28T20:51:09.205824Z"
    }
   },
   "outputs": [],
   "source": [
    "iqr_dict = {}\n",
    "\n",
    "for col in cols:\n",
    "    q1 = data[col].quantile(.25)\n",
    "    q3 = data[col].quantile(.75)\n",
    "    iqr = (q3 - q1)*1.5\n",
    "    \n",
    "    test = data[col].between(q1-iqr,q3+iqr)\n",
    "    iqr_dict.update({col:test})"
   ]
  },
  {
   "cell_type": "code",
   "execution_count": 36,
   "metadata": {
    "ExecuteTime": {
     "end_time": "2020-08-28T20:51:09.271885Z",
     "start_time": "2020-08-28T20:51:09.238854Z"
    }
   },
   "outputs": [
    {
     "name": "stdout",
     "output_type": "stream",
     "text": [
      "False    16607\n",
      "True      4990\n",
      "Name: any, dtype: int64\n"
     ]
    },
    {
     "data": {
      "text/html": [
       "<div>\n",
       "<style scoped>\n",
       "    .dataframe tbody tr th:only-of-type {\n",
       "        vertical-align: middle;\n",
       "    }\n",
       "\n",
       "    .dataframe tbody tr th {\n",
       "        vertical-align: top;\n",
       "    }\n",
       "\n",
       "    .dataframe thead th {\n",
       "        text-align: right;\n",
       "    }\n",
       "</style>\n",
       "<table border=\"1\" class=\"dataframe\">\n",
       "  <thead>\n",
       "    <tr style=\"text-align: right;\">\n",
       "      <th></th>\n",
       "      <th>bedrooms</th>\n",
       "      <th>sqft_living</th>\n",
       "      <th>sqft_lot</th>\n",
       "      <th>condition</th>\n",
       "      <th>grade</th>\n",
       "      <th>sqft_above</th>\n",
       "      <th>sqft_basement</th>\n",
       "      <th>zipcode</th>\n",
       "      <th>sqft_living15</th>\n",
       "      <th>sqft_lot15</th>\n",
       "      <th>zips</th>\n",
       "      <th>bathrooms</th>\n",
       "      <th>price</th>\n",
       "      <th>any</th>\n",
       "    </tr>\n",
       "  </thead>\n",
       "  <tbody>\n",
       "    <tr>\n",
       "      <th>7316</th>\n",
       "      <td>False</td>\n",
       "      <td>False</td>\n",
       "      <td>False</td>\n",
       "      <td>False</td>\n",
       "      <td>False</td>\n",
       "      <td>False</td>\n",
       "      <td>False</td>\n",
       "      <td>False</td>\n",
       "      <td>False</td>\n",
       "      <td>False</td>\n",
       "      <td>False</td>\n",
       "      <td>False</td>\n",
       "      <td>False</td>\n",
       "      <td>False</td>\n",
       "    </tr>\n",
       "    <tr>\n",
       "      <th>20586</th>\n",
       "      <td>False</td>\n",
       "      <td>False</td>\n",
       "      <td>False</td>\n",
       "      <td>False</td>\n",
       "      <td>False</td>\n",
       "      <td>False</td>\n",
       "      <td>False</td>\n",
       "      <td>False</td>\n",
       "      <td>False</td>\n",
       "      <td>False</td>\n",
       "      <td>False</td>\n",
       "      <td>False</td>\n",
       "      <td>False</td>\n",
       "      <td>False</td>\n",
       "    </tr>\n",
       "    <tr>\n",
       "      <th>1040</th>\n",
       "      <td>False</td>\n",
       "      <td>False</td>\n",
       "      <td>False</td>\n",
       "      <td>False</td>\n",
       "      <td>False</td>\n",
       "      <td>False</td>\n",
       "      <td>False</td>\n",
       "      <td>False</td>\n",
       "      <td>False</td>\n",
       "      <td>False</td>\n",
       "      <td>False</td>\n",
       "      <td>False</td>\n",
       "      <td>False</td>\n",
       "      <td>False</td>\n",
       "    </tr>\n",
       "    <tr>\n",
       "      <th>20543</th>\n",
       "      <td>False</td>\n",
       "      <td>False</td>\n",
       "      <td>False</td>\n",
       "      <td>False</td>\n",
       "      <td>False</td>\n",
       "      <td>False</td>\n",
       "      <td>False</td>\n",
       "      <td>False</td>\n",
       "      <td>False</td>\n",
       "      <td>False</td>\n",
       "      <td>False</td>\n",
       "      <td>False</td>\n",
       "      <td>False</td>\n",
       "      <td>False</td>\n",
       "    </tr>\n",
       "    <tr>\n",
       "      <th>9587</th>\n",
       "      <td>False</td>\n",
       "      <td>False</td>\n",
       "      <td>False</td>\n",
       "      <td>False</td>\n",
       "      <td>False</td>\n",
       "      <td>False</td>\n",
       "      <td>False</td>\n",
       "      <td>False</td>\n",
       "      <td>False</td>\n",
       "      <td>False</td>\n",
       "      <td>False</td>\n",
       "      <td>False</td>\n",
       "      <td>False</td>\n",
       "      <td>False</td>\n",
       "    </tr>\n",
       "    <tr>\n",
       "      <th>9578</th>\n",
       "      <td>False</td>\n",
       "      <td>False</td>\n",
       "      <td>True</td>\n",
       "      <td>False</td>\n",
       "      <td>False</td>\n",
       "      <td>False</td>\n",
       "      <td>False</td>\n",
       "      <td>False</td>\n",
       "      <td>False</td>\n",
       "      <td>True</td>\n",
       "      <td>False</td>\n",
       "      <td>False</td>\n",
       "      <td>False</td>\n",
       "      <td>True</td>\n",
       "    </tr>\n",
       "    <tr>\n",
       "      <th>11879</th>\n",
       "      <td>False</td>\n",
       "      <td>False</td>\n",
       "      <td>False</td>\n",
       "      <td>False</td>\n",
       "      <td>False</td>\n",
       "      <td>False</td>\n",
       "      <td>False</td>\n",
       "      <td>False</td>\n",
       "      <td>False</td>\n",
       "      <td>False</td>\n",
       "      <td>False</td>\n",
       "      <td>False</td>\n",
       "      <td>False</td>\n",
       "      <td>False</td>\n",
       "    </tr>\n",
       "    <tr>\n",
       "      <th>11895</th>\n",
       "      <td>False</td>\n",
       "      <td>False</td>\n",
       "      <td>True</td>\n",
       "      <td>False</td>\n",
       "      <td>False</td>\n",
       "      <td>False</td>\n",
       "      <td>False</td>\n",
       "      <td>False</td>\n",
       "      <td>False</td>\n",
       "      <td>True</td>\n",
       "      <td>False</td>\n",
       "      <td>False</td>\n",
       "      <td>False</td>\n",
       "      <td>True</td>\n",
       "    </tr>\n",
       "    <tr>\n",
       "      <th>4959</th>\n",
       "      <td>False</td>\n",
       "      <td>False</td>\n",
       "      <td>False</td>\n",
       "      <td>False</td>\n",
       "      <td>False</td>\n",
       "      <td>False</td>\n",
       "      <td>False</td>\n",
       "      <td>False</td>\n",
       "      <td>False</td>\n",
       "      <td>False</td>\n",
       "      <td>False</td>\n",
       "      <td>False</td>\n",
       "      <td>False</td>\n",
       "      <td>False</td>\n",
       "    </tr>\n",
       "    <tr>\n",
       "      <th>3719</th>\n",
       "      <td>False</td>\n",
       "      <td>False</td>\n",
       "      <td>False</td>\n",
       "      <td>False</td>\n",
       "      <td>False</td>\n",
       "      <td>False</td>\n",
       "      <td>False</td>\n",
       "      <td>False</td>\n",
       "      <td>False</td>\n",
       "      <td>False</td>\n",
       "      <td>False</td>\n",
       "      <td>False</td>\n",
       "      <td>False</td>\n",
       "      <td>False</td>\n",
       "    </tr>\n",
       "  </tbody>\n",
       "</table>\n",
       "</div>"
      ],
      "text/plain": [
       "       bedrooms  sqft_living  sqft_lot  ...  bathrooms  price    any\n",
       "7316      False        False     False  ...      False  False  False\n",
       "20586     False        False     False  ...      False  False  False\n",
       "1040      False        False     False  ...      False  False  False\n",
       "20543     False        False     False  ...      False  False  False\n",
       "9587      False        False     False  ...      False  False  False\n",
       "9578      False        False      True  ...      False  False   True\n",
       "11879     False        False     False  ...      False  False  False\n",
       "11895     False        False      True  ...      False  False   True\n",
       "4959      False        False     False  ...      False  False  False\n",
       "3719      False        False     False  ...      False  False  False\n",
       "\n",
       "[10 rows x 14 columns]"
      ]
     },
     "metadata": {},
     "output_type": "display_data"
    }
   ],
   "source": [
    "## Make a DataFrame of Outliers\n",
    "\n",
    "outliers = pd.DataFrame(iqr_dict)\n",
    "outliers = outliers.apply(lambda x: ~x)\n",
    "outliers['any'] = outliers.any(axis=1)\n",
    "\n",
    "## Add column of any outliers\n",
    "\n",
    "print(outliers['any'].value_counts())\n",
    "\n",
    "index_outliers = outliers['any'].copy()\n",
    "display(outliers.head(10))"
   ]
  },
  {
   "cell_type": "code",
   "execution_count": null,
   "metadata": {},
   "outputs": [],
   "source": []
  },
  {
   "cell_type": "code",
   "execution_count": 37,
   "metadata": {
    "ExecuteTime": {
     "end_time": "2020-08-28T20:51:09.278891Z",
     "start_time": "2020-08-28T20:51:09.272886Z"
    }
   },
   "outputs": [],
   "source": [
    "# Outlier data removed from chosen variables \n",
    "\n",
    "clean_data = data[~index_outliers].copy()\n"
   ]
  },
  {
   "cell_type": "code",
   "execution_count": 38,
   "metadata": {
    "ExecuteTime": {
     "end_time": "2020-08-28T20:51:09.282895Z",
     "start_time": "2020-08-28T20:51:09.279893Z"
    }
   },
   "outputs": [
    {
     "data": {
      "text/plain": [
       "16607"
      ]
     },
     "execution_count": 38,
     "metadata": {},
     "output_type": "execute_result"
    }
   ],
   "source": [
    "len(clean_data)"
   ]
  },
  {
   "cell_type": "code",
   "execution_count": 39,
   "metadata": {
    "ExecuteTime": {
     "end_time": "2020-08-28T20:51:09.470066Z",
     "start_time": "2020-08-28T20:51:09.283896Z"
    }
   },
   "outputs": [
    {
     "data": {
      "text/plain": [
       "<matplotlib.axes._subplots.AxesSubplot at 0x265eb040da0>"
      ]
     },
     "execution_count": 39,
     "metadata": {},
     "output_type": "execute_result"
    },
    {
     "data": {
      "image/png": "[encoded data removed]",
      "text/plain": [
       "<Figure size 1080x720 with 1 Axes>"
      ]
     },
     "metadata": {},
     "output_type": "display_data"
    }
   ],
   "source": [
    "# clean_data.boxplot(column='price')\n",
    "sns.boxplot(clean_data['price'])"
   ]
  },
  {
   "cell_type": "code",
   "execution_count": 40,
   "metadata": {
    "ExecuteTime": {
     "end_time": "2020-08-28T20:51:09.473068Z",
     "start_time": "2020-08-28T20:51:09.471066Z"
    }
   },
   "outputs": [],
   "source": [
    "## Typing data as category objects in the dataframe\n",
    "\n",
    "# cat_cols = ['waterfront', 'grade', 'view', 'condition', 'month_sold', 'zips', \n",
    "#             'bedrooms', 'bathrooms']\n",
    "# clean_data[cat_cols] = clean_data[cat_cols].astype('category')"
   ]
  },
  {
   "cell_type": "code",
   "execution_count": 41,
   "metadata": {
    "ExecuteTime": {
     "end_time": "2020-08-28T20:51:09.555142Z",
     "start_time": "2020-08-28T20:51:09.474068Z"
    }
   },
   "outputs": [
    {
     "data": {
      "text/html": [
       "<div>\n",
       "<style scoped>\n",
       "    .dataframe tbody tr th:only-of-type {\n",
       "        vertical-align: middle;\n",
       "    }\n",
       "\n",
       "    .dataframe tbody tr th {\n",
       "        vertical-align: top;\n",
       "    }\n",
       "\n",
       "    .dataframe thead th {\n",
       "        text-align: right;\n",
       "    }\n",
       "</style>\n",
       "<table border=\"1\" class=\"dataframe\">\n",
       "  <thead>\n",
       "    <tr style=\"text-align: right;\">\n",
       "      <th></th>\n",
       "      <th>price</th>\n",
       "      <th>bedrooms</th>\n",
       "      <th>bathrooms</th>\n",
       "      <th>sqft_living</th>\n",
       "      <th>sqft_lot</th>\n",
       "      <th>floors</th>\n",
       "      <th>waterfront</th>\n",
       "      <th>view</th>\n",
       "      <th>condition</th>\n",
       "      <th>grade</th>\n",
       "      <th>sqft_above</th>\n",
       "      <th>sqft_basement</th>\n",
       "      <th>zipcode</th>\n",
       "      <th>sqft_living15</th>\n",
       "      <th>sqft_lot15</th>\n",
       "      <th>zips</th>\n",
       "    </tr>\n",
       "  </thead>\n",
       "  <tbody>\n",
       "    <tr>\n",
       "      <th>count</th>\n",
       "      <td>16607.000</td>\n",
       "      <td>16607.000</td>\n",
       "      <td>16607.000</td>\n",
       "      <td>16607.000</td>\n",
       "      <td>16607.000</td>\n",
       "      <td>16607.000</td>\n",
       "      <td>16607.000</td>\n",
       "      <td>16607.000</td>\n",
       "      <td>16607.000</td>\n",
       "      <td>16607.000</td>\n",
       "      <td>16607.000</td>\n",
       "      <td>16607.000</td>\n",
       "      <td>16607.000</td>\n",
       "      <td>16607.000</td>\n",
       "      <td>16607.000</td>\n",
       "      <td>16607.000</td>\n",
       "    </tr>\n",
       "    <tr>\n",
       "      <th>mean</th>\n",
       "      <td>452098.896</td>\n",
       "      <td>3.269</td>\n",
       "      <td>1.984</td>\n",
       "      <td>1838.476</td>\n",
       "      <td>7053.725</td>\n",
       "      <td>1.466</td>\n",
       "      <td>0.112</td>\n",
       "      <td>0.133</td>\n",
       "      <td>3.417</td>\n",
       "      <td>7.401</td>\n",
       "      <td>1590.458</td>\n",
       "      <td>248.018</td>\n",
       "      <td>98081.924</td>\n",
       "      <td>1815.432</td>\n",
       "      <td>6932.411</td>\n",
       "      <td>28.181</td>\n",
       "    </tr>\n",
       "    <tr>\n",
       "      <th>std</th>\n",
       "      <td>189006.433</td>\n",
       "      <td>0.775</td>\n",
       "      <td>0.649</td>\n",
       "      <td>623.694</td>\n",
       "      <td>3384.479</td>\n",
       "      <td>0.544</td>\n",
       "      <td>0.315</td>\n",
       "      <td>0.550</td>\n",
       "      <td>0.645</td>\n",
       "      <td>0.811</td>\n",
       "      <td>599.001</td>\n",
       "      <td>366.761</td>\n",
       "      <td>54.048</td>\n",
       "      <td>514.711</td>\n",
       "      <td>3016.247</td>\n",
       "      <td>19.099</td>\n",
       "    </tr>\n",
       "    <tr>\n",
       "      <th>min</th>\n",
       "      <td>82000.000</td>\n",
       "      <td>2.000</td>\n",
       "      <td>0.750</td>\n",
       "      <td>560.000</td>\n",
       "      <td>520.000</td>\n",
       "      <td>1.000</td>\n",
       "      <td>0.000</td>\n",
       "      <td>0.000</td>\n",
       "      <td>2.000</td>\n",
       "      <td>6.000</td>\n",
       "      <td>480.000</td>\n",
       "      <td>0.000</td>\n",
       "      <td>98001.000</td>\n",
       "      <td>620.000</td>\n",
       "      <td>651.000</td>\n",
       "      <td>0.000</td>\n",
       "    </tr>\n",
       "    <tr>\n",
       "      <th>25%</th>\n",
       "      <td>305497.500</td>\n",
       "      <td>3.000</td>\n",
       "      <td>1.500</td>\n",
       "      <td>1360.000</td>\n",
       "      <td>4750.000</td>\n",
       "      <td>1.000</td>\n",
       "      <td>0.000</td>\n",
       "      <td>0.000</td>\n",
       "      <td>3.000</td>\n",
       "      <td>7.000</td>\n",
       "      <td>1150.000</td>\n",
       "      <td>0.000</td>\n",
       "      <td>98033.000</td>\n",
       "      <td>1440.000</td>\n",
       "      <td>4820.000</td>\n",
       "      <td>11.000</td>\n",
       "    </tr>\n",
       "    <tr>\n",
       "      <th>50%</th>\n",
       "      <td>419000.000</td>\n",
       "      <td>3.000</td>\n",
       "      <td>2.000</td>\n",
       "      <td>1770.000</td>\n",
       "      <td>7029.000</td>\n",
       "      <td>1.000</td>\n",
       "      <td>0.000</td>\n",
       "      <td>0.000</td>\n",
       "      <td>3.000</td>\n",
       "      <td>7.000</td>\n",
       "      <td>1440.000</td>\n",
       "      <td>0.000</td>\n",
       "      <td>98074.000</td>\n",
       "      <td>1720.000</td>\n",
       "      <td>7169.000</td>\n",
       "      <td>25.000</td>\n",
       "    </tr>\n",
       "    <tr>\n",
       "      <th>75%</th>\n",
       "      <td>563975.000</td>\n",
       "      <td>4.000</td>\n",
       "      <td>2.500</td>\n",
       "      <td>2240.000</td>\n",
       "      <td>9000.000</td>\n",
       "      <td>2.000</td>\n",
       "      <td>0.000</td>\n",
       "      <td>0.000</td>\n",
       "      <td>4.000</td>\n",
       "      <td>8.000</td>\n",
       "      <td>1920.000</td>\n",
       "      <td>500.000</td>\n",
       "      <td>98119.000</td>\n",
       "      <td>2130.000</td>\n",
       "      <td>8744.000</td>\n",
       "      <td>41.000</td>\n",
       "    </tr>\n",
       "    <tr>\n",
       "      <th>max</th>\n",
       "      <td>1120000.000</td>\n",
       "      <td>5.000</td>\n",
       "      <td>3.500</td>\n",
       "      <td>4200.000</td>\n",
       "      <td>19141.000</td>\n",
       "      <td>3.500</td>\n",
       "      <td>1.000</td>\n",
       "      <td>4.000</td>\n",
       "      <td>5.000</td>\n",
       "      <td>9.000</td>\n",
       "      <td>3740.000</td>\n",
       "      <td>1400.000</td>\n",
       "      <td>98199.000</td>\n",
       "      <td>3640.000</td>\n",
       "      <td>17550.000</td>\n",
       "      <td>69.000</td>\n",
       "    </tr>\n",
       "  </tbody>\n",
       "</table>\n",
       "</div>"
      ],
      "text/plain": [
       "            price  bedrooms  bathrooms  ...  sqft_living15  sqft_lot15      zips\n",
       "count   16607.000 16607.000  16607.000  ...      16607.000   16607.000 16607.000\n",
       "mean   452098.896     3.269      1.984  ...       1815.432    6932.411    28.181\n",
       "std    189006.433     0.775      0.649  ...        514.711    3016.247    19.099\n",
       "min     82000.000     2.000      0.750  ...        620.000     651.000     0.000\n",
       "25%    305497.500     3.000      1.500  ...       1440.000    4820.000    11.000\n",
       "50%    419000.000     3.000      2.000  ...       1720.000    7169.000    25.000\n",
       "75%    563975.000     4.000      2.500  ...       2130.000    8744.000    41.000\n",
       "max   1120000.000     5.000      3.500  ...       3640.000   17550.000    69.000\n",
       "\n",
       "[8 rows x 16 columns]"
      ]
     },
     "metadata": {},
     "output_type": "display_data"
    },
    {
     "name": "stdout",
     "output_type": "stream",
     "text": [
      "<class 'pandas.core.frame.DataFrame'>\n",
      "Int64Index: 16607 entries, 7316 to 13040\n",
      "Data columns (total 18 columns):\n",
      " #   Column         Non-Null Count  Dtype   \n",
      "---  ------         --------------  -----   \n",
      " 0   price          16607 non-null  float64 \n",
      " 1   bedrooms       16607 non-null  int64   \n",
      " 2   bathrooms      16607 non-null  float64 \n",
      " 3   sqft_living    16607 non-null  int64   \n",
      " 4   sqft_lot       16607 non-null  int64   \n",
      " 5   floors         16607 non-null  float64 \n",
      " 6   waterfront     16607 non-null  float64 \n",
      " 7   view           16607 non-null  float64 \n",
      " 8   condition      16607 non-null  int64   \n",
      " 9   grade          16607 non-null  int64   \n",
      " 10  sqft_above     16607 non-null  int64   \n",
      " 11  sqft_basement  16607 non-null  int64   \n",
      " 12  zipcode        16607 non-null  int64   \n",
      " 13  sqft_living15  16607 non-null  int64   \n",
      " 14  sqft_lot15     16607 non-null  int64   \n",
      " 15  decade_built   16607 non-null  category\n",
      " 16  zips           16607 non-null  int64   \n",
      " 17  month_sold     16607 non-null  category\n",
      "dtypes: category(2), float64(5), int64(11)\n",
      "memory usage: 2.2 MB\n"
     ]
    }
   ],
   "source": [
    "display(clean_data.describe())\n",
    "clean_data.info()"
   ]
  },
  {
   "cell_type": "code",
   "execution_count": 42,
   "metadata": {
    "ExecuteTime": {
     "end_time": "2020-08-28T20:51:11.177123Z",
     "start_time": "2020-08-28T20:51:09.556143Z"
    }
   },
   "outputs": [
    {
     "data": {
      "application/vnd.jupyter.widget-view+json": {
       "model_id": "38062b41cfd64cbab38d97d64bc16003",
       "version_major": 2,
       "version_minor": 0
      },
      "text/plain": [
       "interactive(children=(Dropdown(description='col', options=('bedrooms', 'bathrooms', 'sqft_living', 'sqft_lot',…"
      ]
     },
     "metadata": {},
     "output_type": "display_data"
    }
   ],
   "source": [
    "@interact\n",
    "def show_plot(col=num_cols):\n",
    "# for col in num_cols:\n",
    "    plot_col(clean_data,col)"
   ]
  },
  {
   "cell_type": "markdown",
   "metadata": {},
   "source": [
    " ## Model 1"
   ]
  },
  {
   "cell_type": "code",
   "execution_count": 61,
   "metadata": {
    "ExecuteTime": {
     "end_time": "2020-08-28T20:58:17.489874Z",
     "start_time": "2020-08-28T20:58:17.483868Z"
    }
   },
   "outputs": [],
   "source": [
    "def make_model(df, target='price', drop_cols=[], show_sum = True):\n",
    "    \n",
    "    \"\"\"\n",
    "    Returns model, shows QQplot, shows homoescedascity test\n",
    "    df - dataframe\n",
    "    target - Target for estimation\n",
    "    drop_cols - list of columns to drop, if any\n",
    "    \n",
    "    return: Model from statsmodels\"\"\"\n",
    "    \n",
    "    \n",
    "    df_ohe = df.copy()\n",
    "\n",
    "    ## Dropping columns not needed\n",
    "    for col in drop_cols:\n",
    "        if col in df_ohe.columns:\n",
    "            df_ohe.drop(columns=col,inplace=True)\n",
    "    \n",
    "    ## Formula and Model\n",
    "    features = '+'.join(df_ohe.drop(columns=target).columns)\n",
    "    f = target + '~' + features\n",
    "    m = smf.ols(f, df_ohe).fit()\n",
    "    resids = m.resid\n",
    "    if show_sum:\n",
    "        display(m.summary())\n",
    "\n",
    "        ## Plotting\n",
    "        fig,ax = plt.subplots(ncols=2,figsize=(10,5))\n",
    "        sm.graphics.qqplot(m.resid,fit=True, line='45', ax=ax[0])\n",
    "        ax[0].set_title('QQ Plot')\n",
    "        ax[1].scatter(x=df_ohe[target],y=resids)\n",
    "        ax[1].axhline(0,color='k')\n",
    "        ax[1].set(ylabel='Resids',title='Homoscedasticity Check',\n",
    "                      xlabel='Target Values')\n",
    "        plt.tight_layout()\n",
    "        plt.show()\n",
    "\n",
    "    return m"
   ]
  },
  {
   "cell_type": "code",
   "execution_count": 44,
   "metadata": {
    "ExecuteTime": {
     "end_time": "2020-08-28T20:51:11.192136Z",
     "start_time": "2020-08-28T20:51:11.186130Z"
    }
   },
   "outputs": [],
   "source": [
    "y = clean_data.price\n",
    "Xlist = list(clean_data.columns)\n",
    "Xlist.remove('price')\n",
    "X = clean_data[Xlist]"
   ]
  },
  {
   "cell_type": "code",
   "execution_count": 45,
   "metadata": {
    "ExecuteTime": {
     "end_time": "2020-08-28T20:51:11.198142Z",
     "start_time": "2020-08-28T20:51:11.193137Z"
    }
   },
   "outputs": [],
   "source": [
    "# X.drop('zipcode', axis=1, inplace=True)"
   ]
  },
  {
   "cell_type": "code",
   "execution_count": 46,
   "metadata": {
    "ExecuteTime": {
     "end_time": "2020-08-28T20:51:11.490407Z",
     "start_time": "2020-08-28T20:51:11.199143Z"
    }
   },
   "outputs": [
    {
     "data": {
      "text/html": [
       "<div>\n",
       "<style scoped>\n",
       "    .dataframe tbody tr th:only-of-type {\n",
       "        vertical-align: middle;\n",
       "    }\n",
       "\n",
       "    .dataframe tbody tr th {\n",
       "        vertical-align: top;\n",
       "    }\n",
       "\n",
       "    .dataframe thead th {\n",
       "        text-align: right;\n",
       "    }\n",
       "</style>\n",
       "<table border=\"1\" class=\"dataframe\">\n",
       "  <thead>\n",
       "    <tr style=\"text-align: right;\">\n",
       "      <th></th>\n",
       "      <th>name</th>\n",
       "      <th>coeff</th>\n",
       "    </tr>\n",
       "  </thead>\n",
       "  <tbody>\n",
       "    <tr>\n",
       "      <th>0</th>\n",
       "      <td>bedrooms</td>\n",
       "      <td>0.000</td>\n",
       "    </tr>\n",
       "    <tr>\n",
       "      <th>1</th>\n",
       "      <td>bathrooms</td>\n",
       "      <td>0.000</td>\n",
       "    </tr>\n",
       "    <tr>\n",
       "      <th>2</th>\n",
       "      <td>sqft_living</td>\n",
       "      <td>134.392</td>\n",
       "    </tr>\n",
       "    <tr>\n",
       "      <th>3</th>\n",
       "      <td>sqft_lot</td>\n",
       "      <td>6.773</td>\n",
       "    </tr>\n",
       "    <tr>\n",
       "      <th>4</th>\n",
       "      <td>floors</td>\n",
       "      <td>0.000</td>\n",
       "    </tr>\n",
       "    <tr>\n",
       "      <th>5</th>\n",
       "      <td>waterfront</td>\n",
       "      <td>0.000</td>\n",
       "    </tr>\n",
       "    <tr>\n",
       "      <th>6</th>\n",
       "      <td>view</td>\n",
       "      <td>0.000</td>\n",
       "    </tr>\n",
       "    <tr>\n",
       "      <th>7</th>\n",
       "      <td>condition</td>\n",
       "      <td>0.000</td>\n",
       "    </tr>\n",
       "    <tr>\n",
       "      <th>8</th>\n",
       "      <td>grade</td>\n",
       "      <td>0.000</td>\n",
       "    </tr>\n",
       "    <tr>\n",
       "      <th>9</th>\n",
       "      <td>sqft_above</td>\n",
       "      <td>0.000</td>\n",
       "    </tr>\n",
       "    <tr>\n",
       "      <th>10</th>\n",
       "      <td>sqft_basement</td>\n",
       "      <td>5.996</td>\n",
       "    </tr>\n",
       "    <tr>\n",
       "      <th>11</th>\n",
       "      <td>zipcode</td>\n",
       "      <td>131.038</td>\n",
       "    </tr>\n",
       "    <tr>\n",
       "      <th>12</th>\n",
       "      <td>sqft_living15</td>\n",
       "      <td>110.665</td>\n",
       "    </tr>\n",
       "    <tr>\n",
       "      <th>13</th>\n",
       "      <td>sqft_lot15</td>\n",
       "      <td>7.814</td>\n",
       "    </tr>\n",
       "    <tr>\n",
       "      <th>14</th>\n",
       "      <td>decade_built</td>\n",
       "      <td>1806.201</td>\n",
       "    </tr>\n",
       "    <tr>\n",
       "      <th>15</th>\n",
       "      <td>zips</td>\n",
       "      <td>0.000</td>\n",
       "    </tr>\n",
       "    <tr>\n",
       "      <th>16</th>\n",
       "      <td>month_sold</td>\n",
       "      <td>0.000</td>\n",
       "    </tr>\n",
       "  </tbody>\n",
       "</table>\n",
       "</div>"
      ],
      "text/plain": [
       "             name    coeff\n",
       "0        bedrooms    0.000\n",
       "1       bathrooms    0.000\n",
       "2     sqft_living  134.392\n",
       "3        sqft_lot    6.773\n",
       "4          floors    0.000\n",
       "5      waterfront    0.000\n",
       "6            view    0.000\n",
       "7       condition    0.000\n",
       "8           grade    0.000\n",
       "9      sqft_above    0.000\n",
       "10  sqft_basement    5.996\n",
       "11        zipcode  131.038\n",
       "12  sqft_living15  110.665\n",
       "13     sqft_lot15    7.814\n",
       "14   decade_built 1806.201\n",
       "15           zips    0.000\n",
       "16     month_sold    0.000"
      ]
     },
     "execution_count": 46,
     "metadata": {},
     "output_type": "execute_result"
    }
   ],
   "source": [
    "from sklearn.linear_model import LassoCV\n",
    "\n",
    "lasso = LassoCV().fit(X, y)\n",
    "score = lasso.score(X,y)\n",
    "importance = np.abs(lasso.coef_)\n",
    "feature = pd.DataFrame(zip(X.columns, importance), columns=['name','coeff'])\n",
    "feature"
   ]
  },
  {
   "cell_type": "code",
   "execution_count": 47,
   "metadata": {
    "ExecuteTime": {
     "end_time": "2020-08-28T20:51:11.495412Z",
     "start_time": "2020-08-28T20:51:11.491408Z"
    }
   },
   "outputs": [],
   "source": [
    "feature = feature[feature['coeff'] > 0]\n",
    "featlst = list(feature.name)\n",
    "featlst.append('price')\n",
    "featlst.remove('sqft_lot')"
   ]
  },
  {
   "cell_type": "code",
   "execution_count": 48,
   "metadata": {
    "ExecuteTime": {
     "end_time": "2020-08-28T20:51:11.503419Z",
     "start_time": "2020-08-28T20:51:11.496413Z"
    }
   },
   "outputs": [],
   "source": [
    "new_data = clean_data[featlst]"
   ]
  },
  {
   "cell_type": "code",
   "execution_count": 49,
   "metadata": {
    "ExecuteTime": {
     "end_time": "2020-08-28T20:51:11.509424Z",
     "start_time": "2020-08-28T20:51:11.504420Z"
    }
   },
   "outputs": [],
   "source": [
    "new_data = clean_data"
   ]
  },
  {
   "cell_type": "code",
   "execution_count": 50,
   "metadata": {
    "ExecuteTime": {
     "end_time": "2020-08-28T20:51:11.515431Z",
     "start_time": "2020-08-28T20:51:11.510425Z"
    }
   },
   "outputs": [],
   "source": [
    "cat_cols = ['zipcode', 'decade_built']"
   ]
  },
  {
   "cell_type": "markdown",
   "metadata": {},
   "source": [
    "### One-Hot Encoding"
   ]
  },
  {
   "cell_type": "code",
   "execution_count": 51,
   "metadata": {
    "ExecuteTime": {
     "end_time": "2020-08-28T20:51:11.531444Z",
     "start_time": "2020-08-28T20:51:11.516431Z"
    }
   },
   "outputs": [],
   "source": [
    "## One-Hot encode all the categorical columns for modeling\n",
    "\n",
    "ohe_clean_data = pd.get_dummies(data=new_data, columns=cat_cols, drop_first=True)"
   ]
  },
  {
   "cell_type": "code",
   "execution_count": 52,
   "metadata": {
    "ExecuteTime": {
     "end_time": "2020-08-28T20:51:11.659561Z",
     "start_time": "2020-08-28T20:51:11.532445Z"
    }
   },
   "outputs": [
    {
     "data": {
      "text/html": [
       "<div>\n",
       "<style scoped>\n",
       "    .dataframe tbody tr th:only-of-type {\n",
       "        vertical-align: middle;\n",
       "    }\n",
       "\n",
       "    .dataframe tbody tr th {\n",
       "        vertical-align: top;\n",
       "    }\n",
       "\n",
       "    .dataframe thead th {\n",
       "        text-align: right;\n",
       "    }\n",
       "</style>\n",
       "<table border=\"1\" class=\"dataframe\">\n",
       "  <thead>\n",
       "    <tr style=\"text-align: right;\">\n",
       "      <th></th>\n",
       "      <th>price</th>\n",
       "      <th>bedrooms</th>\n",
       "      <th>bathrooms</th>\n",
       "      <th>sqft_living</th>\n",
       "      <th>sqft_lot</th>\n",
       "      <th>floors</th>\n",
       "      <th>waterfront</th>\n",
       "      <th>view</th>\n",
       "      <th>condition</th>\n",
       "      <th>grade</th>\n",
       "      <th>sqft_above</th>\n",
       "      <th>sqft_basement</th>\n",
       "      <th>sqft_living15</th>\n",
       "      <th>sqft_lot15</th>\n",
       "      <th>zips</th>\n",
       "      <th>month_sold</th>\n",
       "      <th>zipcode_98002</th>\n",
       "      <th>zipcode_98003</th>\n",
       "      <th>zipcode_98004</th>\n",
       "      <th>zipcode_98005</th>\n",
       "      <th>zipcode_98006</th>\n",
       "      <th>zipcode_98007</th>\n",
       "      <th>zipcode_98008</th>\n",
       "      <th>zipcode_98010</th>\n",
       "      <th>zipcode_98011</th>\n",
       "      <th>zipcode_98014</th>\n",
       "      <th>zipcode_98019</th>\n",
       "      <th>zipcode_98022</th>\n",
       "      <th>zipcode_98023</th>\n",
       "      <th>zipcode_98024</th>\n",
       "      <th>zipcode_98027</th>\n",
       "      <th>zipcode_98028</th>\n",
       "      <th>zipcode_98029</th>\n",
       "      <th>zipcode_98030</th>\n",
       "      <th>zipcode_98031</th>\n",
       "      <th>zipcode_98032</th>\n",
       "      <th>zipcode_98033</th>\n",
       "      <th>zipcode_98034</th>\n",
       "      <th>zipcode_98038</th>\n",
       "      <th>zipcode_98039</th>\n",
       "      <th>...</th>\n",
       "      <th>zipcode_98102</th>\n",
       "      <th>zipcode_98103</th>\n",
       "      <th>zipcode_98105</th>\n",
       "      <th>zipcode_98106</th>\n",
       "      <th>zipcode_98107</th>\n",
       "      <th>zipcode_98108</th>\n",
       "      <th>zipcode_98109</th>\n",
       "      <th>zipcode_98112</th>\n",
       "      <th>zipcode_98115</th>\n",
       "      <th>zipcode_98116</th>\n",
       "      <th>zipcode_98117</th>\n",
       "      <th>zipcode_98118</th>\n",
       "      <th>zipcode_98119</th>\n",
       "      <th>zipcode_98122</th>\n",
       "      <th>zipcode_98125</th>\n",
       "      <th>zipcode_98126</th>\n",
       "      <th>zipcode_98133</th>\n",
       "      <th>zipcode_98136</th>\n",
       "      <th>zipcode_98144</th>\n",
       "      <th>zipcode_98146</th>\n",
       "      <th>zipcode_98148</th>\n",
       "      <th>zipcode_98155</th>\n",
       "      <th>zipcode_98166</th>\n",
       "      <th>zipcode_98168</th>\n",
       "      <th>zipcode_98177</th>\n",
       "      <th>zipcode_98178</th>\n",
       "      <th>zipcode_98188</th>\n",
       "      <th>zipcode_98198</th>\n",
       "      <th>zipcode_98199</th>\n",
       "      <th>decade_built_1910</th>\n",
       "      <th>decade_built_1920</th>\n",
       "      <th>decade_built_1930</th>\n",
       "      <th>decade_built_1940</th>\n",
       "      <th>decade_built_1950</th>\n",
       "      <th>decade_built_1960</th>\n",
       "      <th>decade_built_1970</th>\n",
       "      <th>decade_built_1980</th>\n",
       "      <th>decade_built_1990</th>\n",
       "      <th>decade_built_2000</th>\n",
       "      <th>decade_built_2010</th>\n",
       "    </tr>\n",
       "  </thead>\n",
       "  <tbody>\n",
       "    <tr>\n",
       "      <th>7316</th>\n",
       "      <td>435000.000</td>\n",
       "      <td>4</td>\n",
       "      <td>1.000</td>\n",
       "      <td>1450</td>\n",
       "      <td>8800</td>\n",
       "      <td>1.000</td>\n",
       "      <td>0.000</td>\n",
       "      <td>0.000</td>\n",
       "      <td>4</td>\n",
       "      <td>7</td>\n",
       "      <td>1450</td>\n",
       "      <td>0</td>\n",
       "      <td>1260</td>\n",
       "      <td>8942</td>\n",
       "      <td>1</td>\n",
       "      <td>1</td>\n",
       "      <td>0</td>\n",
       "      <td>0</td>\n",
       "      <td>0</td>\n",
       "      <td>0</td>\n",
       "      <td>1</td>\n",
       "      <td>0</td>\n",
       "      <td>0</td>\n",
       "      <td>0</td>\n",
       "      <td>0</td>\n",
       "      <td>0</td>\n",
       "      <td>0</td>\n",
       "      <td>0</td>\n",
       "      <td>0</td>\n",
       "      <td>0</td>\n",
       "      <td>0</td>\n",
       "      <td>0</td>\n",
       "      <td>0</td>\n",
       "      <td>0</td>\n",
       "      <td>0</td>\n",
       "      <td>0</td>\n",
       "      <td>0</td>\n",
       "      <td>0</td>\n",
       "      <td>0</td>\n",
       "      <td>0</td>\n",
       "      <td>...</td>\n",
       "      <td>0</td>\n",
       "      <td>0</td>\n",
       "      <td>0</td>\n",
       "      <td>0</td>\n",
       "      <td>0</td>\n",
       "      <td>0</td>\n",
       "      <td>0</td>\n",
       "      <td>0</td>\n",
       "      <td>0</td>\n",
       "      <td>0</td>\n",
       "      <td>0</td>\n",
       "      <td>0</td>\n",
       "      <td>0</td>\n",
       "      <td>0</td>\n",
       "      <td>0</td>\n",
       "      <td>0</td>\n",
       "      <td>0</td>\n",
       "      <td>0</td>\n",
       "      <td>0</td>\n",
       "      <td>0</td>\n",
       "      <td>0</td>\n",
       "      <td>0</td>\n",
       "      <td>0</td>\n",
       "      <td>0</td>\n",
       "      <td>0</td>\n",
       "      <td>0</td>\n",
       "      <td>0</td>\n",
       "      <td>0</td>\n",
       "      <td>0</td>\n",
       "      <td>0</td>\n",
       "      <td>0</td>\n",
       "      <td>0</td>\n",
       "      <td>0</td>\n",
       "      <td>1</td>\n",
       "      <td>0</td>\n",
       "      <td>0</td>\n",
       "      <td>0</td>\n",
       "      <td>0</td>\n",
       "      <td>0</td>\n",
       "      <td>0</td>\n",
       "    </tr>\n",
       "    <tr>\n",
       "      <th>20586</th>\n",
       "      <td>555000.000</td>\n",
       "      <td>4</td>\n",
       "      <td>2.500</td>\n",
       "      <td>3310</td>\n",
       "      <td>6500</td>\n",
       "      <td>2.000</td>\n",
       "      <td>0.000</td>\n",
       "      <td>0.000</td>\n",
       "      <td>3</td>\n",
       "      <td>8</td>\n",
       "      <td>3310</td>\n",
       "      <td>0</td>\n",
       "      <td>2380</td>\n",
       "      <td>5000</td>\n",
       "      <td>22</td>\n",
       "      <td>1</td>\n",
       "      <td>0</td>\n",
       "      <td>0</td>\n",
       "      <td>0</td>\n",
       "      <td>0</td>\n",
       "      <td>0</td>\n",
       "      <td>0</td>\n",
       "      <td>0</td>\n",
       "      <td>0</td>\n",
       "      <td>0</td>\n",
       "      <td>0</td>\n",
       "      <td>0</td>\n",
       "      <td>0</td>\n",
       "      <td>0</td>\n",
       "      <td>0</td>\n",
       "      <td>0</td>\n",
       "      <td>0</td>\n",
       "      <td>0</td>\n",
       "      <td>0</td>\n",
       "      <td>0</td>\n",
       "      <td>0</td>\n",
       "      <td>0</td>\n",
       "      <td>0</td>\n",
       "      <td>0</td>\n",
       "      <td>0</td>\n",
       "      <td>...</td>\n",
       "      <td>0</td>\n",
       "      <td>0</td>\n",
       "      <td>0</td>\n",
       "      <td>0</td>\n",
       "      <td>0</td>\n",
       "      <td>0</td>\n",
       "      <td>0</td>\n",
       "      <td>0</td>\n",
       "      <td>0</td>\n",
       "      <td>0</td>\n",
       "      <td>0</td>\n",
       "      <td>0</td>\n",
       "      <td>0</td>\n",
       "      <td>0</td>\n",
       "      <td>0</td>\n",
       "      <td>0</td>\n",
       "      <td>0</td>\n",
       "      <td>0</td>\n",
       "      <td>0</td>\n",
       "      <td>0</td>\n",
       "      <td>0</td>\n",
       "      <td>0</td>\n",
       "      <td>0</td>\n",
       "      <td>0</td>\n",
       "      <td>0</td>\n",
       "      <td>0</td>\n",
       "      <td>0</td>\n",
       "      <td>0</td>\n",
       "      <td>0</td>\n",
       "      <td>0</td>\n",
       "      <td>0</td>\n",
       "      <td>0</td>\n",
       "      <td>0</td>\n",
       "      <td>0</td>\n",
       "      <td>0</td>\n",
       "      <td>0</td>\n",
       "      <td>0</td>\n",
       "      <td>0</td>\n",
       "      <td>0</td>\n",
       "      <td>1</td>\n",
       "    </tr>\n",
       "    <tr>\n",
       "      <th>1040</th>\n",
       "      <td>550000.000</td>\n",
       "      <td>4</td>\n",
       "      <td>2.500</td>\n",
       "      <td>1940</td>\n",
       "      <td>10500</td>\n",
       "      <td>1.000</td>\n",
       "      <td>1.000</td>\n",
       "      <td>0.000</td>\n",
       "      <td>4</td>\n",
       "      <td>7</td>\n",
       "      <td>1140</td>\n",
       "      <td>800</td>\n",
       "      <td>2200</td>\n",
       "      <td>10500</td>\n",
       "      <td>18</td>\n",
       "      <td>1</td>\n",
       "      <td>0</td>\n",
       "      <td>0</td>\n",
       "      <td>0</td>\n",
       "      <td>0</td>\n",
       "      <td>0</td>\n",
       "      <td>0</td>\n",
       "      <td>0</td>\n",
       "      <td>0</td>\n",
       "      <td>0</td>\n",
       "      <td>0</td>\n",
       "      <td>0</td>\n",
       "      <td>0</td>\n",
       "      <td>0</td>\n",
       "      <td>0</td>\n",
       "      <td>0</td>\n",
       "      <td>0</td>\n",
       "      <td>0</td>\n",
       "      <td>0</td>\n",
       "      <td>0</td>\n",
       "      <td>0</td>\n",
       "      <td>0</td>\n",
       "      <td>0</td>\n",
       "      <td>0</td>\n",
       "      <td>0</td>\n",
       "      <td>...</td>\n",
       "      <td>0</td>\n",
       "      <td>0</td>\n",
       "      <td>0</td>\n",
       "      <td>0</td>\n",
       "      <td>0</td>\n",
       "      <td>0</td>\n",
       "      <td>0</td>\n",
       "      <td>0</td>\n",
       "      <td>0</td>\n",
       "      <td>0</td>\n",
       "      <td>0</td>\n",
       "      <td>0</td>\n",
       "      <td>0</td>\n",
       "      <td>0</td>\n",
       "      <td>0</td>\n",
       "      <td>0</td>\n",
       "      <td>0</td>\n",
       "      <td>0</td>\n",
       "      <td>0</td>\n",
       "      <td>0</td>\n",
       "      <td>0</td>\n",
       "      <td>0</td>\n",
       "      <td>0</td>\n",
       "      <td>0</td>\n",
       "      <td>0</td>\n",
       "      <td>0</td>\n",
       "      <td>0</td>\n",
       "      <td>0</td>\n",
       "      <td>0</td>\n",
       "      <td>0</td>\n",
       "      <td>0</td>\n",
       "      <td>0</td>\n",
       "      <td>0</td>\n",
       "      <td>0</td>\n",
       "      <td>0</td>\n",
       "      <td>1</td>\n",
       "      <td>0</td>\n",
       "      <td>0</td>\n",
       "      <td>0</td>\n",
       "      <td>0</td>\n",
       "    </tr>\n",
       "    <tr>\n",
       "      <th>20543</th>\n",
       "      <td>295000.000</td>\n",
       "      <td>2</td>\n",
       "      <td>2.500</td>\n",
       "      <td>1630</td>\n",
       "      <td>1368</td>\n",
       "      <td>2.000</td>\n",
       "      <td>0.000</td>\n",
       "      <td>0.000</td>\n",
       "      <td>3</td>\n",
       "      <td>7</td>\n",
       "      <td>1280</td>\n",
       "      <td>350</td>\n",
       "      <td>1590</td>\n",
       "      <td>2306</td>\n",
       "      <td>37</td>\n",
       "      <td>1</td>\n",
       "      <td>0</td>\n",
       "      <td>0</td>\n",
       "      <td>0</td>\n",
       "      <td>0</td>\n",
       "      <td>0</td>\n",
       "      <td>0</td>\n",
       "      <td>0</td>\n",
       "      <td>0</td>\n",
       "      <td>0</td>\n",
       "      <td>0</td>\n",
       "      <td>0</td>\n",
       "      <td>0</td>\n",
       "      <td>0</td>\n",
       "      <td>0</td>\n",
       "      <td>0</td>\n",
       "      <td>0</td>\n",
       "      <td>0</td>\n",
       "      <td>0</td>\n",
       "      <td>0</td>\n",
       "      <td>0</td>\n",
       "      <td>0</td>\n",
       "      <td>0</td>\n",
       "      <td>0</td>\n",
       "      <td>0</td>\n",
       "      <td>...</td>\n",
       "      <td>0</td>\n",
       "      <td>0</td>\n",
       "      <td>0</td>\n",
       "      <td>1</td>\n",
       "      <td>0</td>\n",
       "      <td>0</td>\n",
       "      <td>0</td>\n",
       "      <td>0</td>\n",
       "      <td>0</td>\n",
       "      <td>0</td>\n",
       "      <td>0</td>\n",
       "      <td>0</td>\n",
       "      <td>0</td>\n",
       "      <td>0</td>\n",
       "      <td>0</td>\n",
       "      <td>0</td>\n",
       "      <td>0</td>\n",
       "      <td>0</td>\n",
       "      <td>0</td>\n",
       "      <td>0</td>\n",
       "      <td>0</td>\n",
       "      <td>0</td>\n",
       "      <td>0</td>\n",
       "      <td>0</td>\n",
       "      <td>0</td>\n",
       "      <td>0</td>\n",
       "      <td>0</td>\n",
       "      <td>0</td>\n",
       "      <td>0</td>\n",
       "      <td>0</td>\n",
       "      <td>0</td>\n",
       "      <td>0</td>\n",
       "      <td>0</td>\n",
       "      <td>0</td>\n",
       "      <td>0</td>\n",
       "      <td>0</td>\n",
       "      <td>0</td>\n",
       "      <td>0</td>\n",
       "      <td>1</td>\n",
       "      <td>0</td>\n",
       "    </tr>\n",
       "    <tr>\n",
       "      <th>9587</th>\n",
       "      <td>790000.000</td>\n",
       "      <td>3</td>\n",
       "      <td>2.500</td>\n",
       "      <td>2600</td>\n",
       "      <td>4750</td>\n",
       "      <td>1.000</td>\n",
       "      <td>0.000</td>\n",
       "      <td>0.000</td>\n",
       "      <td>4</td>\n",
       "      <td>9</td>\n",
       "      <td>1700</td>\n",
       "      <td>900</td>\n",
       "      <td>2380</td>\n",
       "      <td>4750</td>\n",
       "      <td>41</td>\n",
       "      <td>1</td>\n",
       "      <td>0</td>\n",
       "      <td>0</td>\n",
       "      <td>0</td>\n",
       "      <td>0</td>\n",
       "      <td>0</td>\n",
       "      <td>0</td>\n",
       "      <td>0</td>\n",
       "      <td>0</td>\n",
       "      <td>0</td>\n",
       "      <td>0</td>\n",
       "      <td>0</td>\n",
       "      <td>0</td>\n",
       "      <td>0</td>\n",
       "      <td>0</td>\n",
       "      <td>0</td>\n",
       "      <td>0</td>\n",
       "      <td>0</td>\n",
       "      <td>0</td>\n",
       "      <td>0</td>\n",
       "      <td>0</td>\n",
       "      <td>0</td>\n",
       "      <td>0</td>\n",
       "      <td>0</td>\n",
       "      <td>0</td>\n",
       "      <td>...</td>\n",
       "      <td>0</td>\n",
       "      <td>0</td>\n",
       "      <td>0</td>\n",
       "      <td>0</td>\n",
       "      <td>0</td>\n",
       "      <td>0</td>\n",
       "      <td>0</td>\n",
       "      <td>0</td>\n",
       "      <td>0</td>\n",
       "      <td>0</td>\n",
       "      <td>1</td>\n",
       "      <td>0</td>\n",
       "      <td>0</td>\n",
       "      <td>0</td>\n",
       "      <td>0</td>\n",
       "      <td>0</td>\n",
       "      <td>0</td>\n",
       "      <td>0</td>\n",
       "      <td>0</td>\n",
       "      <td>0</td>\n",
       "      <td>0</td>\n",
       "      <td>0</td>\n",
       "      <td>0</td>\n",
       "      <td>0</td>\n",
       "      <td>0</td>\n",
       "      <td>0</td>\n",
       "      <td>0</td>\n",
       "      <td>0</td>\n",
       "      <td>0</td>\n",
       "      <td>0</td>\n",
       "      <td>0</td>\n",
       "      <td>0</td>\n",
       "      <td>0</td>\n",
       "      <td>1</td>\n",
       "      <td>0</td>\n",
       "      <td>0</td>\n",
       "      <td>0</td>\n",
       "      <td>0</td>\n",
       "      <td>0</td>\n",
       "      <td>0</td>\n",
       "    </tr>\n",
       "    <tr>\n",
       "      <th>...</th>\n",
       "      <td>...</td>\n",
       "      <td>...</td>\n",
       "      <td>...</td>\n",
       "      <td>...</td>\n",
       "      <td>...</td>\n",
       "      <td>...</td>\n",
       "      <td>...</td>\n",
       "      <td>...</td>\n",
       "      <td>...</td>\n",
       "      <td>...</td>\n",
       "      <td>...</td>\n",
       "      <td>...</td>\n",
       "      <td>...</td>\n",
       "      <td>...</td>\n",
       "      <td>...</td>\n",
       "      <td>...</td>\n",
       "      <td>...</td>\n",
       "      <td>...</td>\n",
       "      <td>...</td>\n",
       "      <td>...</td>\n",
       "      <td>...</td>\n",
       "      <td>...</td>\n",
       "      <td>...</td>\n",
       "      <td>...</td>\n",
       "      <td>...</td>\n",
       "      <td>...</td>\n",
       "      <td>...</td>\n",
       "      <td>...</td>\n",
       "      <td>...</td>\n",
       "      <td>...</td>\n",
       "      <td>...</td>\n",
       "      <td>...</td>\n",
       "      <td>...</td>\n",
       "      <td>...</td>\n",
       "      <td>...</td>\n",
       "      <td>...</td>\n",
       "      <td>...</td>\n",
       "      <td>...</td>\n",
       "      <td>...</td>\n",
       "      <td>...</td>\n",
       "      <td>...</td>\n",
       "      <td>...</td>\n",
       "      <td>...</td>\n",
       "      <td>...</td>\n",
       "      <td>...</td>\n",
       "      <td>...</td>\n",
       "      <td>...</td>\n",
       "      <td>...</td>\n",
       "      <td>...</td>\n",
       "      <td>...</td>\n",
       "      <td>...</td>\n",
       "      <td>...</td>\n",
       "      <td>...</td>\n",
       "      <td>...</td>\n",
       "      <td>...</td>\n",
       "      <td>...</td>\n",
       "      <td>...</td>\n",
       "      <td>...</td>\n",
       "      <td>...</td>\n",
       "      <td>...</td>\n",
       "      <td>...</td>\n",
       "      <td>...</td>\n",
       "      <td>...</td>\n",
       "      <td>...</td>\n",
       "      <td>...</td>\n",
       "      <td>...</td>\n",
       "      <td>...</td>\n",
       "      <td>...</td>\n",
       "      <td>...</td>\n",
       "      <td>...</td>\n",
       "      <td>...</td>\n",
       "      <td>...</td>\n",
       "      <td>...</td>\n",
       "      <td>...</td>\n",
       "      <td>...</td>\n",
       "      <td>...</td>\n",
       "      <td>...</td>\n",
       "      <td>...</td>\n",
       "      <td>...</td>\n",
       "      <td>...</td>\n",
       "      <td>...</td>\n",
       "    </tr>\n",
       "    <tr>\n",
       "      <th>20456</th>\n",
       "      <td>479349.000</td>\n",
       "      <td>5</td>\n",
       "      <td>3.000</td>\n",
       "      <td>3223</td>\n",
       "      <td>6371</td>\n",
       "      <td>2.000</td>\n",
       "      <td>0.000</td>\n",
       "      <td>0.000</td>\n",
       "      <td>3</td>\n",
       "      <td>9</td>\n",
       "      <td>3223</td>\n",
       "      <td>0</td>\n",
       "      <td>1979</td>\n",
       "      <td>9008</td>\n",
       "      <td>14</td>\n",
       "      <td>13</td>\n",
       "      <td>0</td>\n",
       "      <td>0</td>\n",
       "      <td>0</td>\n",
       "      <td>0</td>\n",
       "      <td>0</td>\n",
       "      <td>0</td>\n",
       "      <td>0</td>\n",
       "      <td>0</td>\n",
       "      <td>0</td>\n",
       "      <td>0</td>\n",
       "      <td>0</td>\n",
       "      <td>0</td>\n",
       "      <td>0</td>\n",
       "      <td>0</td>\n",
       "      <td>0</td>\n",
       "      <td>0</td>\n",
       "      <td>0</td>\n",
       "      <td>0</td>\n",
       "      <td>0</td>\n",
       "      <td>0</td>\n",
       "      <td>0</td>\n",
       "      <td>0</td>\n",
       "      <td>0</td>\n",
       "      <td>0</td>\n",
       "      <td>...</td>\n",
       "      <td>0</td>\n",
       "      <td>0</td>\n",
       "      <td>0</td>\n",
       "      <td>0</td>\n",
       "      <td>0</td>\n",
       "      <td>0</td>\n",
       "      <td>0</td>\n",
       "      <td>0</td>\n",
       "      <td>0</td>\n",
       "      <td>0</td>\n",
       "      <td>0</td>\n",
       "      <td>0</td>\n",
       "      <td>0</td>\n",
       "      <td>0</td>\n",
       "      <td>0</td>\n",
       "      <td>0</td>\n",
       "      <td>0</td>\n",
       "      <td>0</td>\n",
       "      <td>0</td>\n",
       "      <td>0</td>\n",
       "      <td>0</td>\n",
       "      <td>0</td>\n",
       "      <td>0</td>\n",
       "      <td>0</td>\n",
       "      <td>0</td>\n",
       "      <td>0</td>\n",
       "      <td>0</td>\n",
       "      <td>0</td>\n",
       "      <td>0</td>\n",
       "      <td>0</td>\n",
       "      <td>0</td>\n",
       "      <td>0</td>\n",
       "      <td>0</td>\n",
       "      <td>0</td>\n",
       "      <td>0</td>\n",
       "      <td>0</td>\n",
       "      <td>0</td>\n",
       "      <td>0</td>\n",
       "      <td>0</td>\n",
       "      <td>1</td>\n",
       "    </tr>\n",
       "    <tr>\n",
       "      <th>11548</th>\n",
       "      <td>360000.000</td>\n",
       "      <td>4</td>\n",
       "      <td>2.500</td>\n",
       "      <td>2020</td>\n",
       "      <td>7289</td>\n",
       "      <td>2.000</td>\n",
       "      <td>0.000</td>\n",
       "      <td>0.000</td>\n",
       "      <td>3</td>\n",
       "      <td>7</td>\n",
       "      <td>2020</td>\n",
       "      <td>0</td>\n",
       "      <td>2090</td>\n",
       "      <td>7259</td>\n",
       "      <td>10</td>\n",
       "      <td>13</td>\n",
       "      <td>0</td>\n",
       "      <td>0</td>\n",
       "      <td>0</td>\n",
       "      <td>0</td>\n",
       "      <td>0</td>\n",
       "      <td>0</td>\n",
       "      <td>0</td>\n",
       "      <td>0</td>\n",
       "      <td>0</td>\n",
       "      <td>0</td>\n",
       "      <td>0</td>\n",
       "      <td>0</td>\n",
       "      <td>0</td>\n",
       "      <td>0</td>\n",
       "      <td>0</td>\n",
       "      <td>0</td>\n",
       "      <td>0</td>\n",
       "      <td>0</td>\n",
       "      <td>1</td>\n",
       "      <td>0</td>\n",
       "      <td>0</td>\n",
       "      <td>0</td>\n",
       "      <td>0</td>\n",
       "      <td>0</td>\n",
       "      <td>...</td>\n",
       "      <td>0</td>\n",
       "      <td>0</td>\n",
       "      <td>0</td>\n",
       "      <td>0</td>\n",
       "      <td>0</td>\n",
       "      <td>0</td>\n",
       "      <td>0</td>\n",
       "      <td>0</td>\n",
       "      <td>0</td>\n",
       "      <td>0</td>\n",
       "      <td>0</td>\n",
       "      <td>0</td>\n",
       "      <td>0</td>\n",
       "      <td>0</td>\n",
       "      <td>0</td>\n",
       "      <td>0</td>\n",
       "      <td>0</td>\n",
       "      <td>0</td>\n",
       "      <td>0</td>\n",
       "      <td>0</td>\n",
       "      <td>0</td>\n",
       "      <td>0</td>\n",
       "      <td>0</td>\n",
       "      <td>0</td>\n",
       "      <td>0</td>\n",
       "      <td>0</td>\n",
       "      <td>0</td>\n",
       "      <td>0</td>\n",
       "      <td>0</td>\n",
       "      <td>0</td>\n",
       "      <td>0</td>\n",
       "      <td>0</td>\n",
       "      <td>0</td>\n",
       "      <td>0</td>\n",
       "      <td>0</td>\n",
       "      <td>0</td>\n",
       "      <td>0</td>\n",
       "      <td>1</td>\n",
       "      <td>0</td>\n",
       "      <td>0</td>\n",
       "    </tr>\n",
       "    <tr>\n",
       "      <th>19381</th>\n",
       "      <td>725000.000</td>\n",
       "      <td>4</td>\n",
       "      <td>1.750</td>\n",
       "      <td>1980</td>\n",
       "      <td>5850</td>\n",
       "      <td>1.000</td>\n",
       "      <td>1.000</td>\n",
       "      <td>1.000</td>\n",
       "      <td>4</td>\n",
       "      <td>8</td>\n",
       "      <td>1380</td>\n",
       "      <td>600</td>\n",
       "      <td>1810</td>\n",
       "      <td>5850</td>\n",
       "      <td>40</td>\n",
       "      <td>13</td>\n",
       "      <td>0</td>\n",
       "      <td>0</td>\n",
       "      <td>0</td>\n",
       "      <td>0</td>\n",
       "      <td>0</td>\n",
       "      <td>0</td>\n",
       "      <td>0</td>\n",
       "      <td>0</td>\n",
       "      <td>0</td>\n",
       "      <td>0</td>\n",
       "      <td>0</td>\n",
       "      <td>0</td>\n",
       "      <td>0</td>\n",
       "      <td>0</td>\n",
       "      <td>0</td>\n",
       "      <td>0</td>\n",
       "      <td>0</td>\n",
       "      <td>0</td>\n",
       "      <td>0</td>\n",
       "      <td>0</td>\n",
       "      <td>0</td>\n",
       "      <td>0</td>\n",
       "      <td>0</td>\n",
       "      <td>0</td>\n",
       "      <td>...</td>\n",
       "      <td>0</td>\n",
       "      <td>0</td>\n",
       "      <td>0</td>\n",
       "      <td>0</td>\n",
       "      <td>0</td>\n",
       "      <td>0</td>\n",
       "      <td>0</td>\n",
       "      <td>0</td>\n",
       "      <td>0</td>\n",
       "      <td>1</td>\n",
       "      <td>0</td>\n",
       "      <td>0</td>\n",
       "      <td>0</td>\n",
       "      <td>0</td>\n",
       "      <td>0</td>\n",
       "      <td>0</td>\n",
       "      <td>0</td>\n",
       "      <td>0</td>\n",
       "      <td>0</td>\n",
       "      <td>0</td>\n",
       "      <td>0</td>\n",
       "      <td>0</td>\n",
       "      <td>0</td>\n",
       "      <td>0</td>\n",
       "      <td>0</td>\n",
       "      <td>0</td>\n",
       "      <td>0</td>\n",
       "      <td>0</td>\n",
       "      <td>0</td>\n",
       "      <td>0</td>\n",
       "      <td>0</td>\n",
       "      <td>0</td>\n",
       "      <td>0</td>\n",
       "      <td>0</td>\n",
       "      <td>1</td>\n",
       "      <td>0</td>\n",
       "      <td>0</td>\n",
       "      <td>0</td>\n",
       "      <td>0</td>\n",
       "      <td>0</td>\n",
       "    </tr>\n",
       "    <tr>\n",
       "      <th>5632</th>\n",
       "      <td>450000.000</td>\n",
       "      <td>5</td>\n",
       "      <td>2.000</td>\n",
       "      <td>1870</td>\n",
       "      <td>7344</td>\n",
       "      <td>1.500</td>\n",
       "      <td>0.000</td>\n",
       "      <td>0.000</td>\n",
       "      <td>3</td>\n",
       "      <td>7</td>\n",
       "      <td>1870</td>\n",
       "      <td>0</td>\n",
       "      <td>1870</td>\n",
       "      <td>7650</td>\n",
       "      <td>2</td>\n",
       "      <td>13</td>\n",
       "      <td>0</td>\n",
       "      <td>0</td>\n",
       "      <td>0</td>\n",
       "      <td>0</td>\n",
       "      <td>0</td>\n",
       "      <td>1</td>\n",
       "      <td>0</td>\n",
       "      <td>0</td>\n",
       "      <td>0</td>\n",
       "      <td>0</td>\n",
       "      <td>0</td>\n",
       "      <td>0</td>\n",
       "      <td>0</td>\n",
       "      <td>0</td>\n",
       "      <td>0</td>\n",
       "      <td>0</td>\n",
       "      <td>0</td>\n",
       "      <td>0</td>\n",
       "      <td>0</td>\n",
       "      <td>0</td>\n",
       "      <td>0</td>\n",
       "      <td>0</td>\n",
       "      <td>0</td>\n",
       "      <td>0</td>\n",
       "      <td>...</td>\n",
       "      <td>0</td>\n",
       "      <td>0</td>\n",
       "      <td>0</td>\n",
       "      <td>0</td>\n",
       "      <td>0</td>\n",
       "      <td>0</td>\n",
       "      <td>0</td>\n",
       "      <td>0</td>\n",
       "      <td>0</td>\n",
       "      <td>0</td>\n",
       "      <td>0</td>\n",
       "      <td>0</td>\n",
       "      <td>0</td>\n",
       "      <td>0</td>\n",
       "      <td>0</td>\n",
       "      <td>0</td>\n",
       "      <td>0</td>\n",
       "      <td>0</td>\n",
       "      <td>0</td>\n",
       "      <td>0</td>\n",
       "      <td>0</td>\n",
       "      <td>0</td>\n",
       "      <td>0</td>\n",
       "      <td>0</td>\n",
       "      <td>0</td>\n",
       "      <td>0</td>\n",
       "      <td>0</td>\n",
       "      <td>0</td>\n",
       "      <td>0</td>\n",
       "      <td>0</td>\n",
       "      <td>0</td>\n",
       "      <td>0</td>\n",
       "      <td>0</td>\n",
       "      <td>0</td>\n",
       "      <td>1</td>\n",
       "      <td>0</td>\n",
       "      <td>0</td>\n",
       "      <td>0</td>\n",
       "      <td>0</td>\n",
       "      <td>0</td>\n",
       "    </tr>\n",
       "    <tr>\n",
       "      <th>13040</th>\n",
       "      <td>445500.000</td>\n",
       "      <td>2</td>\n",
       "      <td>1.750</td>\n",
       "      <td>1390</td>\n",
       "      <td>6670</td>\n",
       "      <td>1.000</td>\n",
       "      <td>0.000</td>\n",
       "      <td>0.000</td>\n",
       "      <td>3</td>\n",
       "      <td>6</td>\n",
       "      <td>720</td>\n",
       "      <td>670</td>\n",
       "      <td>920</td>\n",
       "      <td>6380</td>\n",
       "      <td>40</td>\n",
       "      <td>13</td>\n",
       "      <td>0</td>\n",
       "      <td>0</td>\n",
       "      <td>0</td>\n",
       "      <td>0</td>\n",
       "      <td>0</td>\n",
       "      <td>0</td>\n",
       "      <td>0</td>\n",
       "      <td>0</td>\n",
       "      <td>0</td>\n",
       "      <td>0</td>\n",
       "      <td>0</td>\n",
       "      <td>0</td>\n",
       "      <td>0</td>\n",
       "      <td>0</td>\n",
       "      <td>0</td>\n",
       "      <td>0</td>\n",
       "      <td>0</td>\n",
       "      <td>0</td>\n",
       "      <td>0</td>\n",
       "      <td>0</td>\n",
       "      <td>0</td>\n",
       "      <td>0</td>\n",
       "      <td>0</td>\n",
       "      <td>0</td>\n",
       "      <td>...</td>\n",
       "      <td>0</td>\n",
       "      <td>0</td>\n",
       "      <td>0</td>\n",
       "      <td>0</td>\n",
       "      <td>0</td>\n",
       "      <td>0</td>\n",
       "      <td>0</td>\n",
       "      <td>0</td>\n",
       "      <td>1</td>\n",
       "      <td>0</td>\n",
       "      <td>0</td>\n",
       "      <td>0</td>\n",
       "      <td>0</td>\n",
       "      <td>0</td>\n",
       "      <td>0</td>\n",
       "      <td>0</td>\n",
       "      <td>0</td>\n",
       "      <td>0</td>\n",
       "      <td>0</td>\n",
       "      <td>0</td>\n",
       "      <td>0</td>\n",
       "      <td>0</td>\n",
       "      <td>0</td>\n",
       "      <td>0</td>\n",
       "      <td>0</td>\n",
       "      <td>0</td>\n",
       "      <td>0</td>\n",
       "      <td>0</td>\n",
       "      <td>0</td>\n",
       "      <td>0</td>\n",
       "      <td>0</td>\n",
       "      <td>0</td>\n",
       "      <td>1</td>\n",
       "      <td>0</td>\n",
       "      <td>0</td>\n",
       "      <td>0</td>\n",
       "      <td>0</td>\n",
       "      <td>0</td>\n",
       "      <td>0</td>\n",
       "      <td>0</td>\n",
       "    </tr>\n",
       "  </tbody>\n",
       "</table>\n",
       "<p>16607 rows × 96 columns</p>\n",
       "</div>"
      ],
      "text/plain": [
       "           price  bedrooms  ...  decade_built_2000  decade_built_2010\n",
       "7316  435000.000         4  ...                  0                  0\n",
       "20586 555000.000         4  ...                  0                  1\n",
       "1040  550000.000         4  ...                  0                  0\n",
       "20543 295000.000         2  ...                  1                  0\n",
       "9587  790000.000         3  ...                  0                  0\n",
       "...          ...       ...  ...                ...                ...\n",
       "20456 479349.000         5  ...                  0                  1\n",
       "11548 360000.000         4  ...                  0                  0\n",
       "19381 725000.000         4  ...                  0                  0\n",
       "5632  450000.000         5  ...                  0                  0\n",
       "13040 445500.000         2  ...                  0                  0\n",
       "\n",
       "[16607 rows x 96 columns]"
      ]
     },
     "execution_count": 52,
     "metadata": {},
     "output_type": "execute_result"
    }
   ],
   "source": [
    "## Sanity check the OHE\n",
    "\n",
    "ohe_clean_data "
   ]
  },
  {
   "cell_type": "markdown",
   "metadata": {},
   "source": [
    "### Model - Basic Model"
   ]
  },
  {
   "cell_type": "code",
   "execution_count": 53,
   "metadata": {
    "ExecuteTime": {
     "end_time": "2020-08-28T20:51:11.664565Z",
     "start_time": "2020-08-28T20:51:11.660562Z"
    }
   },
   "outputs": [],
   "source": [
    "def clean_columns(data):\n",
    "    data = data.replace('_', '') \n",
    "    data = data.replace(',', '') \n",
    "    data = data.replace(\"'\", '')\n",
    "    data = data.replace(' ', '_')\n",
    "    data = data.replace('_', '')\n",
    "    data = data.replace(']', '')\n",
    "    data = data.replace('(', '')\n",
    "    data = data.replace('.', '')\n",
    "    return data"
   ]
  },
  {
   "cell_type": "code",
   "execution_count": 54,
   "metadata": {
    "ExecuteTime": {
     "end_time": "2020-08-28T20:51:11.671572Z",
     "start_time": "2020-08-28T20:51:11.666567Z"
    }
   },
   "outputs": [],
   "source": [
    "## Creating the framework for the formula to feed into statsmodels\n",
    "\n",
    "cat_predictors = list(ohe_clean_data.columns)\n",
    "cat_predictors = [clean_columns(x) for x in cat_predictors] \n",
    "ohe_clean_data.columns = cat_predictors\n",
    "cat_predictors.remove('price')"
   ]
  },
  {
   "cell_type": "code",
   "execution_count": 55,
   "metadata": {
    "ExecuteTime": {
     "end_time": "2020-08-28T20:51:11.677577Z",
     "start_time": "2020-08-28T20:51:11.672573Z"
    }
   },
   "outputs": [],
   "source": [
    "clean_num_cols = ['sqftliving', 'sqftabove', 'sqftliving15', 'sqftlot15', 'sqftbasement', 'monthsold']\n",
    "cat_predictors = [x for x in cat_predictors if x not in clean_num_cols]\n",
    "cat_predictors = ' + '.join(cat_predictors)"
   ]
  },
  {
   "cell_type": "code",
   "execution_count": 56,
   "metadata": {
    "ExecuteTime": {
     "end_time": "2020-08-28T20:51:11.684585Z",
     "start_time": "2020-08-28T20:51:11.678578Z"
    }
   },
   "outputs": [],
   "source": [
    "num_predictors = ' + '.join(clean_num_cols)\n",
    "predictors = num_predictors + ' + ' + cat_predictors"
   ]
  },
  {
   "cell_type": "code",
   "execution_count": 57,
   "metadata": {
    "ExecuteTime": {
     "end_time": "2020-08-28T20:51:11.690590Z",
     "start_time": "2020-08-28T20:51:11.686586Z"
    }
   },
   "outputs": [
    {
     "data": {
      "text/plain": [
       "'price ~ sqftliving + sqftabove + sqftliving15 + sqftlot15 + sqftbasement + monthsold + bedrooms + bathrooms + sqftlot + floors + waterfront + view + condition + grade + zips + zipcode98002 + zipcode98003 + zipcode98004 + zipcode98005 + zipcode98006 + zipcode98007 + zipcode98008 + zipcode98010 + zipcode98011 + zipcode98014 + zipcode98019 + zipcode98022 + zipcode98023 + zipcode98024 + zipcode98027 + zipcode98028 + zipcode98029 + zipcode98030 + zipcode98031 + zipcode98032 + zipcode98033 + zipcode98034 + zipcode98038 + zipcode98039 + zipcode98040 + zipcode98042 + zipcode98045 + zipcode98052 + zipcode98053 + zipcode98055 + zipcode98056 + zipcode98058 + zipcode98059 + zipcode98065 + zipcode98070 + zipcode98072 + zipcode98074 + zipcode98075 + zipcode98077 + zipcode98092 + zipcode98102 + zipcode98103 + zipcode98105 + zipcode98106 + zipcode98107 + zipcode98108 + zipcode98109 + zipcode98112 + zipcode98115 + zipcode98116 + zipcode98117 + zipcode98118 + zipcode98119 + zipcode98122 + zipcode98125 + zipcode98126 + zipcode98133 + zipcode98136 + zipcode98144 + zipcode98146 + zipcode98148 + zipcode98155 + zipcode98166 + zipcode98168 + zipcode98177 + zipcode98178 + zipcode98188 + zipcode98198 + zipcode98199 + decadebuilt1910 + decadebuilt1920 + decadebuilt1930 + decadebuilt1940 + decadebuilt1950 + decadebuilt1960 + decadebuilt1970 + decadebuilt1980 + decadebuilt1990 + decadebuilt2000 + decadebuilt2010'"
      ]
     },
     "execution_count": 57,
     "metadata": {},
     "output_type": "execute_result"
    }
   ],
   "source": [
    "target = 'price'\n",
    "formula = target + ' ~ ' + predictors \n",
    "formula"
   ]
  },
  {
   "cell_type": "code",
   "execution_count": 58,
   "metadata": {
    "ExecuteTime": {
     "end_time": "2020-08-28T20:51:11.700599Z",
     "start_time": "2020-08-28T20:51:11.691590Z"
    }
   },
   "outputs": [],
   "source": [
    "ols_data = ohe_clean_data.copy()\n",
    "# ols_data.drop('sqftabove', axis=1, inplace=True)"
   ]
  },
  {
   "cell_type": "code",
   "execution_count": 60,
   "metadata": {
    "ExecuteTime": {
     "end_time": "2020-08-28T20:52:32.471298Z",
     "start_time": "2020-08-28T20:52:32.124985Z"
    }
   },
   "outputs": [
    {
     "data": {
      "text/html": [
       "<div>\n",
       "<style scoped>\n",
       "    .dataframe tbody tr th:only-of-type {\n",
       "        vertical-align: middle;\n",
       "    }\n",
       "\n",
       "    .dataframe tbody tr th {\n",
       "        vertical-align: top;\n",
       "    }\n",
       "\n",
       "    .dataframe thead th {\n",
       "        text-align: right;\n",
       "    }\n",
       "</style>\n",
       "<table border=\"1\" class=\"dataframe\">\n",
       "  <thead>\n",
       "    <tr style=\"text-align: right;\">\n",
       "      <th></th>\n",
       "      <th>price</th>\n",
       "      <th>bedrooms</th>\n",
       "      <th>bathrooms</th>\n",
       "      <th>sqftliving</th>\n",
       "      <th>sqftlot</th>\n",
       "      <th>floors</th>\n",
       "      <th>waterfront</th>\n",
       "      <th>view</th>\n",
       "      <th>condition</th>\n",
       "      <th>grade</th>\n",
       "      <th>sqftabove</th>\n",
       "      <th>sqftbasement</th>\n",
       "      <th>sqftliving15</th>\n",
       "      <th>sqftlot15</th>\n",
       "      <th>zips</th>\n",
       "      <th>zipcode98002</th>\n",
       "      <th>zipcode98003</th>\n",
       "      <th>zipcode98004</th>\n",
       "      <th>zipcode98005</th>\n",
       "      <th>zipcode98006</th>\n",
       "      <th>zipcode98007</th>\n",
       "      <th>zipcode98008</th>\n",
       "      <th>zipcode98010</th>\n",
       "      <th>zipcode98011</th>\n",
       "      <th>zipcode98014</th>\n",
       "      <th>zipcode98019</th>\n",
       "      <th>zipcode98022</th>\n",
       "      <th>zipcode98023</th>\n",
       "      <th>zipcode98024</th>\n",
       "      <th>zipcode98027</th>\n",
       "      <th>zipcode98028</th>\n",
       "      <th>zipcode98029</th>\n",
       "      <th>zipcode98030</th>\n",
       "      <th>zipcode98031</th>\n",
       "      <th>zipcode98032</th>\n",
       "      <th>zipcode98033</th>\n",
       "      <th>zipcode98034</th>\n",
       "      <th>zipcode98038</th>\n",
       "      <th>zipcode98039</th>\n",
       "      <th>zipcode98040</th>\n",
       "      <th>...</th>\n",
       "      <th>zipcode98102</th>\n",
       "      <th>zipcode98103</th>\n",
       "      <th>zipcode98105</th>\n",
       "      <th>zipcode98106</th>\n",
       "      <th>zipcode98107</th>\n",
       "      <th>zipcode98108</th>\n",
       "      <th>zipcode98109</th>\n",
       "      <th>zipcode98112</th>\n",
       "      <th>zipcode98115</th>\n",
       "      <th>zipcode98116</th>\n",
       "      <th>zipcode98117</th>\n",
       "      <th>zipcode98118</th>\n",
       "      <th>zipcode98119</th>\n",
       "      <th>zipcode98122</th>\n",
       "      <th>zipcode98125</th>\n",
       "      <th>zipcode98126</th>\n",
       "      <th>zipcode98133</th>\n",
       "      <th>zipcode98136</th>\n",
       "      <th>zipcode98144</th>\n",
       "      <th>zipcode98146</th>\n",
       "      <th>zipcode98148</th>\n",
       "      <th>zipcode98155</th>\n",
       "      <th>zipcode98166</th>\n",
       "      <th>zipcode98168</th>\n",
       "      <th>zipcode98177</th>\n",
       "      <th>zipcode98178</th>\n",
       "      <th>zipcode98188</th>\n",
       "      <th>zipcode98198</th>\n",
       "      <th>zipcode98199</th>\n",
       "      <th>decadebuilt1910</th>\n",
       "      <th>decadebuilt1920</th>\n",
       "      <th>decadebuilt1930</th>\n",
       "      <th>decadebuilt1940</th>\n",
       "      <th>decadebuilt1950</th>\n",
       "      <th>decadebuilt1960</th>\n",
       "      <th>decadebuilt1970</th>\n",
       "      <th>decadebuilt1980</th>\n",
       "      <th>decadebuilt1990</th>\n",
       "      <th>decadebuilt2000</th>\n",
       "      <th>decadebuilt2010</th>\n",
       "    </tr>\n",
       "  </thead>\n",
       "  <tbody>\n",
       "    <tr>\n",
       "      <th>count</th>\n",
       "      <td>16607.000</td>\n",
       "      <td>16607.000</td>\n",
       "      <td>16607.000</td>\n",
       "      <td>16607.000</td>\n",
       "      <td>16607.000</td>\n",
       "      <td>16607.000</td>\n",
       "      <td>16607.000</td>\n",
       "      <td>16607.000</td>\n",
       "      <td>16607.000</td>\n",
       "      <td>16607.000</td>\n",
       "      <td>16607.000</td>\n",
       "      <td>16607.000</td>\n",
       "      <td>16607.000</td>\n",
       "      <td>16607.000</td>\n",
       "      <td>16607.000</td>\n",
       "      <td>16607.000</td>\n",
       "      <td>16607.000</td>\n",
       "      <td>16607.000</td>\n",
       "      <td>16607.000</td>\n",
       "      <td>16607.000</td>\n",
       "      <td>16607.000</td>\n",
       "      <td>16607.000</td>\n",
       "      <td>16607.000</td>\n",
       "      <td>16607.000</td>\n",
       "      <td>16607.000</td>\n",
       "      <td>16607.000</td>\n",
       "      <td>16607.000</td>\n",
       "      <td>16607.000</td>\n",
       "      <td>16607.000</td>\n",
       "      <td>16607.000</td>\n",
       "      <td>16607.000</td>\n",
       "      <td>16607.000</td>\n",
       "      <td>16607.000</td>\n",
       "      <td>16607.000</td>\n",
       "      <td>16607.000</td>\n",
       "      <td>16607.000</td>\n",
       "      <td>16607.000</td>\n",
       "      <td>16607.000</td>\n",
       "      <td>16607.000</td>\n",
       "      <td>16607.000</td>\n",
       "      <td>...</td>\n",
       "      <td>16607.000</td>\n",
       "      <td>16607.000</td>\n",
       "      <td>16607.000</td>\n",
       "      <td>16607.000</td>\n",
       "      <td>16607.000</td>\n",
       "      <td>16607.000</td>\n",
       "      <td>16607.000</td>\n",
       "      <td>16607.000</td>\n",
       "      <td>16607.000</td>\n",
       "      <td>16607.000</td>\n",
       "      <td>16607.000</td>\n",
       "      <td>16607.000</td>\n",
       "      <td>16607.000</td>\n",
       "      <td>16607.000</td>\n",
       "      <td>16607.000</td>\n",
       "      <td>16607.000</td>\n",
       "      <td>16607.000</td>\n",
       "      <td>16607.000</td>\n",
       "      <td>16607.000</td>\n",
       "      <td>16607.000</td>\n",
       "      <td>16607.000</td>\n",
       "      <td>16607.000</td>\n",
       "      <td>16607.000</td>\n",
       "      <td>16607.000</td>\n",
       "      <td>16607.000</td>\n",
       "      <td>16607.000</td>\n",
       "      <td>16607.000</td>\n",
       "      <td>16607.000</td>\n",
       "      <td>16607.000</td>\n",
       "      <td>16607.000</td>\n",
       "      <td>16607.000</td>\n",
       "      <td>16607.000</td>\n",
       "      <td>16607.000</td>\n",
       "      <td>16607.000</td>\n",
       "      <td>16607.000</td>\n",
       "      <td>16607.000</td>\n",
       "      <td>16607.000</td>\n",
       "      <td>16607.000</td>\n",
       "      <td>16607.000</td>\n",
       "      <td>16607.000</td>\n",
       "    </tr>\n",
       "    <tr>\n",
       "      <th>mean</th>\n",
       "      <td>452098.896</td>\n",
       "      <td>3.269</td>\n",
       "      <td>1.984</td>\n",
       "      <td>1838.476</td>\n",
       "      <td>7053.725</td>\n",
       "      <td>1.466</td>\n",
       "      <td>0.112</td>\n",
       "      <td>0.133</td>\n",
       "      <td>3.417</td>\n",
       "      <td>7.401</td>\n",
       "      <td>1590.458</td>\n",
       "      <td>248.018</td>\n",
       "      <td>1815.432</td>\n",
       "      <td>6932.411</td>\n",
       "      <td>28.181</td>\n",
       "      <td>0.011</td>\n",
       "      <td>0.015</td>\n",
       "      <td>0.008</td>\n",
       "      <td>0.006</td>\n",
       "      <td>0.017</td>\n",
       "      <td>0.007</td>\n",
       "      <td>0.015</td>\n",
       "      <td>0.002</td>\n",
       "      <td>0.010</td>\n",
       "      <td>0.002</td>\n",
       "      <td>0.008</td>\n",
       "      <td>0.008</td>\n",
       "      <td>0.026</td>\n",
       "      <td>0.001</td>\n",
       "      <td>0.012</td>\n",
       "      <td>0.014</td>\n",
       "      <td>0.017</td>\n",
       "      <td>0.014</td>\n",
       "      <td>0.015</td>\n",
       "      <td>0.006</td>\n",
       "      <td>0.019</td>\n",
       "      <td>0.029</td>\n",
       "      <td>0.029</td>\n",
       "      <td>0.000</td>\n",
       "      <td>0.007</td>\n",
       "      <td>...</td>\n",
       "      <td>0.005</td>\n",
       "      <td>0.033</td>\n",
       "      <td>0.010</td>\n",
       "      <td>0.018</td>\n",
       "      <td>0.015</td>\n",
       "      <td>0.010</td>\n",
       "      <td>0.005</td>\n",
       "      <td>0.009</td>\n",
       "      <td>0.032</td>\n",
       "      <td>0.017</td>\n",
       "      <td>0.030</td>\n",
       "      <td>0.027</td>\n",
       "      <td>0.009</td>\n",
       "      <td>0.015</td>\n",
       "      <td>0.022</td>\n",
       "      <td>0.020</td>\n",
       "      <td>0.028</td>\n",
       "      <td>0.014</td>\n",
       "      <td>0.018</td>\n",
       "      <td>0.015</td>\n",
       "      <td>0.003</td>\n",
       "      <td>0.024</td>\n",
       "      <td>0.011</td>\n",
       "      <td>0.013</td>\n",
       "      <td>0.012</td>\n",
       "      <td>0.014</td>\n",
       "      <td>0.007</td>\n",
       "      <td>0.014</td>\n",
       "      <td>0.015</td>\n",
       "      <td>0.039</td>\n",
       "      <td>0.060</td>\n",
       "      <td>0.021</td>\n",
       "      <td>0.089</td>\n",
       "      <td>0.123</td>\n",
       "      <td>0.130</td>\n",
       "      <td>0.102</td>\n",
       "      <td>0.094</td>\n",
       "      <td>0.086</td>\n",
       "      <td>0.165</td>\n",
       "      <td>0.061</td>\n",
       "    </tr>\n",
       "    <tr>\n",
       "      <th>std</th>\n",
       "      <td>189006.433</td>\n",
       "      <td>0.775</td>\n",
       "      <td>0.649</td>\n",
       "      <td>623.694</td>\n",
       "      <td>3384.479</td>\n",
       "      <td>0.544</td>\n",
       "      <td>0.315</td>\n",
       "      <td>0.550</td>\n",
       "      <td>0.645</td>\n",
       "      <td>0.811</td>\n",
       "      <td>599.001</td>\n",
       "      <td>366.761</td>\n",
       "      <td>514.711</td>\n",
       "      <td>3016.247</td>\n",
       "      <td>19.099</td>\n",
       "      <td>0.102</td>\n",
       "      <td>0.121</td>\n",
       "      <td>0.088</td>\n",
       "      <td>0.078</td>\n",
       "      <td>0.131</td>\n",
       "      <td>0.082</td>\n",
       "      <td>0.120</td>\n",
       "      <td>0.048</td>\n",
       "      <td>0.100</td>\n",
       "      <td>0.047</td>\n",
       "      <td>0.089</td>\n",
       "      <td>0.091</td>\n",
       "      <td>0.160</td>\n",
       "      <td>0.036</td>\n",
       "      <td>0.110</td>\n",
       "      <td>0.119</td>\n",
       "      <td>0.128</td>\n",
       "      <td>0.118</td>\n",
       "      <td>0.120</td>\n",
       "      <td>0.080</td>\n",
       "      <td>0.136</td>\n",
       "      <td>0.168</td>\n",
       "      <td>0.167</td>\n",
       "      <td>0.019</td>\n",
       "      <td>0.086</td>\n",
       "      <td>...</td>\n",
       "      <td>0.070</td>\n",
       "      <td>0.180</td>\n",
       "      <td>0.099</td>\n",
       "      <td>0.134</td>\n",
       "      <td>0.122</td>\n",
       "      <td>0.101</td>\n",
       "      <td>0.069</td>\n",
       "      <td>0.096</td>\n",
       "      <td>0.176</td>\n",
       "      <td>0.131</td>\n",
       "      <td>0.172</td>\n",
       "      <td>0.163</td>\n",
       "      <td>0.093</td>\n",
       "      <td>0.122</td>\n",
       "      <td>0.147</td>\n",
       "      <td>0.140</td>\n",
       "      <td>0.166</td>\n",
       "      <td>0.119</td>\n",
       "      <td>0.132</td>\n",
       "      <td>0.122</td>\n",
       "      <td>0.056</td>\n",
       "      <td>0.152</td>\n",
       "      <td>0.105</td>\n",
       "      <td>0.114</td>\n",
       "      <td>0.107</td>\n",
       "      <td>0.119</td>\n",
       "      <td>0.084</td>\n",
       "      <td>0.119</td>\n",
       "      <td>0.120</td>\n",
       "      <td>0.193</td>\n",
       "      <td>0.238</td>\n",
       "      <td>0.145</td>\n",
       "      <td>0.284</td>\n",
       "      <td>0.328</td>\n",
       "      <td>0.336</td>\n",
       "      <td>0.303</td>\n",
       "      <td>0.291</td>\n",
       "      <td>0.280</td>\n",
       "      <td>0.371</td>\n",
       "      <td>0.239</td>\n",
       "    </tr>\n",
       "    <tr>\n",
       "      <th>min</th>\n",
       "      <td>82000.000</td>\n",
       "      <td>2.000</td>\n",
       "      <td>0.750</td>\n",
       "      <td>560.000</td>\n",
       "      <td>520.000</td>\n",
       "      <td>1.000</td>\n",
       "      <td>0.000</td>\n",
       "      <td>0.000</td>\n",
       "      <td>2.000</td>\n",
       "      <td>6.000</td>\n",
       "      <td>480.000</td>\n",
       "      <td>0.000</td>\n",
       "      <td>620.000</td>\n",
       "      <td>651.000</td>\n",
       "      <td>0.000</td>\n",
       "      <td>0.000</td>\n",
       "      <td>0.000</td>\n",
       "      <td>0.000</td>\n",
       "      <td>0.000</td>\n",
       "      <td>0.000</td>\n",
       "      <td>0.000</td>\n",
       "      <td>0.000</td>\n",
       "      <td>0.000</td>\n",
       "      <td>0.000</td>\n",
       "      <td>0.000</td>\n",
       "      <td>0.000</td>\n",
       "      <td>0.000</td>\n",
       "      <td>0.000</td>\n",
       "      <td>0.000</td>\n",
       "      <td>0.000</td>\n",
       "      <td>0.000</td>\n",
       "      <td>0.000</td>\n",
       "      <td>0.000</td>\n",
       "      <td>0.000</td>\n",
       "      <td>0.000</td>\n",
       "      <td>0.000</td>\n",
       "      <td>0.000</td>\n",
       "      <td>0.000</td>\n",
       "      <td>0.000</td>\n",
       "      <td>0.000</td>\n",
       "      <td>...</td>\n",
       "      <td>0.000</td>\n",
       "      <td>0.000</td>\n",
       "      <td>0.000</td>\n",
       "      <td>0.000</td>\n",
       "      <td>0.000</td>\n",
       "      <td>0.000</td>\n",
       "      <td>0.000</td>\n",
       "      <td>0.000</td>\n",
       "      <td>0.000</td>\n",
       "      <td>0.000</td>\n",
       "      <td>0.000</td>\n",
       "      <td>0.000</td>\n",
       "      <td>0.000</td>\n",
       "      <td>0.000</td>\n",
       "      <td>0.000</td>\n",
       "      <td>0.000</td>\n",
       "      <td>0.000</td>\n",
       "      <td>0.000</td>\n",
       "      <td>0.000</td>\n",
       "      <td>0.000</td>\n",
       "      <td>0.000</td>\n",
       "      <td>0.000</td>\n",
       "      <td>0.000</td>\n",
       "      <td>0.000</td>\n",
       "      <td>0.000</td>\n",
       "      <td>0.000</td>\n",
       "      <td>0.000</td>\n",
       "      <td>0.000</td>\n",
       "      <td>0.000</td>\n",
       "      <td>0.000</td>\n",
       "      <td>0.000</td>\n",
       "      <td>0.000</td>\n",
       "      <td>0.000</td>\n",
       "      <td>0.000</td>\n",
       "      <td>0.000</td>\n",
       "      <td>0.000</td>\n",
       "      <td>0.000</td>\n",
       "      <td>0.000</td>\n",
       "      <td>0.000</td>\n",
       "      <td>0.000</td>\n",
       "    </tr>\n",
       "    <tr>\n",
       "      <th>25%</th>\n",
       "      <td>305497.500</td>\n",
       "      <td>3.000</td>\n",
       "      <td>1.500</td>\n",
       "      <td>1360.000</td>\n",
       "      <td>4750.000</td>\n",
       "      <td>1.000</td>\n",
       "      <td>0.000</td>\n",
       "      <td>0.000</td>\n",
       "      <td>3.000</td>\n",
       "      <td>7.000</td>\n",
       "      <td>1150.000</td>\n",
       "      <td>0.000</td>\n",
       "      <td>1440.000</td>\n",
       "      <td>4820.000</td>\n",
       "      <td>11.000</td>\n",
       "      <td>0.000</td>\n",
       "      <td>0.000</td>\n",
       "      <td>0.000</td>\n",
       "      <td>0.000</td>\n",
       "      <td>0.000</td>\n",
       "      <td>0.000</td>\n",
       "      <td>0.000</td>\n",
       "      <td>0.000</td>\n",
       "      <td>0.000</td>\n",
       "      <td>0.000</td>\n",
       "      <td>0.000</td>\n",
       "      <td>0.000</td>\n",
       "      <td>0.000</td>\n",
       "      <td>0.000</td>\n",
       "      <td>0.000</td>\n",
       "      <td>0.000</td>\n",
       "      <td>0.000</td>\n",
       "      <td>0.000</td>\n",
       "      <td>0.000</td>\n",
       "      <td>0.000</td>\n",
       "      <td>0.000</td>\n",
       "      <td>0.000</td>\n",
       "      <td>0.000</td>\n",
       "      <td>0.000</td>\n",
       "      <td>0.000</td>\n",
       "      <td>...</td>\n",
       "      <td>0.000</td>\n",
       "      <td>0.000</td>\n",
       "      <td>0.000</td>\n",
       "      <td>0.000</td>\n",
       "      <td>0.000</td>\n",
       "      <td>0.000</td>\n",
       "      <td>0.000</td>\n",
       "      <td>0.000</td>\n",
       "      <td>0.000</td>\n",
       "      <td>0.000</td>\n",
       "      <td>0.000</td>\n",
       "      <td>0.000</td>\n",
       "      <td>0.000</td>\n",
       "      <td>0.000</td>\n",
       "      <td>0.000</td>\n",
       "      <td>0.000</td>\n",
       "      <td>0.000</td>\n",
       "      <td>0.000</td>\n",
       "      <td>0.000</td>\n",
       "      <td>0.000</td>\n",
       "      <td>0.000</td>\n",
       "      <td>0.000</td>\n",
       "      <td>0.000</td>\n",
       "      <td>0.000</td>\n",
       "      <td>0.000</td>\n",
       "      <td>0.000</td>\n",
       "      <td>0.000</td>\n",
       "      <td>0.000</td>\n",
       "      <td>0.000</td>\n",
       "      <td>0.000</td>\n",
       "      <td>0.000</td>\n",
       "      <td>0.000</td>\n",
       "      <td>0.000</td>\n",
       "      <td>0.000</td>\n",
       "      <td>0.000</td>\n",
       "      <td>0.000</td>\n",
       "      <td>0.000</td>\n",
       "      <td>0.000</td>\n",
       "      <td>0.000</td>\n",
       "      <td>0.000</td>\n",
       "    </tr>\n",
       "    <tr>\n",
       "      <th>50%</th>\n",
       "      <td>419000.000</td>\n",
       "      <td>3.000</td>\n",
       "      <td>2.000</td>\n",
       "      <td>1770.000</td>\n",
       "      <td>7029.000</td>\n",
       "      <td>1.000</td>\n",
       "      <td>0.000</td>\n",
       "      <td>0.000</td>\n",
       "      <td>3.000</td>\n",
       "      <td>7.000</td>\n",
       "      <td>1440.000</td>\n",
       "      <td>0.000</td>\n",
       "      <td>1720.000</td>\n",
       "      <td>7169.000</td>\n",
       "      <td>25.000</td>\n",
       "      <td>0.000</td>\n",
       "      <td>0.000</td>\n",
       "      <td>0.000</td>\n",
       "      <td>0.000</td>\n",
       "      <td>0.000</td>\n",
       "      <td>0.000</td>\n",
       "      <td>0.000</td>\n",
       "      <td>0.000</td>\n",
       "      <td>0.000</td>\n",
       "      <td>0.000</td>\n",
       "      <td>0.000</td>\n",
       "      <td>0.000</td>\n",
       "      <td>0.000</td>\n",
       "      <td>0.000</td>\n",
       "      <td>0.000</td>\n",
       "      <td>0.000</td>\n",
       "      <td>0.000</td>\n",
       "      <td>0.000</td>\n",
       "      <td>0.000</td>\n",
       "      <td>0.000</td>\n",
       "      <td>0.000</td>\n",
       "      <td>0.000</td>\n",
       "      <td>0.000</td>\n",
       "      <td>0.000</td>\n",
       "      <td>0.000</td>\n",
       "      <td>...</td>\n",
       "      <td>0.000</td>\n",
       "      <td>0.000</td>\n",
       "      <td>0.000</td>\n",
       "      <td>0.000</td>\n",
       "      <td>0.000</td>\n",
       "      <td>0.000</td>\n",
       "      <td>0.000</td>\n",
       "      <td>0.000</td>\n",
       "      <td>0.000</td>\n",
       "      <td>0.000</td>\n",
       "      <td>0.000</td>\n",
       "      <td>0.000</td>\n",
       "      <td>0.000</td>\n",
       "      <td>0.000</td>\n",
       "      <td>0.000</td>\n",
       "      <td>0.000</td>\n",
       "      <td>0.000</td>\n",
       "      <td>0.000</td>\n",
       "      <td>0.000</td>\n",
       "      <td>0.000</td>\n",
       "      <td>0.000</td>\n",
       "      <td>0.000</td>\n",
       "      <td>0.000</td>\n",
       "      <td>0.000</td>\n",
       "      <td>0.000</td>\n",
       "      <td>0.000</td>\n",
       "      <td>0.000</td>\n",
       "      <td>0.000</td>\n",
       "      <td>0.000</td>\n",
       "      <td>0.000</td>\n",
       "      <td>0.000</td>\n",
       "      <td>0.000</td>\n",
       "      <td>0.000</td>\n",
       "      <td>0.000</td>\n",
       "      <td>0.000</td>\n",
       "      <td>0.000</td>\n",
       "      <td>0.000</td>\n",
       "      <td>0.000</td>\n",
       "      <td>0.000</td>\n",
       "      <td>0.000</td>\n",
       "    </tr>\n",
       "    <tr>\n",
       "      <th>75%</th>\n",
       "      <td>563975.000</td>\n",
       "      <td>4.000</td>\n",
       "      <td>2.500</td>\n",
       "      <td>2240.000</td>\n",
       "      <td>9000.000</td>\n",
       "      <td>2.000</td>\n",
       "      <td>0.000</td>\n",
       "      <td>0.000</td>\n",
       "      <td>4.000</td>\n",
       "      <td>8.000</td>\n",
       "      <td>1920.000</td>\n",
       "      <td>500.000</td>\n",
       "      <td>2130.000</td>\n",
       "      <td>8744.000</td>\n",
       "      <td>41.000</td>\n",
       "      <td>0.000</td>\n",
       "      <td>0.000</td>\n",
       "      <td>0.000</td>\n",
       "      <td>0.000</td>\n",
       "      <td>0.000</td>\n",
       "      <td>0.000</td>\n",
       "      <td>0.000</td>\n",
       "      <td>0.000</td>\n",
       "      <td>0.000</td>\n",
       "      <td>0.000</td>\n",
       "      <td>0.000</td>\n",
       "      <td>0.000</td>\n",
       "      <td>0.000</td>\n",
       "      <td>0.000</td>\n",
       "      <td>0.000</td>\n",
       "      <td>0.000</td>\n",
       "      <td>0.000</td>\n",
       "      <td>0.000</td>\n",
       "      <td>0.000</td>\n",
       "      <td>0.000</td>\n",
       "      <td>0.000</td>\n",
       "      <td>0.000</td>\n",
       "      <td>0.000</td>\n",
       "      <td>0.000</td>\n",
       "      <td>0.000</td>\n",
       "      <td>...</td>\n",
       "      <td>0.000</td>\n",
       "      <td>0.000</td>\n",
       "      <td>0.000</td>\n",
       "      <td>0.000</td>\n",
       "      <td>0.000</td>\n",
       "      <td>0.000</td>\n",
       "      <td>0.000</td>\n",
       "      <td>0.000</td>\n",
       "      <td>0.000</td>\n",
       "      <td>0.000</td>\n",
       "      <td>0.000</td>\n",
       "      <td>0.000</td>\n",
       "      <td>0.000</td>\n",
       "      <td>0.000</td>\n",
       "      <td>0.000</td>\n",
       "      <td>0.000</td>\n",
       "      <td>0.000</td>\n",
       "      <td>0.000</td>\n",
       "      <td>0.000</td>\n",
       "      <td>0.000</td>\n",
       "      <td>0.000</td>\n",
       "      <td>0.000</td>\n",
       "      <td>0.000</td>\n",
       "      <td>0.000</td>\n",
       "      <td>0.000</td>\n",
       "      <td>0.000</td>\n",
       "      <td>0.000</td>\n",
       "      <td>0.000</td>\n",
       "      <td>0.000</td>\n",
       "      <td>0.000</td>\n",
       "      <td>0.000</td>\n",
       "      <td>0.000</td>\n",
       "      <td>0.000</td>\n",
       "      <td>0.000</td>\n",
       "      <td>0.000</td>\n",
       "      <td>0.000</td>\n",
       "      <td>0.000</td>\n",
       "      <td>0.000</td>\n",
       "      <td>0.000</td>\n",
       "      <td>0.000</td>\n",
       "    </tr>\n",
       "    <tr>\n",
       "      <th>max</th>\n",
       "      <td>1120000.000</td>\n",
       "      <td>5.000</td>\n",
       "      <td>3.500</td>\n",
       "      <td>4200.000</td>\n",
       "      <td>19141.000</td>\n",
       "      <td>3.500</td>\n",
       "      <td>1.000</td>\n",
       "      <td>4.000</td>\n",
       "      <td>5.000</td>\n",
       "      <td>9.000</td>\n",
       "      <td>3740.000</td>\n",
       "      <td>1400.000</td>\n",
       "      <td>3640.000</td>\n",
       "      <td>17550.000</td>\n",
       "      <td>69.000</td>\n",
       "      <td>1.000</td>\n",
       "      <td>1.000</td>\n",
       "      <td>1.000</td>\n",
       "      <td>1.000</td>\n",
       "      <td>1.000</td>\n",
       "      <td>1.000</td>\n",
       "      <td>1.000</td>\n",
       "      <td>1.000</td>\n",
       "      <td>1.000</td>\n",
       "      <td>1.000</td>\n",
       "      <td>1.000</td>\n",
       "      <td>1.000</td>\n",
       "      <td>1.000</td>\n",
       "      <td>1.000</td>\n",
       "      <td>1.000</td>\n",
       "      <td>1.000</td>\n",
       "      <td>1.000</td>\n",
       "      <td>1.000</td>\n",
       "      <td>1.000</td>\n",
       "      <td>1.000</td>\n",
       "      <td>1.000</td>\n",
       "      <td>1.000</td>\n",
       "      <td>1.000</td>\n",
       "      <td>1.000</td>\n",
       "      <td>1.000</td>\n",
       "      <td>...</td>\n",
       "      <td>1.000</td>\n",
       "      <td>1.000</td>\n",
       "      <td>1.000</td>\n",
       "      <td>1.000</td>\n",
       "      <td>1.000</td>\n",
       "      <td>1.000</td>\n",
       "      <td>1.000</td>\n",
       "      <td>1.000</td>\n",
       "      <td>1.000</td>\n",
       "      <td>1.000</td>\n",
       "      <td>1.000</td>\n",
       "      <td>1.000</td>\n",
       "      <td>1.000</td>\n",
       "      <td>1.000</td>\n",
       "      <td>1.000</td>\n",
       "      <td>1.000</td>\n",
       "      <td>1.000</td>\n",
       "      <td>1.000</td>\n",
       "      <td>1.000</td>\n",
       "      <td>1.000</td>\n",
       "      <td>1.000</td>\n",
       "      <td>1.000</td>\n",
       "      <td>1.000</td>\n",
       "      <td>1.000</td>\n",
       "      <td>1.000</td>\n",
       "      <td>1.000</td>\n",
       "      <td>1.000</td>\n",
       "      <td>1.000</td>\n",
       "      <td>1.000</td>\n",
       "      <td>1.000</td>\n",
       "      <td>1.000</td>\n",
       "      <td>1.000</td>\n",
       "      <td>1.000</td>\n",
       "      <td>1.000</td>\n",
       "      <td>1.000</td>\n",
       "      <td>1.000</td>\n",
       "      <td>1.000</td>\n",
       "      <td>1.000</td>\n",
       "      <td>1.000</td>\n",
       "      <td>1.000</td>\n",
       "    </tr>\n",
       "  </tbody>\n",
       "</table>\n",
       "<p>8 rows × 95 columns</p>\n",
       "</div>"
      ],
      "text/plain": [
       "            price  bedrooms  ...  decadebuilt2000  decadebuilt2010\n",
       "count   16607.000 16607.000  ...        16607.000        16607.000\n",
       "mean   452098.896     3.269  ...            0.165            0.061\n",
       "std    189006.433     0.775  ...            0.371            0.239\n",
       "min     82000.000     2.000  ...            0.000            0.000\n",
       "25%    305497.500     3.000  ...            0.000            0.000\n",
       "50%    419000.000     3.000  ...            0.000            0.000\n",
       "75%    563975.000     4.000  ...            0.000            0.000\n",
       "max   1120000.000     5.000  ...            1.000            1.000\n",
       "\n",
       "[8 rows x 95 columns]"
      ]
     },
     "execution_count": 60,
     "metadata": {},
     "output_type": "execute_result"
    }
   ],
   "source": [
    "ols_data.describe()"
   ]
  },
  {
   "cell_type": "code",
   "execution_count": 59,
   "metadata": {
    "ExecuteTime": {
     "end_time": "2020-08-28T20:51:12.664415Z",
     "start_time": "2020-08-28T20:51:11.701599Z"
    },
    "scrolled": false
   },
   "outputs": [
    {
     "data": {
      "text/html": [
       "<table class=\"simpletable\">\n",
       "<caption>OLS Regression Results</caption>\n",
       "<tr>\n",
       "  <th>Dep. Variable:</th>          <td>price</td>      <th>  R-squared:         </th>  <td>   0.835</td>  \n",
       "</tr>\n",
       "<tr>\n",
       "  <th>Model:</th>                   <td>OLS</td>       <th>  Adj. R-squared:    </th>  <td>   0.834</td>  \n",
       "</tr>\n",
       "<tr>\n",
       "  <th>Method:</th>             <td>Least Squares</td>  <th>  F-statistic:       </th>  <td>   803.4</td>  \n",
       "</tr>\n",
       "<tr>\n",
       "  <th>Date:</th>             <td>Fri, 28 Aug 2020</td> <th>  Prob (F-statistic):</th>   <td>  0.00</td>   \n",
       "</tr>\n",
       "<tr>\n",
       "  <th>Time:</th>                 <td>16:51:12</td>     <th>  Log-Likelihood:    </th> <td>-2.1037e+05</td>\n",
       "</tr>\n",
       "<tr>\n",
       "  <th>No. Observations:</th>      <td> 16607</td>      <th>  AIC:               </th>  <td>4.209e+05</td> \n",
       "</tr>\n",
       "<tr>\n",
       "  <th>Df Residuals:</th>          <td> 16502</td>      <th>  BIC:               </th>  <td>4.218e+05</td> \n",
       "</tr>\n",
       "<tr>\n",
       "  <th>Df Model:</th>              <td>   104</td>      <th>                     </th>      <td> </td>     \n",
       "</tr>\n",
       "<tr>\n",
       "  <th>Covariance Type:</th>      <td>nonrobust</td>    <th>                     </th>      <td> </td>     \n",
       "</tr>\n",
       "</table>\n",
       "<table class=\"simpletable\">\n",
       "<tr>\n",
       "         <td></td>            <th>coef</th>     <th>std err</th>      <th>t</th>      <th>P>|t|</th>  <th>[0.025</th>    <th>0.975]</th>  \n",
       "</tr>\n",
       "<tr>\n",
       "  <th>Intercept</th>       <td>-3.775e+05</td> <td> 1.06e+04</td> <td>  -35.663</td> <td> 0.000</td> <td>-3.98e+05</td> <td>-3.57e+05</td>\n",
       "</tr>\n",
       "<tr>\n",
       "  <th>monthsold[T.2]</th>  <td> 7748.0859</td> <td> 2854.428</td> <td>    2.714</td> <td> 0.007</td> <td> 2153.099</td> <td> 1.33e+04</td>\n",
       "</tr>\n",
       "<tr>\n",
       "  <th>monthsold[T.3]</th>  <td> 3398.9368</td> <td> 2961.056</td> <td>    1.148</td> <td> 0.251</td> <td>-2405.052</td> <td> 9202.926</td>\n",
       "</tr>\n",
       "<tr>\n",
       "  <th>monthsold[T.4]</th>  <td> 2128.3273</td> <td> 3170.930</td> <td>    0.671</td> <td> 0.502</td> <td>-4087.038</td> <td> 8343.692</td>\n",
       "</tr>\n",
       "<tr>\n",
       "  <th>monthsold[T.5]</th>  <td>  530.5022</td> <td> 3093.494</td> <td>    0.171</td> <td> 0.864</td> <td>-5533.079</td> <td> 6594.083</td>\n",
       "</tr>\n",
       "<tr>\n",
       "  <th>monthsold[T.6]</th>  <td>-4763.4057</td> <td> 2966.172</td> <td>   -1.606</td> <td> 0.108</td> <td>-1.06e+04</td> <td> 1050.610</td>\n",
       "</tr>\n",
       "<tr>\n",
       "  <th>monthsold[T.7]</th>  <td> 2018.1781</td> <td> 3184.739</td> <td>    0.634</td> <td> 0.526</td> <td>-4224.253</td> <td> 8260.609</td>\n",
       "</tr>\n",
       "<tr>\n",
       "  <th>monthsold[T.8]</th>  <td> 1272.1996</td> <td> 3270.674</td> <td>    0.389</td> <td> 0.697</td> <td>-5138.674</td> <td> 7683.073</td>\n",
       "</tr>\n",
       "<tr>\n",
       "  <th>monthsold[T.9]</th>  <td> 6067.6904</td> <td> 3948.223</td> <td>    1.537</td> <td> 0.124</td> <td>-1671.252</td> <td> 1.38e+04</td>\n",
       "</tr>\n",
       "<tr>\n",
       "  <th>monthsold[T.10]</th> <td> 8339.9966</td> <td> 3198.662</td> <td>    2.607</td> <td> 0.009</td> <td> 2070.275</td> <td> 1.46e+04</td>\n",
       "</tr>\n",
       "<tr>\n",
       "  <th>monthsold[T.11]</th> <td> 2.432e+04</td> <td> 3011.859</td> <td>    8.076</td> <td> 0.000</td> <td> 1.84e+04</td> <td> 3.02e+04</td>\n",
       "</tr>\n",
       "<tr>\n",
       "  <th>monthsold[T.12]</th> <td> 3.548e+04</td> <td> 2893.792</td> <td>   12.261</td> <td> 0.000</td> <td> 2.98e+04</td> <td> 4.12e+04</td>\n",
       "</tr>\n",
       "<tr>\n",
       "  <th>monthsold[T.13]</th> <td>  4.11e+04</td> <td> 3599.455</td> <td>   11.419</td> <td> 0.000</td> <td>  3.4e+04</td> <td> 4.82e+04</td>\n",
       "</tr>\n",
       "<tr>\n",
       "  <th>bedrooms</th>        <td>-1102.3320</td> <td> 1036.225</td> <td>   -1.064</td> <td> 0.287</td> <td>-3133.444</td> <td>  928.780</td>\n",
       "</tr>\n",
       "<tr>\n",
       "  <th>bathrooms</th>       <td> 1.367e+04</td> <td> 1608.140</td> <td>    8.501</td> <td> 0.000</td> <td> 1.05e+04</td> <td> 1.68e+04</td>\n",
       "</tr>\n",
       "<tr>\n",
       "  <th>sqftliving</th>      <td>-2.236e+13</td> <td> 1.59e+13</td> <td>   -1.405</td> <td> 0.160</td> <td>-5.36e+13</td> <td> 8.84e+12</td>\n",
       "</tr>\n",
       "<tr>\n",
       "  <th>sqftlot</th>         <td>    1.7706</td> <td>    0.384</td> <td>    4.614</td> <td> 0.000</td> <td>    1.018</td> <td>    2.523</td>\n",
       "</tr>\n",
       "<tr>\n",
       "  <th>floors</th>          <td>-1.728e+04</td> <td> 1968.883</td> <td>   -8.778</td> <td> 0.000</td> <td>-2.11e+04</td> <td>-1.34e+04</td>\n",
       "</tr>\n",
       "<tr>\n",
       "  <th>waterfront</th>      <td> 1893.8117</td> <td> 1901.029</td> <td>    0.996</td> <td> 0.319</td> <td>-1832.410</td> <td> 5620.033</td>\n",
       "</tr>\n",
       "<tr>\n",
       "  <th>view</th>            <td> 3.722e+04</td> <td> 1176.948</td> <td>   31.621</td> <td> 0.000</td> <td> 3.49e+04</td> <td> 3.95e+04</td>\n",
       "</tr>\n",
       "<tr>\n",
       "  <th>condition</th>       <td> 2.405e+04</td> <td> 1071.487</td> <td>   22.447</td> <td> 0.000</td> <td>  2.2e+04</td> <td> 2.62e+04</td>\n",
       "</tr>\n",
       "<tr>\n",
       "  <th>grade</th>           <td> 4.327e+04</td> <td> 1202.212</td> <td>   35.994</td> <td> 0.000</td> <td> 4.09e+04</td> <td> 4.56e+04</td>\n",
       "</tr>\n",
       "<tr>\n",
       "  <th>sqftabove</th>       <td> 2.236e+13</td> <td> 1.59e+13</td> <td>    1.405</td> <td> 0.160</td> <td>-8.84e+12</td> <td> 5.36e+13</td>\n",
       "</tr>\n",
       "<tr>\n",
       "  <th>sqftbasement</th>    <td> 2.236e+13</td> <td> 1.59e+13</td> <td>    1.405</td> <td> 0.160</td> <td>-8.84e+12</td> <td> 5.36e+13</td>\n",
       "</tr>\n",
       "<tr>\n",
       "  <th>sqftliving15</th>    <td>   26.0178</td> <td>    1.957</td> <td>   13.292</td> <td> 0.000</td> <td>   22.181</td> <td>   29.855</td>\n",
       "</tr>\n",
       "<tr>\n",
       "  <th>sqftlot15</th>       <td>    0.8430</td> <td>    0.458</td> <td>    1.840</td> <td> 0.066</td> <td>   -0.055</td> <td>    1.741</td>\n",
       "</tr>\n",
       "<tr>\n",
       "  <th>zips</th>            <td>-9.043e+04</td> <td> 6.77e+04</td> <td>   -1.336</td> <td> 0.182</td> <td>-2.23e+05</td> <td> 4.23e+04</td>\n",
       "</tr>\n",
       "<tr>\n",
       "  <th>zipcode98002</th>    <td> 9679.4081</td> <td> 7453.077</td> <td>    1.299</td> <td> 0.194</td> <td>-4929.426</td> <td> 2.43e+04</td>\n",
       "</tr>\n",
       "<tr>\n",
       "  <th>zipcode98003</th>    <td> 5063.3774</td> <td> 6728.089</td> <td>    0.753</td> <td> 0.452</td> <td>-8124.402</td> <td> 1.83e+04</td>\n",
       "</tr>\n",
       "<tr>\n",
       "  <th>zipcode98004</th>    <td>  6.19e+05</td> <td> 6.82e+04</td> <td>    9.072</td> <td> 0.000</td> <td> 4.85e+05</td> <td> 7.53e+05</td>\n",
       "</tr>\n",
       "<tr>\n",
       "  <th>zipcode98005</th>    <td> 4.284e+05</td> <td> 6.83e+04</td> <td>    6.270</td> <td> 0.000</td> <td> 2.94e+05</td> <td> 5.62e+05</td>\n",
       "</tr>\n",
       "<tr>\n",
       "  <th>zipcode98006</th>    <td> 3.628e+05</td> <td>  6.8e+04</td> <td>    5.334</td> <td> 0.000</td> <td> 2.29e+05</td> <td> 4.96e+05</td>\n",
       "</tr>\n",
       "<tr>\n",
       "  <th>zipcode98007</th>    <td> 4.325e+05</td> <td> 1.36e+05</td> <td>    3.187</td> <td> 0.001</td> <td> 1.67e+05</td> <td> 6.99e+05</td>\n",
       "</tr>\n",
       "<tr>\n",
       "  <th>zipcode98008</th>    <td> 4.286e+05</td> <td> 1.36e+05</td> <td>    3.161</td> <td> 0.002</td> <td> 1.63e+05</td> <td> 6.94e+05</td>\n",
       "</tr>\n",
       "<tr>\n",
       "  <th>zipcode98010</th>    <td> 3.505e+05</td> <td> 2.04e+05</td> <td>    1.722</td> <td> 0.085</td> <td>-4.85e+04</td> <td> 7.49e+05</td>\n",
       "</tr>\n",
       "<tr>\n",
       "  <th>zipcode98011</th>    <td> 4.231e+05</td> <td> 2.03e+05</td> <td>    2.082</td> <td> 0.037</td> <td> 2.47e+04</td> <td> 8.22e+05</td>\n",
       "</tr>\n",
       "<tr>\n",
       "  <th>zipcode98014</th>    <td> 4.592e+05</td> <td> 2.71e+05</td> <td>    1.693</td> <td> 0.090</td> <td>-7.23e+04</td> <td> 9.91e+05</td>\n",
       "</tr>\n",
       "<tr>\n",
       "  <th>zipcode98019</th>    <td> 6.387e+05</td> <td> 4.06e+05</td> <td>    1.572</td> <td> 0.116</td> <td>-1.58e+05</td> <td> 1.44e+06</td>\n",
       "</tr>\n",
       "<tr>\n",
       "  <th>zipcode98022</th>    <td> 6.321e+05</td> <td> 4.74e+05</td> <td>    1.333</td> <td> 0.182</td> <td>-2.97e+05</td> <td> 1.56e+06</td>\n",
       "</tr>\n",
       "<tr>\n",
       "  <th>zipcode98023</th>    <td> 6.251e+05</td> <td> 4.74e+05</td> <td>    1.319</td> <td> 0.187</td> <td>-3.04e+05</td> <td> 1.55e+06</td>\n",
       "</tr>\n",
       "<tr>\n",
       "  <th>zipcode98024</th>    <td> 8.558e+05</td> <td> 5.41e+05</td> <td>    1.581</td> <td> 0.114</td> <td>-2.05e+05</td> <td> 1.92e+06</td>\n",
       "</tr>\n",
       "<tr>\n",
       "  <th>zipcode98027</th>    <td> 1.048e+06</td> <td> 6.09e+05</td> <td>    1.720</td> <td> 0.085</td> <td>-1.46e+05</td> <td> 2.24e+06</td>\n",
       "</tr>\n",
       "<tr>\n",
       "  <th>zipcode98028</th>    <td> 9.492e+05</td> <td> 6.09e+05</td> <td>    1.558</td> <td> 0.119</td> <td>-2.45e+05</td> <td> 2.14e+06</td>\n",
       "</tr>\n",
       "<tr>\n",
       "  <th>zipcode98029</th>    <td>  1.05e+06</td> <td> 6.09e+05</td> <td>    1.723</td> <td> 0.085</td> <td>-1.45e+05</td> <td> 2.24e+06</td>\n",
       "</tr>\n",
       "<tr>\n",
       "  <th>zipcode98030</th>    <td> 9.079e+05</td> <td> 6.77e+05</td> <td>    1.341</td> <td> 0.180</td> <td>-4.19e+05</td> <td> 2.24e+06</td>\n",
       "</tr>\n",
       "<tr>\n",
       "  <th>zipcode98031</th>    <td> 9.196e+05</td> <td> 6.77e+05</td> <td>    1.358</td> <td> 0.174</td> <td>-4.08e+05</td> <td> 2.25e+06</td>\n",
       "</tr>\n",
       "<tr>\n",
       "  <th>zipcode98032</th>    <td> 9.095e+05</td> <td> 6.77e+05</td> <td>    1.343</td> <td> 0.179</td> <td>-4.18e+05</td> <td> 2.24e+06</td>\n",
       "</tr>\n",
       "<tr>\n",
       "  <th>zipcode98033</th>    <td> 1.311e+06</td> <td> 7.45e+05</td> <td>    1.760</td> <td> 0.078</td> <td>-1.49e+05</td> <td> 2.77e+06</td>\n",
       "</tr>\n",
       "<tr>\n",
       "  <th>zipcode98034</th>    <td>  1.19e+06</td> <td> 7.45e+05</td> <td>    1.598</td> <td> 0.110</td> <td> -2.7e+05</td> <td> 2.65e+06</td>\n",
       "</tr>\n",
       "<tr>\n",
       "  <th>zipcode98038</th>    <td> 1.213e+06</td> <td>  8.8e+05</td> <td>    1.378</td> <td> 0.168</td> <td>-5.13e+05</td> <td> 2.94e+06</td>\n",
       "</tr>\n",
       "<tr>\n",
       "  <th>zipcode98039</th>    <td> 1.829e+06</td> <td> 8.81e+05</td> <td>    2.077</td> <td> 0.038</td> <td> 1.03e+05</td> <td> 3.56e+06</td>\n",
       "</tr>\n",
       "<tr>\n",
       "  <th>zipcode98040</th>    <td> 1.611e+06</td> <td>  8.8e+05</td> <td>    1.830</td> <td> 0.067</td> <td>-1.15e+05</td> <td> 3.34e+06</td>\n",
       "</tr>\n",
       "<tr>\n",
       "  <th>zipcode98042</th>    <td> 1.279e+06</td> <td> 9.48e+05</td> <td>    1.349</td> <td> 0.177</td> <td>-5.79e+05</td> <td> 3.14e+06</td>\n",
       "</tr>\n",
       "<tr>\n",
       "  <th>zipcode98045</th>    <td> 1.454e+06</td> <td> 1.02e+06</td> <td>    1.432</td> <td> 0.152</td> <td>-5.37e+05</td> <td> 3.45e+06</td>\n",
       "</tr>\n",
       "<tr>\n",
       "  <th>zipcode98052</th>    <td> 1.889e+06</td> <td> 1.22e+06</td> <td>    1.550</td> <td> 0.121</td> <td>   -5e+05</td> <td> 4.28e+06</td>\n",
       "</tr>\n",
       "<tr>\n",
       "  <th>zipcode98053</th>    <td>  1.89e+06</td> <td> 1.22e+06</td> <td>    1.551</td> <td> 0.121</td> <td>-4.99e+05</td> <td> 4.28e+06</td>\n",
       "</tr>\n",
       "<tr>\n",
       "  <th>zipcode98055</th>    <td> 1.761e+06</td> <td> 1.29e+06</td> <td>    1.369</td> <td> 0.171</td> <td>-7.61e+05</td> <td> 4.28e+06</td>\n",
       "</tr>\n",
       "<tr>\n",
       "  <th>zipcode98056</th>    <td>  1.82e+06</td> <td> 1.29e+06</td> <td>    1.415</td> <td> 0.157</td> <td>-7.02e+05</td> <td> 4.34e+06</td>\n",
       "</tr>\n",
       "<tr>\n",
       "  <th>zipcode98058</th>    <td> 1.849e+06</td> <td> 1.35e+06</td> <td>    1.366</td> <td> 0.172</td> <td>-8.05e+05</td> <td>  4.5e+06</td>\n",
       "</tr>\n",
       "<tr>\n",
       "  <th>zipcode98059</th>    <td> 1.901e+06</td> <td> 1.35e+06</td> <td>    1.404</td> <td> 0.160</td> <td>-7.53e+05</td> <td> 4.56e+06</td>\n",
       "</tr>\n",
       "<tr>\n",
       "  <th>zipcode98065</th>    <td> 2.124e+06</td> <td> 1.49e+06</td> <td>    1.426</td> <td> 0.154</td> <td>-7.96e+05</td> <td> 5.04e+06</td>\n",
       "</tr>\n",
       "<tr>\n",
       "  <th>zipcode98070</th>    <td> 2.261e+06</td> <td> 1.63e+06</td> <td>    1.391</td> <td> 0.164</td> <td>-9.25e+05</td> <td> 5.45e+06</td>\n",
       "</tr>\n",
       "<tr>\n",
       "  <th>zipcode98072</th>    <td> 2.421e+06</td> <td> 1.69e+06</td> <td>    1.430</td> <td> 0.153</td> <td>-8.97e+05</td> <td> 5.74e+06</td>\n",
       "</tr>\n",
       "<tr>\n",
       "  <th>zipcode98074</th>    <td> 2.478e+06</td> <td> 1.69e+06</td> <td>    1.464</td> <td> 0.143</td> <td> -8.4e+05</td> <td>  5.8e+06</td>\n",
       "</tr>\n",
       "<tr>\n",
       "  <th>zipcode98075</th>    <td> 2.594e+06</td> <td> 1.76e+06</td> <td>    1.473</td> <td> 0.141</td> <td>-8.57e+05</td> <td> 6.04e+06</td>\n",
       "</tr>\n",
       "<tr>\n",
       "  <th>zipcode98077</th>    <td> 2.515e+06</td> <td> 1.76e+06</td> <td>    1.429</td> <td> 0.153</td> <td>-9.36e+05</td> <td> 5.97e+06</td>\n",
       "</tr>\n",
       "<tr>\n",
       "  <th>zipcode98092</th>    <td>  2.87e+06</td> <td> 2.17e+06</td> <td>    1.325</td> <td> 0.185</td> <td>-1.38e+06</td> <td> 7.12e+06</td>\n",
       "</tr>\n",
       "<tr>\n",
       "  <th>zipcode98102</th>    <td> 3.586e+06</td> <td> 2.37e+06</td> <td>    1.513</td> <td> 0.130</td> <td>-1.06e+06</td> <td> 8.23e+06</td>\n",
       "</tr>\n",
       "<tr>\n",
       "  <th>zipcode98103</th>    <td> 3.582e+06</td> <td> 2.44e+06</td> <td>    1.470</td> <td> 0.142</td> <td> -1.2e+06</td> <td> 8.36e+06</td>\n",
       "</tr>\n",
       "<tr>\n",
       "  <th>zipcode98105</th>    <td> 3.631e+06</td> <td> 2.44e+06</td> <td>    1.490</td> <td> 0.136</td> <td>-1.15e+06</td> <td> 8.41e+06</td>\n",
       "</tr>\n",
       "<tr>\n",
       "  <th>zipcode98106</th>    <td>  3.47e+06</td> <td> 2.51e+06</td> <td>    1.385</td> <td> 0.166</td> <td>-1.44e+06</td> <td> 8.38e+06</td>\n",
       "</tr>\n",
       "<tr>\n",
       "  <th>zipcode98107</th>    <td> 3.672e+06</td> <td> 2.51e+06</td> <td>    1.466</td> <td> 0.143</td> <td>-1.24e+06</td> <td> 8.58e+06</td>\n",
       "</tr>\n",
       "<tr>\n",
       "  <th>zipcode98108</th>    <td> 3.468e+06</td> <td> 2.51e+06</td> <td>    1.384</td> <td> 0.166</td> <td>-1.44e+06</td> <td> 8.38e+06</td>\n",
       "</tr>\n",
       "<tr>\n",
       "  <th>zipcode98109</th>    <td> 3.849e+06</td> <td> 2.57e+06</td> <td>    1.496</td> <td> 0.135</td> <td>-1.19e+06</td> <td> 8.89e+06</td>\n",
       "</tr>\n",
       "<tr>\n",
       "  <th>zipcode98112</th>    <td> 3.963e+06</td> <td> 2.64e+06</td> <td>    1.501</td> <td> 0.133</td> <td>-1.21e+06</td> <td> 9.14e+06</td>\n",
       "</tr>\n",
       "<tr>\n",
       "  <th>zipcode98115</th>    <td> 3.937e+06</td> <td> 2.71e+06</td> <td>    1.454</td> <td> 0.146</td> <td>-1.37e+06</td> <td> 9.25e+06</td>\n",
       "</tr>\n",
       "<tr>\n",
       "  <th>zipcode98116</th>    <td> 3.916e+06</td> <td> 2.71e+06</td> <td>    1.446</td> <td> 0.148</td> <td>-1.39e+06</td> <td> 9.22e+06</td>\n",
       "</tr>\n",
       "<tr>\n",
       "  <th>zipcode98117</th>    <td>  4.02e+06</td> <td> 2.78e+06</td> <td>    1.448</td> <td> 0.148</td> <td>-1.42e+06</td> <td> 9.46e+06</td>\n",
       "</tr>\n",
       "<tr>\n",
       "  <th>zipcode98118</th>    <td> 3.875e+06</td> <td> 2.78e+06</td> <td>    1.396</td> <td> 0.163</td> <td>-1.57e+06</td> <td> 9.32e+06</td>\n",
       "</tr>\n",
       "<tr>\n",
       "  <th>zipcode98119</th>    <td> 4.116e+06</td> <td> 2.78e+06</td> <td>    1.483</td> <td> 0.138</td> <td>-1.33e+06</td> <td> 9.56e+06</td>\n",
       "</tr>\n",
       "<tr>\n",
       "  <th>zipcode98122</th>    <td> 4.117e+06</td> <td> 2.84e+06</td> <td>    1.448</td> <td> 0.148</td> <td>-1.46e+06</td> <td> 9.69e+06</td>\n",
       "</tr>\n",
       "<tr>\n",
       "  <th>zipcode98125</th>    <td> 4.088e+06</td> <td> 2.91e+06</td> <td>    1.404</td> <td> 0.160</td> <td>-1.62e+06</td> <td>  9.8e+06</td>\n",
       "</tr>\n",
       "<tr>\n",
       "  <th>zipcode98126</th>    <td> 4.172e+06</td> <td> 2.98e+06</td> <td>    1.400</td> <td> 0.161</td> <td>-1.67e+06</td> <td>    1e+07</td>\n",
       "</tr>\n",
       "<tr>\n",
       "  <th>zipcode98133</th>    <td>  4.32e+06</td> <td> 3.11e+06</td> <td>    1.387</td> <td> 0.165</td> <td>-1.79e+06</td> <td> 1.04e+07</td>\n",
       "</tr>\n",
       "<tr>\n",
       "  <th>zipcode98136</th>    <td> 4.507e+06</td> <td> 3.18e+06</td> <td>    1.416</td> <td> 0.157</td> <td>-1.73e+06</td> <td> 1.07e+07</td>\n",
       "</tr>\n",
       "<tr>\n",
       "  <th>zipcode98144</th>    <td> 4.762e+06</td> <td> 3.39e+06</td> <td>    1.407</td> <td> 0.160</td> <td>-1.87e+06</td> <td> 1.14e+07</td>\n",
       "</tr>\n",
       "<tr>\n",
       "  <th>zipcode98146</th>    <td>  4.72e+06</td> <td> 3.45e+06</td> <td>    1.367</td> <td> 0.172</td> <td>-2.05e+06</td> <td> 1.15e+07</td>\n",
       "</tr>\n",
       "<tr>\n",
       "  <th>zipcode98148</th>    <td> 4.669e+06</td> <td> 3.45e+06</td> <td>    1.352</td> <td> 0.176</td> <td> -2.1e+06</td> <td> 1.14e+07</td>\n",
       "</tr>\n",
       "<tr>\n",
       "  <th>zipcode98155</th>    <td> 5.028e+06</td> <td> 3.66e+06</td> <td>    1.375</td> <td> 0.169</td> <td>-2.14e+06</td> <td> 1.22e+07</td>\n",
       "</tr>\n",
       "<tr>\n",
       "  <th>zipcode98166</th>    <td> 5.343e+06</td> <td> 3.93e+06</td> <td>    1.360</td> <td> 0.174</td> <td>-2.36e+06</td> <td>  1.3e+07</td>\n",
       "</tr>\n",
       "<tr>\n",
       "  <th>zipcode98168</th>    <td> 5.385e+06</td> <td>    4e+06</td> <td>    1.348</td> <td> 0.178</td> <td>-2.45e+06</td> <td> 1.32e+07</td>\n",
       "</tr>\n",
       "<tr>\n",
       "  <th>zipcode98177</th>    <td> 5.816e+06</td> <td>  4.2e+06</td> <td>    1.385</td> <td> 0.166</td> <td>-2.41e+06</td> <td>  1.4e+07</td>\n",
       "</tr>\n",
       "<tr>\n",
       "  <th>zipcode98178</th>    <td>  5.67e+06</td> <td>  4.2e+06</td> <td>    1.351</td> <td> 0.177</td> <td>-2.56e+06</td> <td> 1.39e+07</td>\n",
       "</tr>\n",
       "<tr>\n",
       "  <th>zipcode98188</th>    <td> 6.005e+06</td> <td> 4.47e+06</td> <td>    1.344</td> <td> 0.179</td> <td>-2.75e+06</td> <td> 1.48e+07</td>\n",
       "</tr>\n",
       "<tr>\n",
       "  <th>zipcode98198</th>    <td> 6.271e+06</td> <td> 4.67e+06</td> <td>    1.342</td> <td> 0.180</td> <td>-2.89e+06</td> <td> 1.54e+07</td>\n",
       "</tr>\n",
       "<tr>\n",
       "  <th>zipcode98199</th>    <td> 6.601e+06</td> <td> 4.67e+06</td> <td>    1.413</td> <td> 0.158</td> <td>-2.56e+06</td> <td> 1.58e+07</td>\n",
       "</tr>\n",
       "<tr>\n",
       "  <th>decadebuilt1910</th> <td> 6505.7610</td> <td> 4631.743</td> <td>    1.405</td> <td> 0.160</td> <td>-2572.954</td> <td> 1.56e+04</td>\n",
       "</tr>\n",
       "<tr>\n",
       "  <th>decadebuilt1920</th> <td> 9775.2210</td> <td> 4294.100</td> <td>    2.276</td> <td> 0.023</td> <td> 1358.322</td> <td> 1.82e+04</td>\n",
       "</tr>\n",
       "<tr>\n",
       "  <th>decadebuilt1930</th> <td> 2580.2073</td> <td> 5504.094</td> <td>    0.469</td> <td> 0.639</td> <td>-8208.410</td> <td> 1.34e+04</td>\n",
       "</tr>\n",
       "<tr>\n",
       "  <th>decadebuilt1940</th> <td>-1.289e+04</td> <td> 4254.606</td> <td>   -3.031</td> <td> 0.002</td> <td>-2.12e+04</td> <td>-4554.818</td>\n",
       "</tr>\n",
       "<tr>\n",
       "  <th>decadebuilt1950</th> <td>-3.635e+04</td> <td> 4218.826</td> <td>   -8.616</td> <td> 0.000</td> <td>-4.46e+04</td> <td>-2.81e+04</td>\n",
       "</tr>\n",
       "<tr>\n",
       "  <th>decadebuilt1960</th> <td>-4.412e+04</td> <td> 4321.694</td> <td>  -10.209</td> <td> 0.000</td> <td>-5.26e+04</td> <td>-3.56e+04</td>\n",
       "</tr>\n",
       "<tr>\n",
       "  <th>decadebuilt1970</th> <td>-5.157e+04</td> <td> 4492.761</td> <td>  -11.478</td> <td> 0.000</td> <td>-6.04e+04</td> <td>-4.28e+04</td>\n",
       "</tr>\n",
       "<tr>\n",
       "  <th>decadebuilt1980</th> <td>-3.537e+04</td> <td> 4569.133</td> <td>   -7.740</td> <td> 0.000</td> <td>-4.43e+04</td> <td>-2.64e+04</td>\n",
       "</tr>\n",
       "<tr>\n",
       "  <th>decadebuilt1990</th> <td>-4.178e+04</td> <td> 4727.123</td> <td>   -8.838</td> <td> 0.000</td> <td> -5.1e+04</td> <td>-3.25e+04</td>\n",
       "</tr>\n",
       "<tr>\n",
       "  <th>decadebuilt2000</th> <td>-5.261e+04</td> <td> 4559.556</td> <td>  -11.539</td> <td> 0.000</td> <td>-6.16e+04</td> <td>-4.37e+04</td>\n",
       "</tr>\n",
       "<tr>\n",
       "  <th>decadebuilt2010</th> <td>-1.643e+04</td> <td> 5022.656</td> <td>   -3.272</td> <td> 0.001</td> <td>-2.63e+04</td> <td>-6589.220</td>\n",
       "</tr>\n",
       "</table>\n",
       "<table class=\"simpletable\">\n",
       "<tr>\n",
       "  <th>Omnibus:</th>       <td>1546.837</td> <th>  Durbin-Watson:     </th> <td>   1.993</td>\n",
       "</tr>\n",
       "<tr>\n",
       "  <th>Prob(Omnibus):</th>  <td> 0.000</td>  <th>  Jarque-Bera (JB):  </th> <td>5638.721</td>\n",
       "</tr>\n",
       "<tr>\n",
       "  <th>Skew:</th>           <td> 0.435</td>  <th>  Prob(JB):          </th> <td>    0.00</td>\n",
       "</tr>\n",
       "<tr>\n",
       "  <th>Kurtosis:</th>       <td> 5.719</td>  <th>  Cond. No.          </th> <td>1.08e+16</td>\n",
       "</tr>\n",
       "</table><br/><br/>Warnings:<br/>[1] Standard Errors assume that the covariance matrix of the errors is correctly specified.<br/>[2] The smallest eigenvalue is 1.78e-20. This might indicate that there are<br/>strong multicollinearity problems or that the design matrix is singular."
      ],
      "text/plain": [
       "<class 'statsmodels.iolib.summary.Summary'>\n",
       "\"\"\"\n",
       "                            OLS Regression Results                            \n",
       "==============================================================================\n",
       "Dep. Variable:                  price   R-squared:                       0.835\n",
       "Model:                            OLS   Adj. R-squared:                  0.834\n",
       "Method:                 Least Squares   F-statistic:                     803.4\n",
       "Date:                Fri, 28 Aug 2020   Prob (F-statistic):               0.00\n",
       "Time:                        16:51:12   Log-Likelihood:            -2.1037e+05\n",
       "No. Observations:               16607   AIC:                         4.209e+05\n",
       "Df Residuals:                   16502   BIC:                         4.218e+05\n",
       "Df Model:                         104                                         \n",
       "Covariance Type:            nonrobust                                         \n",
       "===================================================================================\n",
       "                      coef    std err          t      P>|t|      [0.025      0.975]\n",
       "-----------------------------------------------------------------------------------\n",
       "Intercept       -3.775e+05   1.06e+04    -35.663      0.000   -3.98e+05   -3.57e+05\n",
       "monthsold[T.2]   7748.0859   2854.428      2.714      0.007    2153.099    1.33e+04\n",
       "monthsold[T.3]   3398.9368   2961.056      1.148      0.251   -2405.052    9202.926\n",
       "monthsold[T.4]   2128.3273   3170.930      0.671      0.502   -4087.038    8343.692\n",
       "monthsold[T.5]    530.5022   3093.494      0.171      0.864   -5533.079    6594.083\n",
       "monthsold[T.6]  -4763.4057   2966.172     -1.606      0.108   -1.06e+04    1050.610\n",
       "monthsold[T.7]   2018.1781   3184.739      0.634      0.526   -4224.253    8260.609\n",
       "monthsold[T.8]   1272.1996   3270.674      0.389      0.697   -5138.674    7683.073\n",
       "monthsold[T.9]   6067.6904   3948.223      1.537      0.124   -1671.252    1.38e+04\n",
       "monthsold[T.10]  8339.9966   3198.662      2.607      0.009    2070.275    1.46e+04\n",
       "monthsold[T.11]  2.432e+04   3011.859      8.076      0.000    1.84e+04    3.02e+04\n",
       "monthsold[T.12]  3.548e+04   2893.792     12.261      0.000    2.98e+04    4.12e+04\n",
       "monthsold[T.13]   4.11e+04   3599.455     11.419      0.000     3.4e+04    4.82e+04\n",
       "bedrooms        -1102.3320   1036.225     -1.064      0.287   -3133.444     928.780\n",
       "bathrooms        1.367e+04   1608.140      8.501      0.000    1.05e+04    1.68e+04\n",
       "sqftliving      -2.236e+13   1.59e+13     -1.405      0.160   -5.36e+13    8.84e+12\n",
       "sqftlot             1.7706      0.384      4.614      0.000       1.018       2.523\n",
       "floors          -1.728e+04   1968.883     -8.778      0.000   -2.11e+04   -1.34e+04\n",
       "waterfront       1893.8117   1901.029      0.996      0.319   -1832.410    5620.033\n",
       "view             3.722e+04   1176.948     31.621      0.000    3.49e+04    3.95e+04\n",
       "condition        2.405e+04   1071.487     22.447      0.000     2.2e+04    2.62e+04\n",
       "grade            4.327e+04   1202.212     35.994      0.000    4.09e+04    4.56e+04\n",
       "sqftabove        2.236e+13   1.59e+13      1.405      0.160   -8.84e+12    5.36e+13\n",
       "sqftbasement     2.236e+13   1.59e+13      1.405      0.160   -8.84e+12    5.36e+13\n",
       "sqftliving15       26.0178      1.957     13.292      0.000      22.181      29.855\n",
       "sqftlot15           0.8430      0.458      1.840      0.066      -0.055       1.741\n",
       "zips            -9.043e+04   6.77e+04     -1.336      0.182   -2.23e+05    4.23e+04\n",
       "zipcode98002     9679.4081   7453.077      1.299      0.194   -4929.426    2.43e+04\n",
       "zipcode98003     5063.3774   6728.089      0.753      0.452   -8124.402    1.83e+04\n",
       "zipcode98004      6.19e+05   6.82e+04      9.072      0.000    4.85e+05    7.53e+05\n",
       "zipcode98005     4.284e+05   6.83e+04      6.270      0.000    2.94e+05    5.62e+05\n",
       "zipcode98006     3.628e+05    6.8e+04      5.334      0.000    2.29e+05    4.96e+05\n",
       "zipcode98007     4.325e+05   1.36e+05      3.187      0.001    1.67e+05    6.99e+05\n",
       "zipcode98008     4.286e+05   1.36e+05      3.161      0.002    1.63e+05    6.94e+05\n",
       "zipcode98010     3.505e+05   2.04e+05      1.722      0.085   -4.85e+04    7.49e+05\n",
       "zipcode98011     4.231e+05   2.03e+05      2.082      0.037    2.47e+04    8.22e+05\n",
       "zipcode98014     4.592e+05   2.71e+05      1.693      0.090   -7.23e+04    9.91e+05\n",
       "zipcode98019     6.387e+05   4.06e+05      1.572      0.116   -1.58e+05    1.44e+06\n",
       "zipcode98022     6.321e+05   4.74e+05      1.333      0.182   -2.97e+05    1.56e+06\n",
       "zipcode98023     6.251e+05   4.74e+05      1.319      0.187   -3.04e+05    1.55e+06\n",
       "zipcode98024     8.558e+05   5.41e+05      1.581      0.114   -2.05e+05    1.92e+06\n",
       "zipcode98027     1.048e+06   6.09e+05      1.720      0.085   -1.46e+05    2.24e+06\n",
       "zipcode98028     9.492e+05   6.09e+05      1.558      0.119   -2.45e+05    2.14e+06\n",
       "zipcode98029      1.05e+06   6.09e+05      1.723      0.085   -1.45e+05    2.24e+06\n",
       "zipcode98030     9.079e+05   6.77e+05      1.341      0.180   -4.19e+05    2.24e+06\n",
       "zipcode98031     9.196e+05   6.77e+05      1.358      0.174   -4.08e+05    2.25e+06\n",
       "zipcode98032     9.095e+05   6.77e+05      1.343      0.179   -4.18e+05    2.24e+06\n",
       "zipcode98033     1.311e+06   7.45e+05      1.760      0.078   -1.49e+05    2.77e+06\n",
       "zipcode98034      1.19e+06   7.45e+05      1.598      0.110    -2.7e+05    2.65e+06\n",
       "zipcode98038     1.213e+06    8.8e+05      1.378      0.168   -5.13e+05    2.94e+06\n",
       "zipcode98039     1.829e+06   8.81e+05      2.077      0.038    1.03e+05    3.56e+06\n",
       "zipcode98040     1.611e+06    8.8e+05      1.830      0.067   -1.15e+05    3.34e+06\n",
       "zipcode98042     1.279e+06   9.48e+05      1.349      0.177   -5.79e+05    3.14e+06\n",
       "zipcode98045     1.454e+06   1.02e+06      1.432      0.152   -5.37e+05    3.45e+06\n",
       "zipcode98052     1.889e+06   1.22e+06      1.550      0.121      -5e+05    4.28e+06\n",
       "zipcode98053      1.89e+06   1.22e+06      1.551      0.121   -4.99e+05    4.28e+06\n",
       "zipcode98055     1.761e+06   1.29e+06      1.369      0.171   -7.61e+05    4.28e+06\n",
       "zipcode98056      1.82e+06   1.29e+06      1.415      0.157   -7.02e+05    4.34e+06\n",
       "zipcode98058     1.849e+06   1.35e+06      1.366      0.172   -8.05e+05     4.5e+06\n",
       "zipcode98059     1.901e+06   1.35e+06      1.404      0.160   -7.53e+05    4.56e+06\n",
       "zipcode98065     2.124e+06   1.49e+06      1.426      0.154   -7.96e+05    5.04e+06\n",
       "zipcode98070     2.261e+06   1.63e+06      1.391      0.164   -9.25e+05    5.45e+06\n",
       "zipcode98072     2.421e+06   1.69e+06      1.430      0.153   -8.97e+05    5.74e+06\n",
       "zipcode98074     2.478e+06   1.69e+06      1.464      0.143    -8.4e+05     5.8e+06\n",
       "zipcode98075     2.594e+06   1.76e+06      1.473      0.141   -8.57e+05    6.04e+06\n",
       "zipcode98077     2.515e+06   1.76e+06      1.429      0.153   -9.36e+05    5.97e+06\n",
       "zipcode98092      2.87e+06   2.17e+06      1.325      0.185   -1.38e+06    7.12e+06\n",
       "zipcode98102     3.586e+06   2.37e+06      1.513      0.130   -1.06e+06    8.23e+06\n",
       "zipcode98103     3.582e+06   2.44e+06      1.470      0.142    -1.2e+06    8.36e+06\n",
       "zipcode98105     3.631e+06   2.44e+06      1.490      0.136   -1.15e+06    8.41e+06\n",
       "zipcode98106      3.47e+06   2.51e+06      1.385      0.166   -1.44e+06    8.38e+06\n",
       "zipcode98107     3.672e+06   2.51e+06      1.466      0.143   -1.24e+06    8.58e+06\n",
       "zipcode98108     3.468e+06   2.51e+06      1.384      0.166   -1.44e+06    8.38e+06\n",
       "zipcode98109     3.849e+06   2.57e+06      1.496      0.135   -1.19e+06    8.89e+06\n",
       "zipcode98112     3.963e+06   2.64e+06      1.501      0.133   -1.21e+06    9.14e+06\n",
       "zipcode98115     3.937e+06   2.71e+06      1.454      0.146   -1.37e+06    9.25e+06\n",
       "zipcode98116     3.916e+06   2.71e+06      1.446      0.148   -1.39e+06    9.22e+06\n",
       "zipcode98117      4.02e+06   2.78e+06      1.448      0.148   -1.42e+06    9.46e+06\n",
       "zipcode98118     3.875e+06   2.78e+06      1.396      0.163   -1.57e+06    9.32e+06\n",
       "zipcode98119     4.116e+06   2.78e+06      1.483      0.138   -1.33e+06    9.56e+06\n",
       "zipcode98122     4.117e+06   2.84e+06      1.448      0.148   -1.46e+06    9.69e+06\n",
       "zipcode98125     4.088e+06   2.91e+06      1.404      0.160   -1.62e+06     9.8e+06\n",
       "zipcode98126     4.172e+06   2.98e+06      1.400      0.161   -1.67e+06       1e+07\n",
       "zipcode98133      4.32e+06   3.11e+06      1.387      0.165   -1.79e+06    1.04e+07\n",
       "zipcode98136     4.507e+06   3.18e+06      1.416      0.157   -1.73e+06    1.07e+07\n",
       "zipcode98144     4.762e+06   3.39e+06      1.407      0.160   -1.87e+06    1.14e+07\n",
       "zipcode98146      4.72e+06   3.45e+06      1.367      0.172   -2.05e+06    1.15e+07\n",
       "zipcode98148     4.669e+06   3.45e+06      1.352      0.176    -2.1e+06    1.14e+07\n",
       "zipcode98155     5.028e+06   3.66e+06      1.375      0.169   -2.14e+06    1.22e+07\n",
       "zipcode98166     5.343e+06   3.93e+06      1.360      0.174   -2.36e+06     1.3e+07\n",
       "zipcode98168     5.385e+06      4e+06      1.348      0.178   -2.45e+06    1.32e+07\n",
       "zipcode98177     5.816e+06    4.2e+06      1.385      0.166   -2.41e+06     1.4e+07\n",
       "zipcode98178      5.67e+06    4.2e+06      1.351      0.177   -2.56e+06    1.39e+07\n",
       "zipcode98188     6.005e+06   4.47e+06      1.344      0.179   -2.75e+06    1.48e+07\n",
       "zipcode98198     6.271e+06   4.67e+06      1.342      0.180   -2.89e+06    1.54e+07\n",
       "zipcode98199     6.601e+06   4.67e+06      1.413      0.158   -2.56e+06    1.58e+07\n",
       "decadebuilt1910  6505.7610   4631.743      1.405      0.160   -2572.954    1.56e+04\n",
       "decadebuilt1920  9775.2210   4294.100      2.276      0.023    1358.322    1.82e+04\n",
       "decadebuilt1930  2580.2073   5504.094      0.469      0.639   -8208.410    1.34e+04\n",
       "decadebuilt1940 -1.289e+04   4254.606     -3.031      0.002   -2.12e+04   -4554.818\n",
       "decadebuilt1950 -3.635e+04   4218.826     -8.616      0.000   -4.46e+04   -2.81e+04\n",
       "decadebuilt1960 -4.412e+04   4321.694    -10.209      0.000   -5.26e+04   -3.56e+04\n",
       "decadebuilt1970 -5.157e+04   4492.761    -11.478      0.000   -6.04e+04   -4.28e+04\n",
       "decadebuilt1980 -3.537e+04   4569.133     -7.740      0.000   -4.43e+04   -2.64e+04\n",
       "decadebuilt1990 -4.178e+04   4727.123     -8.838      0.000    -5.1e+04   -3.25e+04\n",
       "decadebuilt2000 -5.261e+04   4559.556    -11.539      0.000   -6.16e+04   -4.37e+04\n",
       "decadebuilt2010 -1.643e+04   5022.656     -3.272      0.001   -2.63e+04   -6589.220\n",
       "==============================================================================\n",
       "Omnibus:                     1546.837   Durbin-Watson:                   1.993\n",
       "Prob(Omnibus):                  0.000   Jarque-Bera (JB):             5638.721\n",
       "Skew:                           0.435   Prob(JB):                         0.00\n",
       "Kurtosis:                       5.719   Cond. No.                     1.08e+16\n",
       "==============================================================================\n",
       "\n",
       "Warnings:\n",
       "[1] Standard Errors assume that the covariance matrix of the errors is correctly specified.\n",
       "[2] The smallest eigenvalue is 1.78e-20. This might indicate that there are\n",
       "strong multicollinearity problems or that the design matrix is singular.\n",
       "\"\"\""
      ]
     },
     "metadata": {},
     "output_type": "display_data"
    },
    {
     "data": {
      "image/png": "[encoded data removed]",
      "text/plain": [
       "<Figure size 720x360 with 2 Axes>"
      ]
     },
     "metadata": {},
     "output_type": "display_data"
    }
   ],
   "source": [
    "model = make_model(ols_data)"
   ]
  },
  {
   "cell_type": "code",
   "execution_count": null,
   "metadata": {
    "ExecuteTime": {
     "end_time": "2020-08-28T20:24:13.398503Z",
     "start_time": "2020-08-28T20:24:13.396501Z"
    }
   },
   "outputs": [],
   "source": [
    "# params = list(model.params.index)\n",
    "# params = params[1:6]\n",
    "# params.append('price')"
   ]
  },
  {
   "cell_type": "code",
   "execution_count": null,
   "metadata": {
    "ExecuteTime": {
     "end_time": "2020-08-28T20:24:13.556647Z",
     "start_time": "2020-08-28T20:24:13.554645Z"
    },
    "scrolled": false
   },
   "outputs": [],
   "source": [
    "# for param in params: \n",
    "#     minn = ols_data[param].min()\n",
    "#     maxx = ols_data[param].max()\n",
    "#     ols_data[param] = ols_data[param].apply(lambda x: (x-minn) / (maxx-minn))\n",
    "    \n",
    "# ols_data"
   ]
  },
  {
   "cell_type": "code",
   "execution_count": null,
   "metadata": {
    "ExecuteTime": {
     "end_time": "2020-08-28T20:24:13.716792Z",
     "start_time": "2020-08-28T20:24:13.714791Z"
    }
   },
   "outputs": [],
   "source": [
    "# for param in params: \n",
    "#     ols_data[param] = ols_data[param].apply(lambda x: np.log(x))"
   ]
  },
  {
   "cell_type": "code",
   "execution_count": null,
   "metadata": {
    "ExecuteTime": {
     "end_time": "2020-08-28T20:24:13.867931Z",
     "start_time": "2020-08-28T20:24:13.865928Z"
    }
   },
   "outputs": [],
   "source": [
    "# ols_data = ols_data.replace([np.inf, -np.inf], np.nan)"
   ]
  },
  {
   "cell_type": "code",
   "execution_count": null,
   "metadata": {
    "ExecuteTime": {
     "end_time": "2020-08-28T20:24:14.022069Z",
     "start_time": "2020-08-28T20:24:14.020069Z"
    }
   },
   "outputs": [],
   "source": [
    "# ols_data = ols_data.dropna()"
   ]
  },
  {
   "cell_type": "code",
   "execution_count": null,
   "metadata": {
    "ExecuteTime": {
     "end_time": "2020-08-28T20:24:14.381397Z",
     "start_time": "2020-08-28T20:24:14.178212Z"
    }
   },
   "outputs": [],
   "source": [
    "df = ols_data.copy()\n",
    "df.corr().abs()"
   ]
  },
  {
   "cell_type": "code",
   "execution_count": null,
   "metadata": {
    "ExecuteTime": {
     "end_time": "2020-08-28T20:24:15.326256Z",
     "start_time": "2020-08-28T20:24:14.382398Z"
    }
   },
   "outputs": [],
   "source": [
    "corrmat = ols_data.corr()\n",
    "corrmat = corrmat.abs()\n",
    "mask = np.triu(np.ones_like(corrmat, dtype=np.bool))\n",
    "sns.heatmap(corrmat, mask=mask, square=True, cmap='GnBu_r');"
   ]
  },
  {
   "cell_type": "code",
   "execution_count": null,
   "metadata": {
    "ExecuteTime": {
     "end_time": "2020-08-28T20:24:15.344272Z",
     "start_time": "2020-08-28T20:24:15.327256Z"
    }
   },
   "outputs": [],
   "source": [
    "vifdf = df.drop(columns=['price'],axis=1)\n",
    "vifdf = sm.add_constant(vifdf)"
   ]
  },
  {
   "cell_type": "code",
   "execution_count": null,
   "metadata": {
    "ExecuteTime": {
     "end_time": "2020-08-28T20:25:25.908433Z",
     "start_time": "2020-08-28T20:25:25.906431Z"
    }
   },
   "outputs": [],
   "source": [
    "from statsmodels.stats.outliers_influence import variance_inflation_factor"
   ]
  },
  {
   "cell_type": "code",
   "execution_count": null,
   "metadata": {
    "ExecuteTime": {
     "end_time": "2020-08-28T20:25:26.112619Z",
     "start_time": "2020-08-28T20:25:26.089598Z"
    }
   },
   "outputs": [],
   "source": [
    "vifdf = df.drop(columns=['price'],axis=1)\n",
    "vifdf = sm.add_constant(vifdf)"
   ]
  },
  {
   "cell_type": "code",
   "execution_count": null,
   "metadata": {
    "ExecuteTime": {
     "end_time": "2020-08-28T20:25:26.230726Z",
     "start_time": "2020-08-28T20:25:26.227723Z"
    }
   },
   "outputs": [],
   "source": [
    "from tqdm import tqdm_notebook as tqdm"
   ]
  },
  {
   "cell_type": "code",
   "execution_count": null,
   "metadata": {
    "ExecuteTime": {
     "end_time": "2020-08-28T20:25:30.772856Z",
     "start_time": "2020-08-28T20:25:26.374858Z"
    }
   },
   "outputs": [],
   "source": [
    "vif = [variance_inflation_factor(vifdf.values, i) for i in tqdm(range(vifdf.shape[1]))]"
   ]
  },
  {
   "cell_type": "code",
   "execution_count": null,
   "metadata": {
    "ExecuteTime": {
     "end_time": "2020-08-28T20:25:30.778861Z",
     "start_time": "2020-08-28T20:25:30.773856Z"
    }
   },
   "outputs": [],
   "source": [
    "vif_results = pd.Series(dict(zip(vifdf.columns, vif)))\n",
    "vif_results"
   ]
  },
  {
   "cell_type": "code",
   "execution_count": null,
   "metadata": {
    "ExecuteTime": {
     "end_time": "2020-08-28T20:25:30.784867Z",
     "start_time": "2020-08-28T20:25:30.779862Z"
    }
   },
   "outputs": [],
   "source": [
    "threshold = 6\n",
    "drop_vif = list(vif_results[vif_results>threshold].index)\n",
    "if 'const' in drop_vif:\n",
    "    drop_vif.remove('const')\n",
    "# drop_vif.append('sqftabove')\n",
    "# drop_vif.append('sqftlot15')\n",
    "# drop_vif.append('sqftliving15')"
   ]
  },
  {
   "cell_type": "code",
   "execution_count": null,
   "metadata": {
    "ExecuteTime": {
     "end_time": "2020-08-28T20:25:31.495513Z",
     "start_time": "2020-08-28T20:25:30.785867Z"
    },
    "scrolled": false
   },
   "outputs": [],
   "source": [
    "model = make_model(ols_data, drop_cols=[*drop_vif])"
   ]
  },
  {
   "cell_type": "code",
   "execution_count": null,
   "metadata": {
    "ExecuteTime": {
     "end_time": "2020-08-28T20:25:31.501519Z",
     "start_time": "2020-08-28T20:25:31.496514Z"
    }
   },
   "outputs": [],
   "source": [
    "pvalues = model.pvalues[1:].rename('p-values')\n",
    "pvalues.sort_values(ascending=False,inplace=True)\n",
    "pvalues"
   ]
  },
  {
   "cell_type": "code",
   "execution_count": null,
   "metadata": {
    "ExecuteTime": {
     "end_time": "2020-08-28T20:25:31.507524Z",
     "start_time": "2020-08-28T20:25:31.502519Z"
    }
   },
   "outputs": [],
   "source": [
    "pvalues[pvalues > .05]"
   ]
  },
  {
   "cell_type": "code",
   "execution_count": null,
   "metadata": {
    "ExecuteTime": {
     "end_time": "2020-08-28T20:25:31.514531Z",
     "start_time": "2020-08-28T20:25:31.508525Z"
    }
   },
   "outputs": [],
   "source": [
    "bcoeffs = list(pvalues[pvalues > .05].index)"
   ]
  },
  {
   "cell_type": "code",
   "execution_count": null,
   "metadata": {
    "ExecuteTime": {
     "end_time": "2020-08-28T20:25:31.520535Z",
     "start_time": "2020-08-28T20:25:31.516533Z"
    }
   },
   "outputs": [],
   "source": [
    "bcoeffs"
   ]
  },
  {
   "cell_type": "code",
   "execution_count": null,
   "metadata": {
    "ExecuteTime": {
     "end_time": "2020-08-28T20:25:32.244194Z",
     "start_time": "2020-08-28T20:25:31.521536Z"
    }
   },
   "outputs": [],
   "source": [
    "model =  make_model(ols_data, drop_cols=[*bcoeffs, *drop_vif])"
   ]
  },
  {
   "cell_type": "code",
   "execution_count": null,
   "metadata": {
    "ExecuteTime": {
     "end_time": "2020-08-28T20:25:32.247197Z",
     "start_time": "2020-08-28T20:25:32.245196Z"
    },
    "scrolled": true
   },
   "outputs": [],
   "source": [
    "from sklearn.model_selection import train_test_split\n",
    "from sklearn.metrics import r2_score"
   ]
  },
  {
   "cell_type": "code",
   "execution_count": null,
   "metadata": {
    "ExecuteTime": {
     "end_time": "2020-08-28T20:26:29.624367Z",
     "start_time": "2020-08-28T20:26:29.617361Z"
    }
   },
   "outputs": [],
   "source": [
    "df_train, df_test = train_test_split(ols_data)\n",
    "df_train.shape, df_test.shape"
   ]
  },
  {
   "cell_type": "code",
   "execution_count": null,
   "metadata": {
    "ExecuteTime": {
     "end_time": "2020-08-28T20:26:30.651301Z",
     "start_time": "2020-08-28T20:26:30.011718Z"
    },
    "scrolled": false
   },
   "outputs": [],
   "source": [
    "model = make_model(df_train,drop_cols=[*drop_vif,*bcoeffs])"
   ]
  },
  {
   "cell_type": "code",
   "execution_count": null,
   "metadata": {
    "ExecuteTime": {
     "end_time": "2020-08-28T20:24:22.003327Z",
     "start_time": "2020-08-28T20:24:22.001325Z"
    }
   },
   "outputs": [],
   "source": [
    "from tqdm import tqdm_notebook as tqdm"
   ]
  },
  {
   "cell_type": "markdown",
   "metadata": {},
   "source": [
    "# Create loop for best train-test split"
   ]
  },
  {
   "cell_type": "code",
   "execution_count": null,
   "metadata": {
    "ExecuteTime": {
     "end_time": "2020-08-28T20:24:30.581126Z",
     "start_time": "2020-08-28T20:24:22.004328Z"
    },
    "scrolled": true
   },
   "outputs": [],
   "source": [
    "r2dict = {}\n",
    "r2scores = {}\n",
    "for x in tqdm(range(0, 20)):\n",
    "    df_train, df_test = train_test_split(ols_data)\n",
    "    model = make_model(df_train,drop_cols=[*drop_vif,*bcoeffs], show_sum=False)\n",
    "    r2dict.update({model.rsquared:model})\n",
    "    y_train = model.predict(df_train)\n",
    "    y_test = model.predict(df_test)\n",
    "    r2_train = r2_score(df_train['price'],y_train)\n",
    "    r2_test = r2_score(df_test['price'],y_test)\n",
    "    \n",
    "    r2dict.update({r2_test:[r2_train, model]})\n",
    "    \n",
    "#     split.update({model.rsquared:[df_train, df_test]})"
   ]
  },
  {
   "cell_type": "code",
   "execution_count": null,
   "metadata": {
    "ExecuteTime": {
     "end_time": "2020-08-28T20:24:30.584129Z",
     "start_time": "2020-08-28T20:24:30.582127Z"
    }
   },
   "outputs": [],
   "source": [
    "besttest = max(r2dict.items())"
   ]
  },
  {
   "cell_type": "code",
   "execution_count": null,
   "metadata": {
    "ExecuteTime": {
     "end_time": "2020-08-28T20:24:30.591136Z",
     "start_time": "2020-08-28T20:24:30.585130Z"
    }
   },
   "outputs": [],
   "source": [
    "besttest[1]"
   ]
  },
  {
   "cell_type": "code",
   "execution_count": null,
   "metadata": {
    "ExecuteTime": {
     "end_time": "2020-08-28T20:24:30.597140Z",
     "start_time": "2020-08-28T20:24:30.592136Z"
    }
   },
   "outputs": [],
   "source": [
    "bestmodel = max(r2dict.items())"
   ]
  },
  {
   "cell_type": "code",
   "execution_count": null,
   "metadata": {
    "ExecuteTime": {
     "end_time": "2020-08-28T20:24:30.606149Z",
     "start_time": "2020-08-28T20:24:30.598142Z"
    }
   },
   "outputs": [],
   "source": [
    "df_train, df_test = train_test_split(ols_data)"
   ]
  },
  {
   "cell_type": "code",
   "execution_count": null,
   "metadata": {
    "ExecuteTime": {
     "end_time": "2020-08-28T20:24:30.620162Z",
     "start_time": "2020-08-28T20:24:30.607150Z"
    }
   },
   "outputs": [],
   "source": [
    "y_train = besttest[1].predict(df_train)"
   ]
  },
  {
   "cell_type": "code",
   "execution_count": null,
   "metadata": {
    "ExecuteTime": {
     "end_time": "2020-08-28T20:24:30.622164Z",
     "start_time": "2020-08-28T20:24:18.503Z"
    }
   },
   "outputs": [],
   "source": [
    "y_test = besttest[1].predict(df_test)"
   ]
  },
  {
   "cell_type": "code",
   "execution_count": null,
   "metadata": {
    "ExecuteTime": {
     "end_time": "2020-08-28T20:24:30.623164Z",
     "start_time": "2020-08-28T20:24:18.664Z"
    }
   },
   "outputs": [],
   "source": [
    "r2_train = r2_score(df_train['price'],y_train)\n",
    "r2_test = r2_score(df_test['price'],y_test)\n",
    "print(f\"Training Score: {r2_train}\")\n",
    "print(f\"Test Score: {r2_test}\")"
   ]
  },
  {
   "cell_type": "code",
   "execution_count": null,
   "metadata": {
    "ExecuteTime": {
     "end_time": "2020-08-28T20:24:30.624165Z",
     "start_time": "2020-08-28T20:24:18.844Z"
    }
   },
   "outputs": [],
   "source": [
    "bestmodel[1][1].summary()"
   ]
  },
  {
   "cell_type": "code",
   "execution_count": null,
   "metadata": {
    "ExecuteTime": {
     "end_time": "2020-08-28T20:24:30.625166Z",
     "start_time": "2020-08-28T20:24:19.042Z"
    }
   },
   "outputs": [],
   "source": [
    "sm.graphics.qqplot(bestmodel[1][1].resid,fit=True, line='45')"
   ]
  },
  {
   "cell_type": "code",
   "execution_count": null,
   "metadata": {
    "ExecuteTime": {
     "end_time": "2020-08-28T20:24:30.626168Z",
     "start_time": "2020-08-28T20:24:19.983Z"
    }
   },
   "outputs": [],
   "source": [
    "from statsmodels.stats.diagnostic import het_breuschpagan\n",
    "from statsmodels.stats.diagnostic import het_white\n",
    "\n",
    "white_test = het_white(bestmodel[1][1].resid,  bestmodel[1][1].model.exog)"
   ]
  },
  {
   "cell_type": "code",
   "execution_count": null,
   "metadata": {
    "ExecuteTime": {
     "end_time": "2020-08-28T20:24:30.626168Z",
     "start_time": "2020-08-28T20:24:20.924Z"
    }
   },
   "outputs": [],
   "source": [
    "bp_test = het_breuschpagan(bestmodel[1][1].resid, bestmodel[1][1].model.exog)"
   ]
  },
  {
   "cell_type": "code",
   "execution_count": null,
   "metadata": {
    "ExecuteTime": {
     "end_time": "2020-08-28T20:24:30.627169Z",
     "start_time": "2020-08-28T20:24:21.169Z"
    }
   },
   "outputs": [],
   "source": [
    "labels = ['LM Statistic', 'LM-Test p-value', 'F-Statistic', 'F-Test p-value']\n",
    "print(dict(zip(labels, bp_test)))\n",
    "print(dict(zip(labels, white_test)))"
   ]
  },
  {
   "cell_type": "markdown",
   "metadata": {},
   "source": [
    "## Run all above"
   ]
  },
  {
   "cell_type": "markdown",
   "metadata": {},
   "source": [
    "## Test"
   ]
  },
  {
   "cell_type": "code",
   "execution_count": null,
   "metadata": {
    "ExecuteTime": {
     "end_time": "2020-08-26T21:36:17.812209Z",
     "start_time": "2020-08-26T21:35:55.088Z"
    }
   },
   "outputs": [],
   "source": [
    "\n",
    "col = list(model_data[sigp_list[:5]].columns)\n"
   ]
  },
  {
   "cell_type": "code",
   "execution_count": null,
   "metadata": {
    "ExecuteTime": {
     "end_time": "2020-08-26T21:36:17.813210Z",
     "start_time": "2020-08-26T21:35:55.103Z"
    }
   },
   "outputs": [],
   "source": [
    "model = smf.ols(formula=construct_formula(col), data=model_data).fit()\n",
    "display(model.summary())"
   ]
  },
  {
   "cell_type": "code",
   "execution_count": null,
   "metadata": {},
   "outputs": [],
   "source": []
  },
  {
   "cell_type": "code",
   "execution_count": null,
   "metadata": {},
   "outputs": [],
   "source": []
  },
  {
   "cell_type": "markdown",
   "metadata": {},
   "source": [
    "### Possible Model - MinMax Scaling"
   ]
  },
  {
   "cell_type": "code",
   "execution_count": null,
   "metadata": {
    "ExecuteTime": {
     "end_time": "2020-08-26T21:36:17.814211Z",
     "start_time": "2020-08-26T21:35:55.132Z"
    },
    "scrolled": true
   },
   "outputs": [],
   "source": [
    "# from sklearn import preprocessing\n",
    "\n",
    "# x = ohe_clean_data.values #returns a numpy array\n",
    "# min_max_scaler = preprocessing.MinMaxScaler()\n",
    "# x_scaled = min_max_scaler.fit_transform(x)\n",
    "# minmaxscaled = pd.DataFrame(x_scaled)\n",
    "# minmaxscaled.columns = ohe_clean_data.columns\n",
    "# minmaxscaled"
   ]
  },
  {
   "cell_type": "code",
   "execution_count": null,
   "metadata": {
    "ExecuteTime": {
     "end_time": "2020-08-26T21:36:17.815212Z",
     "start_time": "2020-08-26T21:35:55.146Z"
    }
   },
   "outputs": [],
   "source": [
    "# col_formula = list(minmaxscaled.columns)\n",
    "# col_formula.remove('price')\n",
    "# featurelist = ' + '.join(col_formula)"
   ]
  },
  {
   "cell_type": "code",
   "execution_count": null,
   "metadata": {
    "ExecuteTime": {
     "end_time": "2020-08-26T21:36:17.816213Z",
     "start_time": "2020-08-26T21:35:55.159Z"
    }
   },
   "outputs": [],
   "source": [
    "# target = 'price'\n",
    "# formula = target + ' ~ ' + featurelist"
   ]
  },
  {
   "cell_type": "code",
   "execution_count": null,
   "metadata": {
    "ExecuteTime": {
     "end_time": "2020-08-26T21:36:17.817214Z",
     "start_time": "2020-08-26T21:35:55.172Z"
    }
   },
   "outputs": [],
   "source": [
    "# model = smf.ols(formula=formula, data=minmaxscaled).fit()\n",
    "# display(model.summary())"
   ]
  },
  {
   "cell_type": "markdown",
   "metadata": {},
   "source": [
    "### Possible Model - Standardization with Z-Score Test"
   ]
  },
  {
   "cell_type": "code",
   "execution_count": null,
   "metadata": {
    "ExecuteTime": {
     "end_time": "2020-08-26T21:36:17.817214Z",
     "start_time": "2020-08-26T21:35:55.184Z"
    }
   },
   "outputs": [],
   "source": [
    "# # Get column names first\n",
    "# names = ohe_clean_data.columns\n",
    "\n",
    "# # Create the Scaler object\n",
    "# scaler = preprocessing.StandardScaler()\n",
    "\n",
    "# # Fit your data on the scaler object\n",
    "# scaled_df = scaler.fit_transform(minmaxscaled)\n",
    "# scaledstd_df = pd.DataFrame(scaled_df, columns=names)"
   ]
  },
  {
   "cell_type": "code",
   "execution_count": null,
   "metadata": {
    "ExecuteTime": {
     "end_time": "2020-08-26T21:36:17.818215Z",
     "start_time": "2020-08-26T21:35:55.198Z"
    }
   },
   "outputs": [],
   "source": [
    "# col_formula = list(scaledstd_df.columns)\n",
    "# col_formula.remove('price')\n",
    "# featurelist = ' + '.join(col_formula)"
   ]
  },
  {
   "cell_type": "code",
   "execution_count": null,
   "metadata": {
    "ExecuteTime": {
     "end_time": "2020-08-26T21:36:17.819215Z",
     "start_time": "2020-08-26T21:35:55.209Z"
    }
   },
   "outputs": [],
   "source": [
    "# target = 'price'\n",
    "# formula = target + ' ~ ' + featurelist"
   ]
  },
  {
   "cell_type": "code",
   "execution_count": null,
   "metadata": {
    "ExecuteTime": {
     "end_time": "2020-08-26T21:36:17.819215Z",
     "start_time": "2020-08-26T21:35:55.221Z"
    }
   },
   "outputs": [],
   "source": [
    "# model = smf.ols(formula=formula, data=scaledstd_df).fit()\n",
    "# display(model.summary())"
   ]
  },
  {
   "cell_type": "markdown",
   "metadata": {},
   "source": [
    "### Model - Removal of insignificant P-Value variables"
   ]
  },
  {
   "cell_type": "code",
   "execution_count": null,
   "metadata": {
    "ExecuteTime": {
     "end_time": "2020-08-26T21:36:17.820216Z",
     "start_time": "2020-08-26T21:35:55.234Z"
    }
   },
   "outputs": [],
   "source": [
    "sigp = model.pvalues > .05\n",
    "sigp = model.pvalues[~sigp]\n",
    "sigp_list = list(sigp.index[1:])"
   ]
  },
  {
   "cell_type": "code",
   "execution_count": null,
   "metadata": {
    "ExecuteTime": {
     "end_time": "2020-08-26T21:36:17.821217Z",
     "start_time": "2020-08-26T21:35:55.248Z"
    }
   },
   "outputs": [],
   "source": [
    "col_formula = sigp_list\n",
    "featurelist = ' + '.join(col_formula)"
   ]
  },
  {
   "cell_type": "code",
   "execution_count": null,
   "metadata": {
    "ExecuteTime": {
     "end_time": "2020-08-26T21:36:17.822219Z",
     "start_time": "2020-08-26T21:35:55.260Z"
    }
   },
   "outputs": [],
   "source": [
    "target = 'price'\n",
    "formula = target + ' ~ ' + featurelist"
   ]
  },
  {
   "cell_type": "code",
   "execution_count": null,
   "metadata": {
    "ExecuteTime": {
     "end_time": "2020-08-26T21:36:17.823219Z",
     "start_time": "2020-08-26T21:35:55.274Z"
    },
    "scrolled": false
   },
   "outputs": [],
   "source": [
    "model = smf.ols(formula=formula, data=ols_data).fit()\n",
    "display(model.summary())"
   ]
  },
  {
   "cell_type": "code",
   "execution_count": null,
   "metadata": {
    "ExecuteTime": {
     "end_time": "2020-08-26T21:36:17.824220Z",
     "start_time": "2020-08-26T21:35:55.286Z"
    }
   },
   "outputs": [],
   "source": [
    "fig = sm.graphics.qqplot(model.resid,fit=True, line='45')"
   ]
  },
  {
   "cell_type": "markdown",
   "metadata": {},
   "source": [
    "### Model - Dropping Non-Normal Numerical Variables"
   ]
  },
  {
   "cell_type": "code",
   "execution_count": null,
   "metadata": {
    "ExecuteTime": {
     "end_time": "2020-08-26T21:36:17.825222Z",
     "start_time": "2020-08-26T21:35:55.299Z"
    }
   },
   "outputs": [],
   "source": [
    "col_formula = list(scaled_norm_df.columns)\n",
    "col_formula.remove('price')\n",
    "featurelist = ' + '.join(col_formula)"
   ]
  },
  {
   "cell_type": "code",
   "execution_count": null,
   "metadata": {
    "ExecuteTime": {
     "end_time": "2020-08-26T21:36:17.826221Z",
     "start_time": "2020-08-26T21:35:55.313Z"
    }
   },
   "outputs": [],
   "source": [
    "target = 'price'\n",
    "formula = target + ' ~ ' + featurelist"
   ]
  },
  {
   "cell_type": "code",
   "execution_count": null,
   "metadata": {
    "ExecuteTime": {
     "end_time": "2020-08-26T21:36:17.826221Z",
     "start_time": "2020-08-26T21:35:55.326Z"
    },
    "scrolled": false
   },
   "outputs": [],
   "source": [
    "model = smf.ols(formula=formula, data=ols_data).fit()\n",
    "display(model.summary())"
   ]
  },
  {
   "cell_type": "code",
   "execution_count": null,
   "metadata": {
    "ExecuteTime": {
     "end_time": "2020-08-26T21:36:17.827223Z",
     "start_time": "2020-08-26T21:35:55.338Z"
    }
   },
   "outputs": [],
   "source": [
    "fig = sm.graphics.qqplot(model.resid,fit=True, line='45')"
   ]
  },
  {
   "cell_type": "markdown",
   "metadata": {},
   "source": [
    "### Model  - Removal of more Insignificant P-Values"
   ]
  },
  {
   "cell_type": "code",
   "execution_count": null,
   "metadata": {
    "ExecuteTime": {
     "end_time": "2020-08-26T21:36:17.828224Z",
     "start_time": "2020-08-26T21:35:55.352Z"
    }
   },
   "outputs": [],
   "source": [
    "sigp = model.pvalues > .05\n",
    "sigp = model.pvalues[~sigp]\n",
    "sigp_list = list(sigp.index[1:])"
   ]
  },
  {
   "cell_type": "code",
   "execution_count": null,
   "metadata": {
    "ExecuteTime": {
     "end_time": "2020-08-26T21:36:17.829224Z",
     "start_time": "2020-08-26T21:35:55.365Z"
    }
   },
   "outputs": [],
   "source": [
    "col_formula = sigp_list\n",
    "featurelist = ' + '.join(col_formula)"
   ]
  },
  {
   "cell_type": "code",
   "execution_count": null,
   "metadata": {
    "ExecuteTime": {
     "end_time": "2020-08-26T21:36:17.830226Z",
     "start_time": "2020-08-26T21:35:55.377Z"
    }
   },
   "outputs": [],
   "source": [
    "target = 'price'\n",
    "formula = target + ' ~ ' + featurelist\n",
    "formula"
   ]
  },
  {
   "cell_type": "code",
   "execution_count": null,
   "metadata": {
    "ExecuteTime": {
     "end_time": "2020-08-26T21:36:17.831226Z",
     "start_time": "2020-08-26T21:35:55.389Z"
    },
    "scrolled": true
   },
   "outputs": [],
   "source": [
    "model = smf.ols(formula=formula, data=ols_data).fit()\n",
    "display(model.summary())"
   ]
  },
  {
   "cell_type": "code",
   "execution_count": null,
   "metadata": {
    "ExecuteTime": {
     "end_time": "2020-08-26T21:36:17.831226Z",
     "start_time": "2020-08-26T21:35:55.401Z"
    }
   },
   "outputs": [],
   "source": [
    "fig = sm.graphics.qqplot(model.resid,fit=True, line='45')"
   ]
  },
  {
   "cell_type": "code",
   "execution_count": null,
   "metadata": {
    "ExecuteTime": {
     "end_time": "2020-08-26T21:36:17.832227Z",
     "start_time": "2020-08-26T21:35:55.414Z"
    }
   },
   "outputs": [],
   "source": [
    "ols_data['sqftlot', 'sqftbasement'].hist();"
   ]
  },
  {
   "cell_type": "code",
   "execution_count": null,
   "metadata": {
    "ExecuteTime": {
     "end_time": "2020-08-26T21:36:17.833228Z",
     "start_time": "2020-08-26T21:35:55.426Z"
    }
   },
   "outputs": [],
   "source": [
    "sigp = model.pvalues > .05\n",
    "sigp = model.pvalues[~sigp]\n",
    "sigp_list = list(sigp.index[1:])"
   ]
  },
  {
   "cell_type": "code",
   "execution_count": null,
   "metadata": {
    "ExecuteTime": {
     "end_time": "2020-08-26T21:36:17.834229Z",
     "start_time": "2020-08-26T21:35:55.438Z"
    }
   },
   "outputs": [],
   "source": [
    "sigp_list"
   ]
  },
  {
   "cell_type": "markdown",
   "metadata": {},
   "source": [
    "\n"
   ]
  },
  {
   "cell_type": "code",
   "execution_count": null,
   "metadata": {
    "ExecuteTime": {
     "end_time": "2020-08-26T21:36:17.835230Z",
     "start_time": "2020-08-26T21:35:55.451Z"
    }
   },
   "outputs": [],
   "source": [
    "initial = list(ols_data.columns)\n",
    "initial.remove('price')"
   ]
  },
  {
   "cell_type": "markdown",
   "metadata": {},
   "source": [
    "### VIF"
   ]
  },
  {
   "cell_type": "code",
   "execution_count": null,
   "metadata": {
    "ExecuteTime": {
     "end_time": "2020-08-26T21:36:17.836230Z",
     "start_time": "2020-08-26T21:35:55.468Z"
    }
   },
   "outputs": [],
   "source": [
    "from statsmodels.stats.outliers_influence import variance_inflation_factor    \n",
    "\n",
    "def calculate_vif_(X, thresh=5.0):\n",
    "    \"\"\"Credit: https://stats.stackexchange.com/questions/155028/how-to-systematically-remove-collinear-variables-in-python\n",
    "    x - dataframe \n",
    "    thresh - Variance influence threshold to remove variable. Default: 5\"\"\"\n",
    "    variables = list(range(X.shape[1]))\n",
    "    dropped = True\n",
    "    while dropped:\n",
    "        dropped = False\n",
    "        vif = [variance_inflation_factor(X.iloc[:, variables].values, ix)\n",
    "               for ix in range(X.iloc[:, variables].shape[1])]\n",
    "\n",
    "        maxloc = vif.index(max(vif))\n",
    "        if max(vif) > thresh:\n",
    "            print('dropping \\'' + X.iloc[:, variables].columns[maxloc] +\n",
    "                  '\\' at index: ' + str(maxloc))\n",
    "            del variables[maxloc]\n",
    "            dropped = True\n",
    "\n",
    "    print('Remaining variables:')\n",
    "    print(X.columns[variables])\n",
    "    return X.iloc[:, variables]"
   ]
  },
  {
   "cell_type": "code",
   "execution_count": null,
   "metadata": {},
   "outputs": [],
   "source": []
  },
  {
   "cell_type": "code",
   "execution_count": null,
   "metadata": {},
   "outputs": [],
   "source": []
  },
  {
   "cell_type": "code",
   "execution_count": null,
   "metadata": {},
   "outputs": [],
   "source": []
  },
  {
   "cell_type": "code",
   "execution_count": null,
   "metadata": {},
   "outputs": [],
   "source": []
  },
  {
   "cell_type": "code",
   "execution_count": null,
   "metadata": {},
   "outputs": [],
   "source": []
  },
  {
   "cell_type": "code",
   "execution_count": null,
   "metadata": {},
   "outputs": [],
   "source": []
  },
  {
   "cell_type": "code",
   "execution_count": null,
   "metadata": {},
   "outputs": [],
   "source": []
  },
  {
   "cell_type": "code",
   "execution_count": null,
   "metadata": {},
   "outputs": [],
   "source": []
  },
  {
   "cell_type": "code",
   "execution_count": null,
   "metadata": {},
   "outputs": [],
   "source": []
  },
  {
   "cell_type": "code",
   "execution_count": null,
   "metadata": {},
   "outputs": [],
   "source": []
  },
  {
   "cell_type": "code",
   "execution_count": null,
   "metadata": {},
   "outputs": [],
   "source": []
  },
  {
   "cell_type": "code",
   "execution_count": null,
   "metadata": {},
   "outputs": [],
   "source": []
  },
  {
   "cell_type": "code",
   "execution_count": null,
   "metadata": {},
   "outputs": [],
   "source": []
  },
  {
   "cell_type": "code",
   "execution_count": null,
   "metadata": {},
   "outputs": [],
   "source": []
  },
  {
   "cell_type": "code",
   "execution_count": null,
   "metadata": {},
   "outputs": [],
   "source": []
  },
  {
   "cell_type": "code",
   "execution_count": null,
   "metadata": {},
   "outputs": [],
   "source": []
  },
  {
   "cell_type": "code",
   "execution_count": null,
   "metadata": {
    "ExecuteTime": {
     "end_time": "2020-08-26T21:36:17.836230Z",
     "start_time": "2020-08-26T21:35:55.623Z"
    }
   },
   "outputs": [],
   "source": [
    "fselect = ols_data.drop(labels='price', axis=1)\n",
    "fselect"
   ]
  },
  {
   "cell_type": "code",
   "execution_count": null,
   "metadata": {
    "ExecuteTime": {
     "end_time": "2020-08-26T21:36:17.837231Z",
     "start_time": "2020-08-26T21:35:55.635Z"
    }
   },
   "outputs": [],
   "source": [
    "## Code credit: \n",
    "## https://datascience.stackexchange.com/questions/937/does-scikit-learn-have-forward-selection-stepwise-regression-algorithm\n",
    "\n",
    "def stepwise_selection(X, y, \n",
    "                       initial_list=[], \n",
    "                       threshold_in=0.01, \n",
    "                       threshold_out = 0.05, \n",
    "                       verbose=True):\n",
    "    \"\"\" Perform a forward-backward feature selection \n",
    "    based on p-value from statsmodels.api.OLS\n",
    "    Arguments:\n",
    "        X - pandas.DataFrame with candidate features\n",
    "        y - list-like with the target\n",
    "        initial_list - list of features to start with (column names of X)\n",
    "        threshold_in - include a feature if its p-value < threshold_in\n",
    "        threshold_out - exclude a feature if its p-value > threshold_out\n",
    "        verbose - whether to print the sequence of inclusions and exclusions\n",
    "    Returns: list of selected features \n",
    "    Always set threshold_in < threshold_out to avoid infinite looping.\n",
    "    See https://en.wikipedia.org/wiki/Stepwise_regression for the details\n",
    "    \"\"\"\n",
    "    included = list(initial_list)\n",
    "    while True:\n",
    "        changed=False\n",
    "        # forward step\n",
    "        excluded = list(set(X.columns)-set(included))\n",
    "        new_pval = pd.Series(index=excluded)\n",
    "        for new_column in excluded:\n",
    "            model = sm.OLS(y, sm.add_constant(pd.DataFrame(X[included+[new_column]]))).fit()\n",
    "            new_pval[new_column] = model.pvalues[new_column]\n",
    "        best_pval = new_pval.min()\n",
    "        if best_pval < threshold_in:\n",
    "            best_feature = new_pval.argmin()\n",
    "            included.append(best_feature)\n",
    "            changed=True\n",
    "            if verbose:\n",
    "                print('Add  {:30} with p-value {:.6}'.format(best_feature, best_pval))\n",
    "\n",
    "        # backward step\n",
    "        model = sm.OLS(y, sm.add_constant(pd.DataFrame(X[included]))).fit()\n",
    "        # use all coefs except intercept\n",
    "        pvalues = model.pvalues.iloc[1:]\n",
    "        worst_pval = pvalues.max() # null if pvalues is empty\n",
    "        if worst_pval > threshold_out:\n",
    "            changed=True\n",
    "            worst_feature = pvalues.argmax()\n",
    "            included.remove(worst_feature)\n",
    "            if verbose:\n",
    "                print('Drop {:30} with p-value {:.6}'.format(worst_feature, worst_pval))\n",
    "        if not changed:\n",
    "            break\n",
    "    return included"
   ]
  },
  {
   "cell_type": "code",
   "execution_count": null,
   "metadata": {
    "ExecuteTime": {
     "end_time": "2020-08-26T21:36:17.837231Z",
     "start_time": "2020-08-26T21:35:55.646Z"
    }
   },
   "outputs": [],
   "source": [
    "X = ols_data\n",
    "y = ols_data.price"
   ]
  },
  {
   "cell_type": "code",
   "execution_count": null,
   "metadata": {
    "ExecuteTime": {
     "end_time": "2020-08-26T21:36:17.838233Z",
     "start_time": "2020-08-26T21:35:55.658Z"
    }
   },
   "outputs": [],
   "source": [
    "features = stepwise_selection(X,y,verbose=True)\n"
   ]
  },
  {
   "cell_type": "code",
   "execution_count": null,
   "metadata": {},
   "outputs": [],
   "source": []
  },
  {
   "cell_type": "code",
   "execution_count": null,
   "metadata": {},
   "outputs": [],
   "source": []
  },
  {
   "cell_type": "code",
   "execution_count": null,
   "metadata": {
    "ExecuteTime": {
     "end_time": "2020-08-26T21:36:17.839233Z",
     "start_time": "2020-08-26T21:35:55.689Z"
    }
   },
   "outputs": [],
   "source": [
    "## Basic heatmap using a scatter plot to show the area and bands of increased\n",
    "## value homes\n",
    "\n",
    "data.plot.scatter(x='long', y='lat', c='price', alpha=.5, figsize=(20,15), \n",
    "                  cmap='Dark2', sharey=True, sharex=False);"
   ]
  },
  {
   "cell_type": "code",
   "execution_count": null,
   "metadata": {
    "ExecuteTime": {
     "end_time": "2020-08-26T21:36:17.840235Z",
     "start_time": "2020-08-26T21:35:55.700Z"
    }
   },
   "outputs": [],
   "source": [
    "## Heatmap to see general correlation of all data to extract \n",
    "## data for further analysis\n",
    "\n",
    "sns.set(context=\"notebook\", font=\"monospace\")\n",
    "corrmat = data.corr()\n",
    "mask = np.triu(np.ones_like(corrmat, dtype=np.bool))\n",
    "f, ax = plt.subplots(figsize=(12, 9))\n",
    "sns.heatmap(corrmat, mask=mask, vmax=.8, square=True, cmap='Blues');"
   ]
  },
  {
   "cell_type": "code",
   "execution_count": null,
   "metadata": {
    "ExecuteTime": {
     "end_time": "2020-08-26T21:36:17.841235Z",
     "start_time": "2020-08-26T21:35:55.713Z"
    }
   },
   "outputs": [],
   "source": [
    "## Data converted to advantageous data types.\n",
    "\n",
    "corr_cols = ['price', 'sqft_living15', 'sqft_above', 'grade', 'view', 'sqft_living', 'bathrooms']\n",
    "ind_var = data[corr_cols]\n",
    "\n",
    "ind_var['grade'] = ind_var['grade'].astype('category')\n",
    "ind_var['view'] = ind_var['view'].astype('category')\n",
    "\n",
    "display(ind_var.info())"
   ]
  },
  {
   "cell_type": "code",
   "execution_count": null,
   "metadata": {
    "ExecuteTime": {
     "end_time": "2020-08-26T21:36:17.841235Z",
     "start_time": "2020-08-26T21:35:55.725Z"
    }
   },
   "outputs": [],
   "source": [
    "## Scatter matrix to see the relationship betweem our chosen variables\n",
    "\n",
    "fig = px.scatter_matrix(data, dimensions=corr_cols, \n",
    "                        color='grade', title='Scatter Matrix with color by Grade',\n",
    "                        hover_name='id',\n",
    "                        width=1000, height=700,\n",
    "                        labels={col:col.replace('_', ' ') for col in data.columns}, template='ggplot2')\n",
    "fig.update_traces(diagonal_visible=False)\n",
    "fig.show()"
   ]
  },
  {
   "cell_type": "code",
   "execution_count": null,
   "metadata": {
    "ExecuteTime": {
     "end_time": "2020-08-26T21:36:17.842236Z",
     "start_time": "2020-08-26T21:35:55.737Z"
    }
   },
   "outputs": [],
   "source": [
    "## Make a DataFrame of Outliers, code credit of 2020 cohort study group\n",
    "## James Irving \n",
    "priceFmt = mpl.ticker.StrMethodFormatter(\"${x:,.0f}\")\n",
    "\n",
    "def find_outliers_z(data):\n",
    "    zFP = np.abs(stats.zscore(data))\n",
    "    zDF = pd.Series(zFP, index=data.index)\n",
    "    idx_outliers = zFP > 3\n",
    "    return idx_outliers"
   ]
  },
  {
   "cell_type": "code",
   "execution_count": null,
   "metadata": {
    "ExecuteTime": {
     "end_time": "2020-08-26T21:36:17.843237Z",
     "start_time": "2020-08-26T21:35:55.748Z"
    }
   },
   "outputs": [],
   "source": [
    "col_outliers = []\n",
    "o_data = {}\n",
    "\n",
    "for col in ind_var:\n",
    "    col_outliers.append(find_outliers_z(ind_var[col]))\n",
    "\n",
    "for x, col in enumerate(corr_cols):\n",
    "    o_data.update({col: col_outliers[x]})\n",
    "\n",
    "o_data"
   ]
  },
  {
   "cell_type": "code",
   "execution_count": null,
   "metadata": {
    "ExecuteTime": {
     "end_time": "2020-08-26T21:36:17.844238Z",
     "start_time": "2020-08-26T21:35:55.761Z"
    }
   },
   "outputs": [],
   "source": [
    "## Make a DataFrame of Outliers, code credit of 2020 cohort study group\n",
    "## James Irving typed\n",
    "\n",
    "df_outliers = pd.DataFrame(o_data)\n",
    "df_outliers['any'] = df_outliers.any(axis=1)\n",
    "## Add column of any outliers\n",
    "df_outliers['any'].value_counts()\n",
    "\n",
    "idx_outliers = df_outliers['any'].copy()\n"
   ]
  },
  {
   "cell_type": "code",
   "execution_count": null,
   "metadata": {
    "ExecuteTime": {
     "end_time": "2020-08-26T21:36:17.844238Z",
     "start_time": "2020-08-26T21:35:55.773Z"
    }
   },
   "outputs": [],
   "source": [
    "## Outlier data removed from chosen variables \n",
    "\n",
    "no_outliers = data[~idx_outliers].copy()"
   ]
  },
  {
   "cell_type": "code",
   "execution_count": null,
   "metadata": {
    "ExecuteTime": {
     "end_time": "2020-08-26T21:36:17.845239Z",
     "start_time": "2020-08-26T21:35:55.785Z"
    }
   },
   "outputs": [],
   "source": [
    "## Initial view of chosen variables\n",
    "\n",
    "price = no_outliers['price']\n",
    "\n",
    "sqft15 = no_outliers['sqft_living15']\n",
    "grade = no_outliers['grade']\n",
    "view = no_outliers['view']\n",
    "sqftliving = no_outliers['sqft_living']\n",
    "bathrooms = no_outliers['bathrooms']\n",
    "sqftabv = no_outliers['sqft_above']\n",
    "\n",
    "\n",
    "\n",
    "vis = [sqftliving, sqftabv, sqft15, view, bathrooms, grade]\n",
    "vis_str = ['sqft_living', 'sqft_above', 'sqft_living15', 'grade', 'view', 'bathrooms', 'price']\n",
    "\n",
    "for var in vis:\n",
    "    plot_data(var, price, xlabel=var.name)"
   ]
  },
  {
   "cell_type": "code",
   "execution_count": null,
   "metadata": {
    "ExecuteTime": {
     "end_time": "2020-08-26T21:36:17.846240Z",
     "start_time": "2020-08-26T21:35:55.797Z"
    }
   },
   "outputs": [],
   "source": [
    "## Linearty test\n",
    "\n",
    "fig, axes = plt.subplots(ncols=3, figsize=(12,6))\n",
    "\n",
    "for col, ax in zip(vis[:3], axes.flatten()[:7]):\n",
    "    sns.regplot(col, price, ax=ax, line_kws=dict(color='black',ls=':'))\n",
    "\n",
    "plt.tight_layout()\n",
    "fig.show() \n",
    "\n",
    "\n"
   ]
  },
  {
   "cell_type": "code",
   "execution_count": null,
   "metadata": {
    "ExecuteTime": {
     "end_time": "2020-08-26T21:36:17.846240Z",
     "start_time": "2020-08-26T21:35:55.809Z"
    }
   },
   "outputs": [],
   "source": [
    "## Normality test\n",
    "\n",
    "fig, axes = plt.subplots(ncols=3, figsize=(16,5))\n",
    "\n",
    "for col, ax in zip(vis[:3], axes.flatten()[:7]):\n",
    "    sns.distplot(col, ax=ax, bins='auto')\n",
    "\n",
    "plt.tight_layout()\n",
    "fig.show()  "
   ]
  },
  {
   "cell_type": "code",
   "execution_count": null,
   "metadata": {
    "ExecuteTime": {
     "end_time": "2020-08-26T21:36:17.847241Z",
     "start_time": "2020-08-26T21:35:55.822Z"
    }
   },
   "outputs": [],
   "source": [
    "## Model and formula work\n",
    "\n",
    "clean_data = no_outliers[vis_str]\n",
    "clean_data.info()"
   ]
  },
  {
   "cell_type": "code",
   "execution_count": null,
   "metadata": {
    "ExecuteTime": {
     "end_time": "2020-08-26T21:36:17.848241Z",
     "start_time": "2020-08-26T21:35:55.834Z"
    }
   },
   "outputs": [],
   "source": [
    "## Categorical column names\n",
    "\n",
    "cat = ['grade', 'view']\n",
    "num = ['sqft_living', 'sqft_above', 'sqft_living15', 'bathrooms']"
   ]
  },
  {
   "cell_type": "code",
   "execution_count": null,
   "metadata": {
    "ExecuteTime": {
     "end_time": "2020-08-26T21:36:17.849243Z",
     "start_time": "2020-08-26T21:35:55.849Z"
    }
   },
   "outputs": [],
   "source": [
    "## Writing the formula for the model\n",
    "\n",
    "cat_features = '+'.join([f\"C({col})\" for col in cat])\n",
    "features = '+'.join(num) + '+' + cat_features "
   ]
  },
  {
   "cell_type": "code",
   "execution_count": null,
   "metadata": {
    "ExecuteTime": {
     "end_time": "2020-08-26T21:36:17.849243Z",
     "start_time": "2020-08-26T21:35:55.863Z"
    }
   },
   "outputs": [],
   "source": [
    "## Finishing the formula for the model\n",
    "\n",
    "f = \"price ~\" + features\n",
    "f"
   ]
  },
  {
   "cell_type": "code",
   "execution_count": null,
   "metadata": {
    "ExecuteTime": {
     "end_time": "2020-08-26T21:36:17.850243Z",
     "start_time": "2020-08-26T21:35:55.876Z"
    }
   },
   "outputs": [],
   "source": [
    "## Model\n",
    "\n",
    "model =  smf.ols(f,clean_data).fit()\n",
    "model.summary()"
   ]
  },
  {
   "cell_type": "code",
   "execution_count": null,
   "metadata": {},
   "outputs": [],
   "source": []
  },
  {
   "cell_type": "code",
   "execution_count": null,
   "metadata": {},
   "outputs": [],
   "source": []
  },
  {
   "cell_type": "code",
   "execution_count": null,
   "metadata": {},
   "outputs": [],
   "source": []
  },
  {
   "cell_type": "code",
   "execution_count": null,
   "metadata": {},
   "outputs": [],
   "source": []
  },
  {
   "cell_type": "code",
   "execution_count": null,
   "metadata": {},
   "outputs": [],
   "source": []
  },
  {
   "cell_type": "code",
   "execution_count": null,
   "metadata": {},
   "outputs": [],
   "source": []
  },
  {
   "cell_type": "code",
   "execution_count": null,
   "metadata": {},
   "outputs": [],
   "source": []
  },
  {
   "cell_type": "code",
   "execution_count": null,
   "metadata": {},
   "outputs": [],
   "source": []
  },
  {
   "cell_type": "code",
   "execution_count": null,
   "metadata": {},
   "outputs": [],
   "source": []
  },
  {
   "cell_type": "code",
   "execution_count": null,
   "metadata": {
    "ExecuteTime": {
     "end_time": "2020-08-26T21:36:17.851244Z",
     "start_time": "2020-08-26T21:35:55.969Z"
    }
   },
   "outputs": [],
   "source": [
    "waterfront_data = data[data['waterfront'] == 1.0]\n",
    "print('Waterfront Property Mean Price:',round(waterfront_data['price'].mean(),2), 'and Median Price:',\n",
    "      round(waterfront_data['price'].median(),2))\n",
    "print('Full data mean price:', round(data['price'].mean(),2))\n",
    "\n",
    "waterfront_data.hist('price')\n",
    "\n",
    "wfd_zscores = stats.zscore(waterfront_data['price'], ddof=1)"
   ]
  },
  {
   "cell_type": "code",
   "execution_count": null,
   "metadata": {
    "ExecuteTime": {
     "end_time": "2020-08-26T21:36:17.852245Z",
     "start_time": "2020-08-26T21:35:55.980Z"
    }
   },
   "outputs": [],
   "source": [
    "waterfront_data['z_scores'] = wfd_zscores\n",
    "waterfront_data = waterfront_data[waterfront_data['z_scores']<3]\n",
    "waterfront_data.head()"
   ]
  },
  {
   "cell_type": "code",
   "execution_count": null,
   "metadata": {
    "ExecuteTime": {
     "end_time": "2020-08-26T21:36:17.853246Z",
     "start_time": "2020-08-26T21:35:55.992Z"
    }
   },
   "outputs": [],
   "source": [
    "test = data.copy()"
   ]
  },
  {
   "cell_type": "code",
   "execution_count": null,
   "metadata": {
    "ExecuteTime": {
     "end_time": "2020-08-26T21:36:17.853246Z",
     "start_time": "2020-08-26T21:35:56.004Z"
    }
   },
   "outputs": [],
   "source": [
    "mean = waterfront_data['price'].mean()\n",
    "print(mean)\n",
    "print(len(test))\n",
    "test = test\n",
    "test = test[test['price'] < mean]\n",
    "print(len(test))"
   ]
  },
  {
   "cell_type": "markdown",
   "metadata": {},
   "source": [
    "King County Building Grades\n",
    "\n",
    "Represents the construction quality of improvements. Grades run from grade 1 to 13. Generally defined as:\n",
    "\n",
    "1-3 Falls short of minimum building standards. Normally cabin or inferior structure.\n",
    "\n",
    "4 Generally older, low quality construction. Does not meet code.\n",
    "\n",
    "5 Low construction costs and workmanship. Small, simple design.\n",
    "\n",
    "6 Lowest grade currently meeting building code. Low quality materials and simple designs.\n",
    "\n",
    "7 Average grade of construction and design. Commonly seen in plats and older sub-divisions.\n",
    "\n",
    "8 Just above average in construction and design. Usually better materials in both the exterior and interior finish work.\n",
    "\n",
    "9 Better architectural design with extra interior and exterior design and quality.\n",
    "\n",
    "10 Homes of this quality generally have high quality features. Finish work is better and more design quality is seen in the floor plans. Generally have a larger square footage.\n",
    "\n",
    "11 Custom design and higher quality finish work with added amenities of solid woods, bathroom fixtures and more luxurious options.\n",
    "\n",
    "12 Custom design and excellent builders. All materials are of the highest quality and all conveniences are present.\n",
    "\n",
    "13 Generally custom designed and built. Mansion level. Large amount of highest quality cabinet work, wood trim, marble, entry ways etc."
   ]
  },
  {
   "cell_type": "code",
   "execution_count": null,
   "metadata": {
    "ExecuteTime": {
     "end_time": "2020-08-26T21:36:17.854247Z",
     "start_time": "2020-08-26T21:35:56.017Z"
    }
   },
   "outputs": [],
   "source": [
    "data.hist(figsize=(12,12))\n",
    "plt.show()"
   ]
  },
  {
   "cell_type": "code",
   "execution_count": null,
   "metadata": {
    "ExecuteTime": {
     "end_time": "2020-08-26T21:36:17.855248Z",
     "start_time": "2020-08-26T21:35:56.029Z"
    }
   },
   "outputs": [],
   "source": [
    "plt.figure(figsize=(15,12))\n",
    "sns.heatmap(data.corr(), annot=True)\n",
    "plt.show"
   ]
  },
  {
   "cell_type": "code",
   "execution_count": null,
   "metadata": {
    "ExecuteTime": {
     "end_time": "2020-08-26T21:36:17.856249Z",
     "start_time": "2020-08-26T21:35:56.041Z"
    }
   },
   "outputs": [],
   "source": [
    "data_zscore = stats.zscore(data, ddof=1)\n",
    "\n",
    "sqft_living15, sqft_above, grade, view, sqft_living, bathrooms"
   ]
  },
  {
   "cell_type": "code",
   "execution_count": null,
   "metadata": {},
   "outputs": [],
   "source": []
  }
 ],
 "metadata": {
  "kernelspec": {
   "display_name": "Python 3",
   "language": "python",
   "name": "python3"
  },
  "language_info": {
   "codemirror_mode": {
    "name": "ipython",
    "version": 3
   },
   "file_extension": ".py",
   "mimetype": "text/x-python",
   "name": "python",
   "nbconvert_exporter": "python",
   "pygments_lexer": "ipython3",
   "version": "3.6.9"
  },
  "toc": {
   "base_numbering": 1,
   "nav_menu": {},
   "number_sections": true,
   "sideBar": true,
   "skip_h1_title": false,
   "title_cell": "Table of Contents",
   "title_sidebar": "Contents",
   "toc_cell": false,
   "toc_position": {
    "height": "calc(100% - 180px)",
    "left": "10px",
    "top": "150px",
    "width": "512px"
   },
   "toc_section_display": true,
   "toc_window_display": true
  },
  "varInspector": {
   "cols": {
    "lenName": 16,
    "lenType": 16,
    "lenVar": 40
   },
   "kernels_config": {
    "python": {
     "delete_cmd_postfix": "",
     "delete_cmd_prefix": "del ",
     "library": "var_list.py",
     "varRefreshCmd": "print(var_dic_list())"
    },
    "r": {
     "delete_cmd_postfix": ") ",
     "delete_cmd_prefix": "rm(",
     "library": "var_list.r",
     "varRefreshCmd": "cat(var_dic_list()) "
    }
   },
   "position": {
    "height": "382px",
    "left": "2185px",
    "right": "20px",
    "top": "123px",
    "width": "355px"
   },
   "types_to_exclude": [
    "module",
    "function",
    "builtin_function_or_method",
    "instance",
    "_Feature"
   ],
   "window_display": false
  }
 },
 "nbformat": 4,
 "nbformat_minor": 2
}
